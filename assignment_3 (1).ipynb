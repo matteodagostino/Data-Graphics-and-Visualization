{
 "cells": [
  {
   "cell_type": "code",
   "execution_count": 4,
   "id": "edac7bd8-f563-40ae-abec-c4acadf3cef4",
   "metadata": {},
   "outputs": [],
   "source": [
    "#packages that will be used\n",
    "import pandas as pd\n",
    "import plotly.express as px\n",
    "import country_converter as coco"
   ]
  },
  {
   "cell_type": "code",
   "execution_count": 2,
   "id": "239be79a-6b5d-49fe-8459-374ca1d7affd",
   "metadata": {},
   "outputs": [
    {
     "data": {
      "text/html": [
       "<div>\n",
       "<style scoped>\n",
       "    .dataframe tbody tr th:only-of-type {\n",
       "        vertical-align: middle;\n",
       "    }\n",
       "\n",
       "    .dataframe tbody tr th {\n",
       "        vertical-align: top;\n",
       "    }\n",
       "\n",
       "    .dataframe thead th {\n",
       "        text-align: right;\n",
       "    }\n",
       "</style>\n",
       "<table border=\"1\" class=\"dataframe\">\n",
       "  <thead>\n",
       "    <tr style=\"text-align: right;\">\n",
       "      <th></th>\n",
       "      <th>Country</th>\n",
       "      <th>Sex</th>\n",
       "      <th>Year</th>\n",
       "      <th>Age group</th>\n",
       "      <th>Mean height</th>\n",
       "      <th>Mean height lower 95% uncertainty interval</th>\n",
       "      <th>Mean height upper 95% uncertainty interval</th>\n",
       "      <th>Mean height standard error</th>\n",
       "      <th>Continent</th>\n",
       "    </tr>\n",
       "  </thead>\n",
       "  <tbody>\n",
       "    <tr>\n",
       "      <th>0</th>\n",
       "      <td>Afghanistan</td>\n",
       "      <td>Boys</td>\n",
       "      <td>1985</td>\n",
       "      <td>5</td>\n",
       "      <td>103.315204</td>\n",
       "      <td>92.912414</td>\n",
       "      <td>113.712811</td>\n",
       "      <td>5.295555</td>\n",
       "      <td>Asia</td>\n",
       "    </tr>\n",
       "    <tr>\n",
       "      <th>1</th>\n",
       "      <td>Afghanistan</td>\n",
       "      <td>Boys</td>\n",
       "      <td>1985</td>\n",
       "      <td>6</td>\n",
       "      <td>109.235659</td>\n",
       "      <td>99.914439</td>\n",
       "      <td>118.282644</td>\n",
       "      <td>4.718901</td>\n",
       "      <td>Asia</td>\n",
       "    </tr>\n",
       "    <tr>\n",
       "      <th>2</th>\n",
       "      <td>Afghanistan</td>\n",
       "      <td>Boys</td>\n",
       "      <td>1985</td>\n",
       "      <td>7</td>\n",
       "      <td>114.759466</td>\n",
       "      <td>106.310048</td>\n",
       "      <td>123.003367</td>\n",
       "      <td>4.270250</td>\n",
       "      <td>Asia</td>\n",
       "    </tr>\n",
       "    <tr>\n",
       "      <th>3</th>\n",
       "      <td>Afghanistan</td>\n",
       "      <td>Boys</td>\n",
       "      <td>1985</td>\n",
       "      <td>8</td>\n",
       "      <td>120.002304</td>\n",
       "      <td>112.202520</td>\n",
       "      <td>127.549987</td>\n",
       "      <td>3.924385</td>\n",
       "      <td>Asia</td>\n",
       "    </tr>\n",
       "    <tr>\n",
       "      <th>4</th>\n",
       "      <td>Afghanistan</td>\n",
       "      <td>Boys</td>\n",
       "      <td>1985</td>\n",
       "      <td>9</td>\n",
       "      <td>125.077305</td>\n",
       "      <td>117.880359</td>\n",
       "      <td>132.153791</td>\n",
       "      <td>3.662401</td>\n",
       "      <td>Asia</td>\n",
       "    </tr>\n",
       "  </tbody>\n",
       "</table>\n",
       "</div>"
      ],
      "text/plain": [
       "       Country   Sex  Year  Age group  Mean height  \\\n",
       "0  Afghanistan  Boys  1985          5   103.315204   \n",
       "1  Afghanistan  Boys  1985          6   109.235659   \n",
       "2  Afghanistan  Boys  1985          7   114.759466   \n",
       "3  Afghanistan  Boys  1985          8   120.002304   \n",
       "4  Afghanistan  Boys  1985          9   125.077305   \n",
       "\n",
       "   Mean height lower 95% uncertainty interval  \\\n",
       "0                                   92.912414   \n",
       "1                                   99.914439   \n",
       "2                                  106.310048   \n",
       "3                                  112.202520   \n",
       "4                                  117.880359   \n",
       "\n",
       "   Mean height upper 95% uncertainty interval  Mean height standard error  \\\n",
       "0                                  113.712811                    5.295555   \n",
       "1                                  118.282644                    4.718901   \n",
       "2                                  123.003367                    4.270250   \n",
       "3                                  127.549987                    3.924385   \n",
       "4                                  132.153791                    3.662401   \n",
       "\n",
       "  Continent  \n",
       "0      Asia  \n",
       "1      Asia  \n",
       "2      Asia  \n",
       "3      Asia  \n",
       "4      Asia  "
      ]
     },
     "execution_count": 2,
     "metadata": {},
     "output_type": "execute_result"
    }
   ],
   "source": [
    "#importing the dataframe\n",
    "df = pd.read_csv(\"NCD_RisC_Lancet_2020_height_child_adolescent_country.csv\")\n",
    "#creating country converter object\n",
    "cc = coco.CountryConverter()\n",
    "#adding a new column continent (THIS RUNS VERY VERY SLOW IM SORRY)\n",
    "df['Continent'] = df['Country'].apply(lambda x: cc.convert(names = x, to = 'continent', not_found = None))\n",
    "#check if it even runs\n",
    "df.head()"
   ]
  },
  {
   "cell_type": "code",
   "execution_count": 5,
   "id": "65fefa92-de93-4dd3-adba-aa3962b1fa1c",
   "metadata": {},
   "outputs": [
    {
     "data": {
      "text/html": [
       "<div>\n",
       "<style scoped>\n",
       "    .dataframe tbody tr th:only-of-type {\n",
       "        vertical-align: middle;\n",
       "    }\n",
       "\n",
       "    .dataframe tbody tr th {\n",
       "        vertical-align: top;\n",
       "    }\n",
       "\n",
       "    .dataframe thead th {\n",
       "        text-align: right;\n",
       "    }\n",
       "</style>\n",
       "<table border=\"1\" class=\"dataframe\">\n",
       "  <thead>\n",
       "    <tr style=\"text-align: right;\">\n",
       "      <th></th>\n",
       "      <th>Continent</th>\n",
       "      <th>Country</th>\n",
       "      <th>Sex</th>\n",
       "      <th>Height</th>\n",
       "    </tr>\n",
       "  </thead>\n",
       "  <tbody>\n",
       "    <tr>\n",
       "      <th>0</th>\n",
       "      <td>Asia</td>\n",
       "      <td>Afghanistan</td>\n",
       "      <td>Boys</td>\n",
       "      <td>168.495201</td>\n",
       "    </tr>\n",
       "    <tr>\n",
       "      <th>1</th>\n",
       "      <td>Europe</td>\n",
       "      <td>Albania</td>\n",
       "      <td>Boys</td>\n",
       "      <td>174.070837</td>\n",
       "    </tr>\n",
       "    <tr>\n",
       "      <th>2</th>\n",
       "      <td>Africa</td>\n",
       "      <td>Algeria</td>\n",
       "      <td>Boys</td>\n",
       "      <td>175.040211</td>\n",
       "    </tr>\n",
       "    <tr>\n",
       "      <th>3</th>\n",
       "      <td>Oceania</td>\n",
       "      <td>American Samoa</td>\n",
       "      <td>Boys</td>\n",
       "      <td>177.094541</td>\n",
       "    </tr>\n",
       "    <tr>\n",
       "      <th>4</th>\n",
       "      <td>Europe</td>\n",
       "      <td>Andorra</td>\n",
       "      <td>Boys</td>\n",
       "      <td>178.842628</td>\n",
       "    </tr>\n",
       "  </tbody>\n",
       "</table>\n",
       "</div>"
      ],
      "text/plain": [
       "  Continent         Country   Sex      Height\n",
       "0      Asia     Afghanistan  Boys  168.495201\n",
       "1    Europe         Albania  Boys  174.070837\n",
       "2    Africa         Algeria  Boys  175.040211\n",
       "3   Oceania  American Samoa  Boys  177.094541\n",
       "4    Europe         Andorra  Boys  178.842628"
      ]
     },
     "execution_count": 5,
     "metadata": {},
     "output_type": "execute_result"
    }
   ],
   "source": [
    "#filter thru the data to create a new dataframe to hold the rows for adults > 18 and most recent year 2019\n",
    "adults = df[ (df['Age group'] > 18) & (df['Year'] == 2019) ].reset_index(drop = True)\n",
    "#drop all columns except continent, country, sex, mean height\n",
    "adults = adults[['Continent','Country','Sex','Mean height']]\n",
    "#rename specific column\n",
    "adults.rename(columns={'Mean height': 'Height'}, inplace=True)\n",
    "#show df\n",
    "adults.head()"
   ]
  },
  {
   "cell_type": "code",
   "execution_count": 16,
   "id": "ab15c9cb-68b9-4ec7-9f89-e283877fc128",
   "metadata": {},
   "outputs": [
    {
     "data": {
      "application/vnd.plotly.v1+json": {
       "config": {
        "plotlyServerURL": "https://plot.ly"
       },
       "data": [
        {
         "alignmentgroup": "True",
         "boxpoints": "all",
         "fillcolor": "rgba(255,255,255,0)",
         "hoveron": "points",
         "hovertemplate": "Height=%{x}<extra></extra>",
         "legendgroup": "",
         "line": {
          "color": "rgba(255,255,255,0)"
         },
         "marker": {
          "color": "#636efa"
         },
         "name": "",
         "offsetgroup": "",
         "orientation": "h",
         "pointpos": 0,
         "showlegend": false,
         "type": "box",
         "x": [
          168.4952011,
          174.0708368,
          175.0402113,
          177.0945415,
          178.8426285,
          168.4641737,
          178.8352709,
          174.7549826,
          173.6666502,
          178.7742139,
          178.5244202,
          174.0024021,
          174.3971299,
          172.7639303,
          165.0814781,
          177.0283641,
          178.6913126,
          179.0933196,
          170.5235404,
          168.4402856,
          179.7190928,
          167.047405,
          168.1020022,
          182.4739613,
          173.1562439,
          175.7294701,
          166.3107865,
          174.1662959,
          171.8936289,
          167.3366923,
          176.2878151,
          165.3497028,
          172.1273456,
          178.7495629,
          169.0103541,
          171.8384508,
          172.8758725,
          175.660861,
          174.8348959,
          171.8528689,
          167.724913,
          171.2318603,
          178.3230318,
          174.0413739,
          168.233546,
          180.7589162,
          173.5583982,
          172.748561,
          181.1866355,
          181.8926588,
          170.7670714,
          180.1526393,
          174.6498499,
          168.5966271,
          167.3196536,
          174.5695408,
          170.6696869,
          168.1772539,
          170.6043697,
          182.7907032,
          168.8434837,
          173.9764485,
          180.5693897,
          178.6048688,
          178.3164001,
          170.4814842,
          168.3550469,
          175.9786311,
          180.2812073,
          170.3046673,
          179.2597832,
          173.8437525,
          178.6999159,
          164.3575117,
          170.6992167,
          168.1699422,
          172.1502463,
          172.229052,
          169.5905441,
          176.5873222,
          182.1015752,
          166.4952701,
          166.2576675,
          175.6229328,
          173.7936893,
          179.0393832,
          175.9835635,
          174.4246967,
          176.9742253,
          172.0628269,
          174.8389689,
          175.4969273,
          170.4552667,
          170.0907706,
          174.9625093,
          171.6648048,
          162.7805915,
          181.1711171,
          178.9571414,
          167.9243988,
          165.4756122,
          176.3925096,
          180.7233147,
          178.4613975,
          176.4252473,
          165.1618753,
          165.6750686,
          169.2035,
          167.8666326,
          175.0153974,
          174.3767502,
          165.2644168,
          165.5443523,
          173.0061028,
          170.2864395,
          169.5719143,
          175.5891559,
          170.6720031,
          183.3021555,
          176.3518212,
          164.2967622,
          166.6975031,
          169.7457063,
          169.5697914,
          164.3637755,
          183.7823942,
          177.7186704,
          169.9128092,
          170.2606015,
          171.5504656,
          177.1925778,
          174.6881165,
          180.4752288,
          175.0450534,
          171.6956401,
          167.3251134,
          170.6244315,
          170.1901695,
          163.097954,
          173.8061773,
          166.7506016,
          165.2326888,
          180.6864059,
          174.3708516,
          179.48215,
          173.2724105,
          177.8235057,
          176.6489555,
          166.0231738,
          173.7116523,
          176.4339349,
          177.4938788,
          174.4168439,
          170.3699634,
          170.6654708,
          176.1772132,
          180.7387125,
          175.8975925,
          166.4285078,
          173.4965252,
          181.0154868,
          180.9774125,
          163.0694439,
          171.2173809,
          169.6258335,
          175.5218658,
          176.1060863,
          168.0746406,
          172.0735944,
          174.5144365,
          169.4058542,
          180.4567319,
          178.7319158,
          171.6420138,
          173.5286917,
          168.431278,
          166.9789255,
          171.611156,
          160.1305426,
          170.1359032,
          176.0558521,
          175.113118,
          176.0332708,
          176.8533816,
          176.3558226,
          174.3725659,
          171.2982381,
          168.7360393,
          180.9759732,
          174.0772556,
          178.2080213,
          176.9373331,
          174.3233096,
          170.9421714,
          168.2940483,
          173.5337221,
          168.8948369,
          164.4164471,
          167.6155929,
          170.6857544,
          156.1131365,
          162.228577,
          162.3471758,
          167.5515216,
          165.5339424,
          158.0968993,
          165.7236873,
          161.2204189,
          159.8502379,
          164.6657115,
          166.9267081,
          161.3748814,
          163.4605059,
          158.2908386,
          152.3776067,
          165.6637541,
          166.9286256,
          163.4017271,
          158.1200655,
          158.4004184,
          166.1100662,
          155.1525549,
          155.5752266,
          167.4703934,
          162.0619929,
          162.4109716,
          154.8975092,
          164.5763997,
          161.3260572,
          155.0750944,
          163.0984081,
          154.749508,
          160.4111854,
          164.7299393,
          159.6509569,
          162.124187,
          159.4177472,
          163.464143,
          160.6180502,
          157.9637321,
          156.5389135,
          158.7799374,
          167.3085696,
          160.357674,
          158.6523799,
          166.8030687,
          160.1349333,
          160.5529092,
          167.9634761,
          169.4706062,
          159.8239953,
          166.8884613,
          161.2094022,
          156.3007255,
          155.2489338,
          160.8845002,
          156.3895702,
          158.049563,
          157.5803008,
          168.6627596,
          157.1513304,
          164.2814691,
          166.4751191,
          164.4886274,
          166.518656,
          160.0451908,
          161.7281894,
          163.2390056,
          166.177267,
          158.8551002,
          165.8130758,
          161.3955504,
          165.9886854,
          150.9139679,
          158.7521597,
          158.7193539,
          159.5686675,
          160.5749918,
          155.1831397,
          162.5462546,
          168.9134842,
          155.1781714,
          154.3551613,
          161.1837018,
          158.748746,
          164.4968527,
          162.2225456,
          161.810158,
          164.3192602,
          158.5037434,
          159.4624081,
          161.7446106,
          159.4338103,
          161.0399239,
          160.1019556,
          160.2019309,
          153.0990839,
          168.8066284,
          163.6704906,
          156.7207687,
          156.5414075,
          162.5616604,
          167.6298923,
          165.0690213,
          160.8842672,
          153.0638056,
          156.1409983,
          157.0637126,
          154.2846913,
          161.9892021,
          162.9504739,
          154.757255,
          160.0617358,
          158.9428354,
          157.9019214,
          159.6585322,
          162.9612374,
          159.8935082,
          169.9608833,
          161.1808557,
          155.4209895,
          154.7139858,
          160.2561216,
          157.8220749,
          152.3889602,
          170.3612107,
          164.6600412,
          155.621106,
          159.8149349,
          158.137273,
          167.0322654,
          161.2175424,
          166.448307,
          161.2777263,
          158.4350097,
          154.7706078,
          159.517622,
          158.1864561,
          156.8944981,
          159.762217,
          154.3871646,
          154.144211,
          165.7761352,
          161.2271328,
          163.0573217,
          160.7157302,
          164.7308377,
          164.5173719,
          156.7193229,
          162.7824413,
          165.5245375,
          165.3026536,
          163.8159608,
          159.8104627,
          158.8377261,
          163.9240914,
          168.285067,
          162.4655675,
          157.335599,
          161.3047179,
          167.1227997,
          167.1975653,
          156.7888442,
          159.8572748,
          158.5787176,
          163.22541,
          162.027874,
          155.8757964,
          160.3617147,
          162.2638615,
          158.9213854,
          166.6739103,
          164.3299732,
          159.3794885,
          160.6953329,
          158.1217805,
          156.8863466,
          159.417654,
          152.7123349,
          159.1294047,
          166.0753995,
          166.0793945,
          163.3798399,
          161.6854548,
          161.80204,
          162.8271298,
          163.5700611,
          158.5279616,
          166.6226773,
          160.5303006,
          163.9391448,
          163.3118826,
          161.5584634,
          160.2883173,
          160.4836304,
          160.0370075,
          158.425687,
          154.7560774,
          157.3152177,
          159.8490637
         ],
         "x0": " ",
         "xaxis": "x",
         "y0": " ",
         "yaxis": "y"
        }
       ],
       "layout": {
        "boxmode": "group",
        "legend": {
         "tracegroupgap": 0
        },
        "template": {
         "data": {
          "bar": [
           {
            "error_x": {
             "color": "#2a3f5f"
            },
            "error_y": {
             "color": "#2a3f5f"
            },
            "marker": {
             "line": {
              "color": "#E5ECF6",
              "width": 0.5
             },
             "pattern": {
              "fillmode": "overlay",
              "size": 10,
              "solidity": 0.2
             }
            },
            "type": "bar"
           }
          ],
          "barpolar": [
           {
            "marker": {
             "line": {
              "color": "#E5ECF6",
              "width": 0.5
             },
             "pattern": {
              "fillmode": "overlay",
              "size": 10,
              "solidity": 0.2
             }
            },
            "type": "barpolar"
           }
          ],
          "carpet": [
           {
            "aaxis": {
             "endlinecolor": "#2a3f5f",
             "gridcolor": "white",
             "linecolor": "white",
             "minorgridcolor": "white",
             "startlinecolor": "#2a3f5f"
            },
            "baxis": {
             "endlinecolor": "#2a3f5f",
             "gridcolor": "white",
             "linecolor": "white",
             "minorgridcolor": "white",
             "startlinecolor": "#2a3f5f"
            },
            "type": "carpet"
           }
          ],
          "choropleth": [
           {
            "colorbar": {
             "outlinewidth": 0,
             "ticks": ""
            },
            "type": "choropleth"
           }
          ],
          "contour": [
           {
            "colorbar": {
             "outlinewidth": 0,
             "ticks": ""
            },
            "colorscale": [
             [
              0,
              "#0d0887"
             ],
             [
              0.1111111111111111,
              "#46039f"
             ],
             [
              0.2222222222222222,
              "#7201a8"
             ],
             [
              0.3333333333333333,
              "#9c179e"
             ],
             [
              0.4444444444444444,
              "#bd3786"
             ],
             [
              0.5555555555555556,
              "#d8576b"
             ],
             [
              0.6666666666666666,
              "#ed7953"
             ],
             [
              0.7777777777777778,
              "#fb9f3a"
             ],
             [
              0.8888888888888888,
              "#fdca26"
             ],
             [
              1,
              "#f0f921"
             ]
            ],
            "type": "contour"
           }
          ],
          "contourcarpet": [
           {
            "colorbar": {
             "outlinewidth": 0,
             "ticks": ""
            },
            "type": "contourcarpet"
           }
          ],
          "heatmap": [
           {
            "colorbar": {
             "outlinewidth": 0,
             "ticks": ""
            },
            "colorscale": [
             [
              0,
              "#0d0887"
             ],
             [
              0.1111111111111111,
              "#46039f"
             ],
             [
              0.2222222222222222,
              "#7201a8"
             ],
             [
              0.3333333333333333,
              "#9c179e"
             ],
             [
              0.4444444444444444,
              "#bd3786"
             ],
             [
              0.5555555555555556,
              "#d8576b"
             ],
             [
              0.6666666666666666,
              "#ed7953"
             ],
             [
              0.7777777777777778,
              "#fb9f3a"
             ],
             [
              0.8888888888888888,
              "#fdca26"
             ],
             [
              1,
              "#f0f921"
             ]
            ],
            "type": "heatmap"
           }
          ],
          "heatmapgl": [
           {
            "colorbar": {
             "outlinewidth": 0,
             "ticks": ""
            },
            "colorscale": [
             [
              0,
              "#0d0887"
             ],
             [
              0.1111111111111111,
              "#46039f"
             ],
             [
              0.2222222222222222,
              "#7201a8"
             ],
             [
              0.3333333333333333,
              "#9c179e"
             ],
             [
              0.4444444444444444,
              "#bd3786"
             ],
             [
              0.5555555555555556,
              "#d8576b"
             ],
             [
              0.6666666666666666,
              "#ed7953"
             ],
             [
              0.7777777777777778,
              "#fb9f3a"
             ],
             [
              0.8888888888888888,
              "#fdca26"
             ],
             [
              1,
              "#f0f921"
             ]
            ],
            "type": "heatmapgl"
           }
          ],
          "histogram": [
           {
            "marker": {
             "pattern": {
              "fillmode": "overlay",
              "size": 10,
              "solidity": 0.2
             }
            },
            "type": "histogram"
           }
          ],
          "histogram2d": [
           {
            "colorbar": {
             "outlinewidth": 0,
             "ticks": ""
            },
            "colorscale": [
             [
              0,
              "#0d0887"
             ],
             [
              0.1111111111111111,
              "#46039f"
             ],
             [
              0.2222222222222222,
              "#7201a8"
             ],
             [
              0.3333333333333333,
              "#9c179e"
             ],
             [
              0.4444444444444444,
              "#bd3786"
             ],
             [
              0.5555555555555556,
              "#d8576b"
             ],
             [
              0.6666666666666666,
              "#ed7953"
             ],
             [
              0.7777777777777778,
              "#fb9f3a"
             ],
             [
              0.8888888888888888,
              "#fdca26"
             ],
             [
              1,
              "#f0f921"
             ]
            ],
            "type": "histogram2d"
           }
          ],
          "histogram2dcontour": [
           {
            "colorbar": {
             "outlinewidth": 0,
             "ticks": ""
            },
            "colorscale": [
             [
              0,
              "#0d0887"
             ],
             [
              0.1111111111111111,
              "#46039f"
             ],
             [
              0.2222222222222222,
              "#7201a8"
             ],
             [
              0.3333333333333333,
              "#9c179e"
             ],
             [
              0.4444444444444444,
              "#bd3786"
             ],
             [
              0.5555555555555556,
              "#d8576b"
             ],
             [
              0.6666666666666666,
              "#ed7953"
             ],
             [
              0.7777777777777778,
              "#fb9f3a"
             ],
             [
              0.8888888888888888,
              "#fdca26"
             ],
             [
              1,
              "#f0f921"
             ]
            ],
            "type": "histogram2dcontour"
           }
          ],
          "mesh3d": [
           {
            "colorbar": {
             "outlinewidth": 0,
             "ticks": ""
            },
            "type": "mesh3d"
           }
          ],
          "parcoords": [
           {
            "line": {
             "colorbar": {
              "outlinewidth": 0,
              "ticks": ""
             }
            },
            "type": "parcoords"
           }
          ],
          "pie": [
           {
            "automargin": true,
            "type": "pie"
           }
          ],
          "scatter": [
           {
            "fillpattern": {
             "fillmode": "overlay",
             "size": 10,
             "solidity": 0.2
            },
            "type": "scatter"
           }
          ],
          "scatter3d": [
           {
            "line": {
             "colorbar": {
              "outlinewidth": 0,
              "ticks": ""
             }
            },
            "marker": {
             "colorbar": {
              "outlinewidth": 0,
              "ticks": ""
             }
            },
            "type": "scatter3d"
           }
          ],
          "scattercarpet": [
           {
            "marker": {
             "colorbar": {
              "outlinewidth": 0,
              "ticks": ""
             }
            },
            "type": "scattercarpet"
           }
          ],
          "scattergeo": [
           {
            "marker": {
             "colorbar": {
              "outlinewidth": 0,
              "ticks": ""
             }
            },
            "type": "scattergeo"
           }
          ],
          "scattergl": [
           {
            "marker": {
             "colorbar": {
              "outlinewidth": 0,
              "ticks": ""
             }
            },
            "type": "scattergl"
           }
          ],
          "scattermapbox": [
           {
            "marker": {
             "colorbar": {
              "outlinewidth": 0,
              "ticks": ""
             }
            },
            "type": "scattermapbox"
           }
          ],
          "scatterpolar": [
           {
            "marker": {
             "colorbar": {
              "outlinewidth": 0,
              "ticks": ""
             }
            },
            "type": "scatterpolar"
           }
          ],
          "scatterpolargl": [
           {
            "marker": {
             "colorbar": {
              "outlinewidth": 0,
              "ticks": ""
             }
            },
            "type": "scatterpolargl"
           }
          ],
          "scatterternary": [
           {
            "marker": {
             "colorbar": {
              "outlinewidth": 0,
              "ticks": ""
             }
            },
            "type": "scatterternary"
           }
          ],
          "surface": [
           {
            "colorbar": {
             "outlinewidth": 0,
             "ticks": ""
            },
            "colorscale": [
             [
              0,
              "#0d0887"
             ],
             [
              0.1111111111111111,
              "#46039f"
             ],
             [
              0.2222222222222222,
              "#7201a8"
             ],
             [
              0.3333333333333333,
              "#9c179e"
             ],
             [
              0.4444444444444444,
              "#bd3786"
             ],
             [
              0.5555555555555556,
              "#d8576b"
             ],
             [
              0.6666666666666666,
              "#ed7953"
             ],
             [
              0.7777777777777778,
              "#fb9f3a"
             ],
             [
              0.8888888888888888,
              "#fdca26"
             ],
             [
              1,
              "#f0f921"
             ]
            ],
            "type": "surface"
           }
          ],
          "table": [
           {
            "cells": {
             "fill": {
              "color": "#EBF0F8"
             },
             "line": {
              "color": "white"
             }
            },
            "header": {
             "fill": {
              "color": "#C8D4E3"
             },
             "line": {
              "color": "white"
             }
            },
            "type": "table"
           }
          ]
         },
         "layout": {
          "annotationdefaults": {
           "arrowcolor": "#2a3f5f",
           "arrowhead": 0,
           "arrowwidth": 1
          },
          "autotypenumbers": "strict",
          "coloraxis": {
           "colorbar": {
            "outlinewidth": 0,
            "ticks": ""
           }
          },
          "colorscale": {
           "diverging": [
            [
             0,
             "#8e0152"
            ],
            [
             0.1,
             "#c51b7d"
            ],
            [
             0.2,
             "#de77ae"
            ],
            [
             0.3,
             "#f1b6da"
            ],
            [
             0.4,
             "#fde0ef"
            ],
            [
             0.5,
             "#f7f7f7"
            ],
            [
             0.6,
             "#e6f5d0"
            ],
            [
             0.7,
             "#b8e186"
            ],
            [
             0.8,
             "#7fbc41"
            ],
            [
             0.9,
             "#4d9221"
            ],
            [
             1,
             "#276419"
            ]
           ],
           "sequential": [
            [
             0,
             "#0d0887"
            ],
            [
             0.1111111111111111,
             "#46039f"
            ],
            [
             0.2222222222222222,
             "#7201a8"
            ],
            [
             0.3333333333333333,
             "#9c179e"
            ],
            [
             0.4444444444444444,
             "#bd3786"
            ],
            [
             0.5555555555555556,
             "#d8576b"
            ],
            [
             0.6666666666666666,
             "#ed7953"
            ],
            [
             0.7777777777777778,
             "#fb9f3a"
            ],
            [
             0.8888888888888888,
             "#fdca26"
            ],
            [
             1,
             "#f0f921"
            ]
           ],
           "sequentialminus": [
            [
             0,
             "#0d0887"
            ],
            [
             0.1111111111111111,
             "#46039f"
            ],
            [
             0.2222222222222222,
             "#7201a8"
            ],
            [
             0.3333333333333333,
             "#9c179e"
            ],
            [
             0.4444444444444444,
             "#bd3786"
            ],
            [
             0.5555555555555556,
             "#d8576b"
            ],
            [
             0.6666666666666666,
             "#ed7953"
            ],
            [
             0.7777777777777778,
             "#fb9f3a"
            ],
            [
             0.8888888888888888,
             "#fdca26"
            ],
            [
             1,
             "#f0f921"
            ]
           ]
          },
          "colorway": [
           "#636efa",
           "#EF553B",
           "#00cc96",
           "#ab63fa",
           "#FFA15A",
           "#19d3f3",
           "#FF6692",
           "#B6E880",
           "#FF97FF",
           "#FECB52"
          ],
          "font": {
           "color": "#2a3f5f"
          },
          "geo": {
           "bgcolor": "white",
           "lakecolor": "white",
           "landcolor": "#E5ECF6",
           "showlakes": true,
           "showland": true,
           "subunitcolor": "white"
          },
          "hoverlabel": {
           "align": "left"
          },
          "hovermode": "closest",
          "mapbox": {
           "style": "light"
          },
          "paper_bgcolor": "white",
          "plot_bgcolor": "#E5ECF6",
          "polar": {
           "angularaxis": {
            "gridcolor": "white",
            "linecolor": "white",
            "ticks": ""
           },
           "bgcolor": "#E5ECF6",
           "radialaxis": {
            "gridcolor": "white",
            "linecolor": "white",
            "ticks": ""
           }
          },
          "scene": {
           "xaxis": {
            "backgroundcolor": "#E5ECF6",
            "gridcolor": "white",
            "gridwidth": 2,
            "linecolor": "white",
            "showbackground": true,
            "ticks": "",
            "zerolinecolor": "white"
           },
           "yaxis": {
            "backgroundcolor": "#E5ECF6",
            "gridcolor": "white",
            "gridwidth": 2,
            "linecolor": "white",
            "showbackground": true,
            "ticks": "",
            "zerolinecolor": "white"
           },
           "zaxis": {
            "backgroundcolor": "#E5ECF6",
            "gridcolor": "white",
            "gridwidth": 2,
            "linecolor": "white",
            "showbackground": true,
            "ticks": "",
            "zerolinecolor": "white"
           }
          },
          "shapedefaults": {
           "line": {
            "color": "#2a3f5f"
           }
          },
          "ternary": {
           "aaxis": {
            "gridcolor": "white",
            "linecolor": "white",
            "ticks": ""
           },
           "baxis": {
            "gridcolor": "white",
            "linecolor": "white",
            "ticks": ""
           },
           "bgcolor": "#E5ECF6",
           "caxis": {
            "gridcolor": "white",
            "linecolor": "white",
            "ticks": ""
           }
          },
          "title": {
           "x": 0.05
          },
          "xaxis": {
           "automargin": true,
           "gridcolor": "white",
           "linecolor": "white",
           "ticks": "",
           "title": {
            "standoff": 15
           },
           "zerolinecolor": "white",
           "zerolinewidth": 2
          },
          "yaxis": {
           "automargin": true,
           "gridcolor": "white",
           "linecolor": "white",
           "ticks": "",
           "title": {
            "standoff": 15
           },
           "zerolinecolor": "white",
           "zerolinewidth": 2
          }
         }
        },
        "title": {
         "text": "Strip Plot of Heights"
        },
        "xaxis": {
         "anchor": "y",
         "domain": [
          0,
          1
         ],
         "title": {
          "text": "Height"
         }
        },
        "yaxis": {
         "anchor": "x",
         "domain": [
          0,
          1
         ]
        }
       }
      },
      "image/png": "[encoded data removed]",
      "text/html": [
       "<div>                            <div id=\"67d57edb-142f-4c24-b355-f4035c5103c7\" class=\"plotly-graph-div\" style=\"height:525px; width:100%;\"></div>            <script type=\"text/javascript\">                require([\"plotly\"], function(Plotly) {                    window.PLOTLYENV=window.PLOTLYENV || {};                                    if (document.getElementById(\"67d57edb-142f-4c24-b355-f4035c5103c7\")) {                    Plotly.newPlot(                        \"67d57edb-142f-4c24-b355-f4035c5103c7\",                        [{\"alignmentgroup\":\"True\",\"boxpoints\":\"all\",\"fillcolor\":\"rgba(255,255,255,0)\",\"hoveron\":\"points\",\"hovertemplate\":\"Height=%{x}\\u003cextra\\u003e\\u003c\\u002fextra\\u003e\",\"legendgroup\":\"\",\"line\":{\"color\":\"rgba(255,255,255,0)\"},\"marker\":{\"color\":\"#636efa\"},\"name\":\"\",\"offsetgroup\":\"\",\"orientation\":\"h\",\"pointpos\":0,\"showlegend\":false,\"x\":[168.4952011,174.0708368,175.0402113,177.0945415,178.8426285,168.4641737,178.8352709,174.7549826,173.6666502,178.7742139,178.5244202,174.0024021,174.3971299,172.7639303,165.0814781,177.0283641,178.6913126,179.0933196,170.5235404,168.4402856,179.7190928,167.047405,168.1020022,182.4739613,173.1562439,175.7294701,166.3107865,174.1662959,171.8936289,167.3366923,176.2878151,165.3497028,172.1273456,178.7495629,169.0103541,171.8384508,172.8758725,175.660861,174.8348959,171.8528689,167.724913,171.2318603,178.3230318,174.0413739,168.233546,180.7589162,173.5583982,172.748561,181.1866355,181.8926588,170.7670714,180.1526393,174.6498499,168.5966271,167.3196536,174.5695408,170.6696869,168.1772539,170.6043697,182.7907032,168.8434837,173.9764485,180.5693897,178.6048688,178.3164001,170.4814842,168.3550469,175.9786311,180.2812073,170.3046673,179.2597832,173.8437525,178.6999159,164.3575117,170.6992167,168.1699422,172.1502463,172.229052,169.5905441,176.5873222,182.1015752,166.4952701,166.2576675,175.6229328,173.7936893,179.0393832,175.9835635,174.4246967,176.9742253,172.0628269,174.8389689,175.4969273,170.4552667,170.0907706,174.9625093,171.6648048,162.7805915,181.1711171,178.9571414,167.9243988,165.4756122,176.3925096,180.7233147,178.4613975,176.4252473,165.1618753,165.6750686,169.2035,167.8666326,175.0153974,174.3767502,165.2644168,165.5443523,173.0061028,170.2864395,169.5719143,175.5891559,170.6720031,183.3021555,176.3518212,164.2967622,166.6975031,169.7457063,169.5697914,164.3637755,183.7823942,177.7186704,169.9128092,170.2606015,171.5504656,177.1925778,174.6881165,180.4752288,175.0450534,171.6956401,167.3251134,170.6244315,170.1901695,163.097954,173.8061773,166.7506016,165.2326888,180.6864059,174.3708516,179.48215,173.2724105,177.8235057,176.6489555,166.0231738,173.7116523,176.4339349,177.4938788,174.4168439,170.3699634,170.6654708,176.1772132,180.7387125,175.8975925,166.4285078,173.4965252,181.0154868,180.9774125,163.0694439,171.2173809,169.6258335,175.5218658,176.1060863,168.0746406,172.0735944,174.5144365,169.4058542,180.4567319,178.7319158,171.6420138,173.5286917,168.431278,166.9789255,171.611156,160.1305426,170.1359032,176.0558521,175.113118,176.0332708,176.8533816,176.3558226,174.3725659,171.2982381,168.7360393,180.9759732,174.0772556,178.2080213,176.9373331,174.3233096,170.9421714,168.2940483,173.5337221,168.8948369,164.4164471,167.6155929,170.6857544,156.1131365,162.228577,162.3471758,167.5515216,165.5339424,158.0968993,165.7236873,161.2204189,159.8502379,164.6657115,166.9267081,161.3748814,163.4605059,158.2908386,152.3776067,165.6637541,166.9286256,163.4017271,158.1200655,158.4004184,166.1100662,155.1525549,155.5752266,167.4703934,162.0619929,162.4109716,154.8975092,164.5763997,161.3260572,155.0750944,163.0984081,154.749508,160.4111854,164.7299393,159.6509569,162.124187,159.4177472,163.464143,160.6180502,157.9637321,156.5389135,158.7799374,167.3085696,160.357674,158.6523799,166.8030687,160.1349333,160.5529092,167.9634761,169.4706062,159.8239953,166.8884613,161.2094022,156.3007255,155.2489338,160.8845002,156.3895702,158.049563,157.5803008,168.6627596,157.1513304,164.2814691,166.4751191,164.4886274,166.518656,160.0451908,161.7281894,163.2390056,166.177267,158.8551002,165.8130758,161.3955504,165.9886854,150.9139679,158.7521597,158.7193539,159.5686675,160.5749918,155.1831397,162.5462546,168.9134842,155.1781714,154.3551613,161.1837018,158.748746,164.4968527,162.2225456,161.810158,164.3192602,158.5037434,159.4624081,161.7446106,159.4338103,161.0399239,160.1019556,160.2019309,153.0990839,168.8066284,163.6704906,156.7207687,156.5414075,162.5616604,167.6298923,165.0690213,160.8842672,153.0638056,156.1409983,157.0637126,154.2846913,161.9892021,162.9504739,154.757255,160.0617358,158.9428354,157.9019214,159.6585322,162.9612374,159.8935082,169.9608833,161.1808557,155.4209895,154.7139858,160.2561216,157.8220749,152.3889602,170.3612107,164.6600412,155.621106,159.8149349,158.137273,167.0322654,161.2175424,166.448307,161.2777263,158.4350097,154.7706078,159.517622,158.1864561,156.8944981,159.762217,154.3871646,154.144211,165.7761352,161.2271328,163.0573217,160.7157302,164.7308377,164.5173719,156.7193229,162.7824413,165.5245375,165.3026536,163.8159608,159.8104627,158.8377261,163.9240914,168.285067,162.4655675,157.335599,161.3047179,167.1227997,167.1975653,156.7888442,159.8572748,158.5787176,163.22541,162.027874,155.8757964,160.3617147,162.2638615,158.9213854,166.6739103,164.3299732,159.3794885,160.6953329,158.1217805,156.8863466,159.417654,152.7123349,159.1294047,166.0753995,166.0793945,163.3798399,161.6854548,161.80204,162.8271298,163.5700611,158.5279616,166.6226773,160.5303006,163.9391448,163.3118826,161.5584634,160.2883173,160.4836304,160.0370075,158.425687,154.7560774,157.3152177,159.8490637],\"x0\":\" \",\"xaxis\":\"x\",\"y0\":\" \",\"yaxis\":\"y\",\"type\":\"box\"}],                        {\"template\":{\"data\":{\"histogram2dcontour\":[{\"type\":\"histogram2dcontour\",\"colorbar\":{\"outlinewidth\":0,\"ticks\":\"\"},\"colorscale\":[[0.0,\"#0d0887\"],[0.1111111111111111,\"#46039f\"],[0.2222222222222222,\"#7201a8\"],[0.3333333333333333,\"#9c179e\"],[0.4444444444444444,\"#bd3786\"],[0.5555555555555556,\"#d8576b\"],[0.6666666666666666,\"#ed7953\"],[0.7777777777777778,\"#fb9f3a\"],[0.8888888888888888,\"#fdca26\"],[1.0,\"#f0f921\"]]}],\"choropleth\":[{\"type\":\"choropleth\",\"colorbar\":{\"outlinewidth\":0,\"ticks\":\"\"}}],\"histogram2d\":[{\"type\":\"histogram2d\",\"colorbar\":{\"outlinewidth\":0,\"ticks\":\"\"},\"colorscale\":[[0.0,\"#0d0887\"],[0.1111111111111111,\"#46039f\"],[0.2222222222222222,\"#7201a8\"],[0.3333333333333333,\"#9c179e\"],[0.4444444444444444,\"#bd3786\"],[0.5555555555555556,\"#d8576b\"],[0.6666666666666666,\"#ed7953\"],[0.7777777777777778,\"#fb9f3a\"],[0.8888888888888888,\"#fdca26\"],[1.0,\"#f0f921\"]]}],\"heatmap\":[{\"type\":\"heatmap\",\"colorbar\":{\"outlinewidth\":0,\"ticks\":\"\"},\"colorscale\":[[0.0,\"#0d0887\"],[0.1111111111111111,\"#46039f\"],[0.2222222222222222,\"#7201a8\"],[0.3333333333333333,\"#9c179e\"],[0.4444444444444444,\"#bd3786\"],[0.5555555555555556,\"#d8576b\"],[0.6666666666666666,\"#ed7953\"],[0.7777777777777778,\"#fb9f3a\"],[0.8888888888888888,\"#fdca26\"],[1.0,\"#f0f921\"]]}],\"heatmapgl\":[{\"type\":\"heatmapgl\",\"colorbar\":{\"outlinewidth\":0,\"ticks\":\"\"},\"colorscale\":[[0.0,\"#0d0887\"],[0.1111111111111111,\"#46039f\"],[0.2222222222222222,\"#7201a8\"],[0.3333333333333333,\"#9c179e\"],[0.4444444444444444,\"#bd3786\"],[0.5555555555555556,\"#d8576b\"],[0.6666666666666666,\"#ed7953\"],[0.7777777777777778,\"#fb9f3a\"],[0.8888888888888888,\"#fdca26\"],[1.0,\"#f0f921\"]]}],\"contourcarpet\":[{\"type\":\"contourcarpet\",\"colorbar\":{\"outlinewidth\":0,\"ticks\":\"\"}}],\"contour\":[{\"type\":\"contour\",\"colorbar\":{\"outlinewidth\":0,\"ticks\":\"\"},\"colorscale\":[[0.0,\"#0d0887\"],[0.1111111111111111,\"#46039f\"],[0.2222222222222222,\"#7201a8\"],[0.3333333333333333,\"#9c179e\"],[0.4444444444444444,\"#bd3786\"],[0.5555555555555556,\"#d8576b\"],[0.6666666666666666,\"#ed7953\"],[0.7777777777777778,\"#fb9f3a\"],[0.8888888888888888,\"#fdca26\"],[1.0,\"#f0f921\"]]}],\"surface\":[{\"type\":\"surface\",\"colorbar\":{\"outlinewidth\":0,\"ticks\":\"\"},\"colorscale\":[[0.0,\"#0d0887\"],[0.1111111111111111,\"#46039f\"],[0.2222222222222222,\"#7201a8\"],[0.3333333333333333,\"#9c179e\"],[0.4444444444444444,\"#bd3786\"],[0.5555555555555556,\"#d8576b\"],[0.6666666666666666,\"#ed7953\"],[0.7777777777777778,\"#fb9f3a\"],[0.8888888888888888,\"#fdca26\"],[1.0,\"#f0f921\"]]}],\"mesh3d\":[{\"type\":\"mesh3d\",\"colorbar\":{\"outlinewidth\":0,\"ticks\":\"\"}}],\"scatter\":[{\"fillpattern\":{\"fillmode\":\"overlay\",\"size\":10,\"solidity\":0.2},\"type\":\"scatter\"}],\"parcoords\":[{\"type\":\"parcoords\",\"line\":{\"colorbar\":{\"outlinewidth\":0,\"ticks\":\"\"}}}],\"scatterpolargl\":[{\"type\":\"scatterpolargl\",\"marker\":{\"colorbar\":{\"outlinewidth\":0,\"ticks\":\"\"}}}],\"bar\":[{\"error_x\":{\"color\":\"#2a3f5f\"},\"error_y\":{\"color\":\"#2a3f5f\"},\"marker\":{\"line\":{\"color\":\"#E5ECF6\",\"width\":0.5},\"pattern\":{\"fillmode\":\"overlay\",\"size\":10,\"solidity\":0.2}},\"type\":\"bar\"}],\"scattergeo\":[{\"type\":\"scattergeo\",\"marker\":{\"colorbar\":{\"outlinewidth\":0,\"ticks\":\"\"}}}],\"scatterpolar\":[{\"type\":\"scatterpolar\",\"marker\":{\"colorbar\":{\"outlinewidth\":0,\"ticks\":\"\"}}}],\"histogram\":[{\"marker\":{\"pattern\":{\"fillmode\":\"overlay\",\"size\":10,\"solidity\":0.2}},\"type\":\"histogram\"}],\"scattergl\":[{\"type\":\"scattergl\",\"marker\":{\"colorbar\":{\"outlinewidth\":0,\"ticks\":\"\"}}}],\"scatter3d\":[{\"type\":\"scatter3d\",\"line\":{\"colorbar\":{\"outlinewidth\":0,\"ticks\":\"\"}},\"marker\":{\"colorbar\":{\"outlinewidth\":0,\"ticks\":\"\"}}}],\"scattermapbox\":[{\"type\":\"scattermapbox\",\"marker\":{\"colorbar\":{\"outlinewidth\":0,\"ticks\":\"\"}}}],\"scatterternary\":[{\"type\":\"scatterternary\",\"marker\":{\"colorbar\":{\"outlinewidth\":0,\"ticks\":\"\"}}}],\"scattercarpet\":[{\"type\":\"scattercarpet\",\"marker\":{\"colorbar\":{\"outlinewidth\":0,\"ticks\":\"\"}}}],\"carpet\":[{\"aaxis\":{\"endlinecolor\":\"#2a3f5f\",\"gridcolor\":\"white\",\"linecolor\":\"white\",\"minorgridcolor\":\"white\",\"startlinecolor\":\"#2a3f5f\"},\"baxis\":{\"endlinecolor\":\"#2a3f5f\",\"gridcolor\":\"white\",\"linecolor\":\"white\",\"minorgridcolor\":\"white\",\"startlinecolor\":\"#2a3f5f\"},\"type\":\"carpet\"}],\"table\":[{\"cells\":{\"fill\":{\"color\":\"#EBF0F8\"},\"line\":{\"color\":\"white\"}},\"header\":{\"fill\":{\"color\":\"#C8D4E3\"},\"line\":{\"color\":\"white\"}},\"type\":\"table\"}],\"barpolar\":[{\"marker\":{\"line\":{\"color\":\"#E5ECF6\",\"width\":0.5},\"pattern\":{\"fillmode\":\"overlay\",\"size\":10,\"solidity\":0.2}},\"type\":\"barpolar\"}],\"pie\":[{\"automargin\":true,\"type\":\"pie\"}]},\"layout\":{\"autotypenumbers\":\"strict\",\"colorway\":[\"#636efa\",\"#EF553B\",\"#00cc96\",\"#ab63fa\",\"#FFA15A\",\"#19d3f3\",\"#FF6692\",\"#B6E880\",\"#FF97FF\",\"#FECB52\"],\"font\":{\"color\":\"#2a3f5f\"},\"hovermode\":\"closest\",\"hoverlabel\":{\"align\":\"left\"},\"paper_bgcolor\":\"white\",\"plot_bgcolor\":\"#E5ECF6\",\"polar\":{\"bgcolor\":\"#E5ECF6\",\"angularaxis\":{\"gridcolor\":\"white\",\"linecolor\":\"white\",\"ticks\":\"\"},\"radialaxis\":{\"gridcolor\":\"white\",\"linecolor\":\"white\",\"ticks\":\"\"}},\"ternary\":{\"bgcolor\":\"#E5ECF6\",\"aaxis\":{\"gridcolor\":\"white\",\"linecolor\":\"white\",\"ticks\":\"\"},\"baxis\":{\"gridcolor\":\"white\",\"linecolor\":\"white\",\"ticks\":\"\"},\"caxis\":{\"gridcolor\":\"white\",\"linecolor\":\"white\",\"ticks\":\"\"}},\"coloraxis\":{\"colorbar\":{\"outlinewidth\":0,\"ticks\":\"\"}},\"colorscale\":{\"sequential\":[[0.0,\"#0d0887\"],[0.1111111111111111,\"#46039f\"],[0.2222222222222222,\"#7201a8\"],[0.3333333333333333,\"#9c179e\"],[0.4444444444444444,\"#bd3786\"],[0.5555555555555556,\"#d8576b\"],[0.6666666666666666,\"#ed7953\"],[0.7777777777777778,\"#fb9f3a\"],[0.8888888888888888,\"#fdca26\"],[1.0,\"#f0f921\"]],\"sequentialminus\":[[0.0,\"#0d0887\"],[0.1111111111111111,\"#46039f\"],[0.2222222222222222,\"#7201a8\"],[0.3333333333333333,\"#9c179e\"],[0.4444444444444444,\"#bd3786\"],[0.5555555555555556,\"#d8576b\"],[0.6666666666666666,\"#ed7953\"],[0.7777777777777778,\"#fb9f3a\"],[0.8888888888888888,\"#fdca26\"],[1.0,\"#f0f921\"]],\"diverging\":[[0,\"#8e0152\"],[0.1,\"#c51b7d\"],[0.2,\"#de77ae\"],[0.3,\"#f1b6da\"],[0.4,\"#fde0ef\"],[0.5,\"#f7f7f7\"],[0.6,\"#e6f5d0\"],[0.7,\"#b8e186\"],[0.8,\"#7fbc41\"],[0.9,\"#4d9221\"],[1,\"#276419\"]]},\"xaxis\":{\"gridcolor\":\"white\",\"linecolor\":\"white\",\"ticks\":\"\",\"title\":{\"standoff\":15},\"zerolinecolor\":\"white\",\"automargin\":true,\"zerolinewidth\":2},\"yaxis\":{\"gridcolor\":\"white\",\"linecolor\":\"white\",\"ticks\":\"\",\"title\":{\"standoff\":15},\"zerolinecolor\":\"white\",\"automargin\":true,\"zerolinewidth\":2},\"scene\":{\"xaxis\":{\"backgroundcolor\":\"#E5ECF6\",\"gridcolor\":\"white\",\"linecolor\":\"white\",\"showbackground\":true,\"ticks\":\"\",\"zerolinecolor\":\"white\",\"gridwidth\":2},\"yaxis\":{\"backgroundcolor\":\"#E5ECF6\",\"gridcolor\":\"white\",\"linecolor\":\"white\",\"showbackground\":true,\"ticks\":\"\",\"zerolinecolor\":\"white\",\"gridwidth\":2},\"zaxis\":{\"backgroundcolor\":\"#E5ECF6\",\"gridcolor\":\"white\",\"linecolor\":\"white\",\"showbackground\":true,\"ticks\":\"\",\"zerolinecolor\":\"white\",\"gridwidth\":2}},\"shapedefaults\":{\"line\":{\"color\":\"#2a3f5f\"}},\"annotationdefaults\":{\"arrowcolor\":\"#2a3f5f\",\"arrowhead\":0,\"arrowwidth\":1},\"geo\":{\"bgcolor\":\"white\",\"landcolor\":\"#E5ECF6\",\"subunitcolor\":\"white\",\"showland\":true,\"showlakes\":true,\"lakecolor\":\"white\"},\"title\":{\"x\":0.05},\"mapbox\":{\"style\":\"light\"}}},\"xaxis\":{\"anchor\":\"y\",\"domain\":[0.0,1.0],\"title\":{\"text\":\"Height\"}},\"yaxis\":{\"anchor\":\"x\",\"domain\":[0.0,1.0]},\"legend\":{\"tracegroupgap\":0},\"title\":{\"text\":\"Strip Plot of Heights\"},\"boxmode\":\"group\"},                        {\"responsive\": true}                    ).then(function(){\n",
       "                            \n",
       "var gd = document.getElementById('67d57edb-142f-4c24-b355-f4035c5103c7');\n",
       "var x = new MutationObserver(function (mutations, observer) {{\n",
       "        var display = window.getComputedStyle(gd).display;\n",
       "        if (!display || display === 'none') {{\n",
       "            console.log([gd, 'removed!']);\n",
       "            Plotly.purge(gd);\n",
       "            observer.disconnect();\n",
       "        }}\n",
       "}});\n",
       "\n",
       "// Listen for the removal of the full notebook cells\n",
       "var notebookContainer = gd.closest('#notebook-container');\n",
       "if (notebookContainer) {{\n",
       "    x.observe(notebookContainer, {childList: true});\n",
       "}}\n",
       "\n",
       "// Listen for the clearing of the current output cell\n",
       "var outputEl = gd.closest('.output');\n",
       "if (outputEl) {{\n",
       "    x.observe(outputEl, {childList: true});\n",
       "}}\n",
       "\n",
       "                        })                };                });            </script>        </div>"
      ]
     },
     "metadata": {},
     "output_type": "display_data"
    }
   ],
   "source": [
    "#creating the 1d visualizations\n",
    "#strip chart\n",
    "#whole data\n",
    "px.strip(adults, x=\"Height\", title=\"Strip Plot of Heights\")"
   ]
  },
  {
   "cell_type": "code",
   "execution_count": 17,
   "id": "3996068f-acef-46fa-866c-7489cdadf1c3",
   "metadata": {},
   "outputs": [
    {
     "data": {
      "application/vnd.plotly.v1+json": {
       "config": {
        "plotlyServerURL": "https://plot.ly"
       },
       "data": [
        {
         "alignmentgroup": "True",
         "boxpoints": "all",
         "fillcolor": "rgba(255,255,255,0)",
         "hoveron": "points",
         "hovertemplate": "Sex=Boys<br>Height=%{x}<extra></extra>",
         "legendgroup": "Boys",
         "line": {
          "color": "rgba(255,255,255,0)"
         },
         "marker": {
          "color": "#636efa"
         },
         "name": "Boys",
         "offsetgroup": "Boys",
         "orientation": "h",
         "pointpos": 0,
         "showlegend": true,
         "type": "box",
         "x": [
          168.4952011,
          174.0708368,
          175.0402113,
          177.0945415,
          178.8426285,
          168.4641737,
          178.8352709,
          174.7549826,
          173.6666502,
          178.7742139,
          178.5244202,
          174.0024021,
          174.3971299,
          172.7639303,
          165.0814781,
          177.0283641,
          178.6913126,
          179.0933196,
          170.5235404,
          168.4402856,
          179.7190928,
          167.047405,
          168.1020022,
          182.4739613,
          173.1562439,
          175.7294701,
          166.3107865,
          174.1662959,
          171.8936289,
          167.3366923,
          176.2878151,
          165.3497028,
          172.1273456,
          178.7495629,
          169.0103541,
          171.8384508,
          172.8758725,
          175.660861,
          174.8348959,
          171.8528689,
          167.724913,
          171.2318603,
          178.3230318,
          174.0413739,
          168.233546,
          180.7589162,
          173.5583982,
          172.748561,
          181.1866355,
          181.8926588,
          170.7670714,
          180.1526393,
          174.6498499,
          168.5966271,
          167.3196536,
          174.5695408,
          170.6696869,
          168.1772539,
          170.6043697,
          182.7907032,
          168.8434837,
          173.9764485,
          180.5693897,
          178.6048688,
          178.3164001,
          170.4814842,
          168.3550469,
          175.9786311,
          180.2812073,
          170.3046673,
          179.2597832,
          173.8437525,
          178.6999159,
          164.3575117,
          170.6992167,
          168.1699422,
          172.1502463,
          172.229052,
          169.5905441,
          176.5873222,
          182.1015752,
          166.4952701,
          166.2576675,
          175.6229328,
          173.7936893,
          179.0393832,
          175.9835635,
          174.4246967,
          176.9742253,
          172.0628269,
          174.8389689,
          175.4969273,
          170.4552667,
          170.0907706,
          174.9625093,
          171.6648048,
          162.7805915,
          181.1711171,
          178.9571414,
          167.9243988,
          165.4756122,
          176.3925096,
          180.7233147,
          178.4613975,
          176.4252473,
          165.1618753,
          165.6750686,
          169.2035,
          167.8666326,
          175.0153974,
          174.3767502,
          165.2644168,
          165.5443523,
          173.0061028,
          170.2864395,
          169.5719143,
          175.5891559,
          170.6720031,
          183.3021555,
          176.3518212,
          164.2967622,
          166.6975031,
          169.7457063,
          169.5697914,
          164.3637755,
          183.7823942,
          177.7186704,
          169.9128092,
          170.2606015,
          171.5504656,
          177.1925778,
          174.6881165,
          180.4752288,
          175.0450534,
          171.6956401,
          167.3251134,
          170.6244315,
          170.1901695,
          163.097954,
          173.8061773,
          166.7506016,
          165.2326888,
          180.6864059,
          174.3708516,
          179.48215,
          173.2724105,
          177.8235057,
          176.6489555,
          166.0231738,
          173.7116523,
          176.4339349,
          177.4938788,
          174.4168439,
          170.3699634,
          170.6654708,
          176.1772132,
          180.7387125,
          175.8975925,
          166.4285078,
          173.4965252,
          181.0154868,
          180.9774125,
          163.0694439,
          171.2173809,
          169.6258335,
          175.5218658,
          176.1060863,
          168.0746406,
          172.0735944,
          174.5144365,
          169.4058542,
          180.4567319,
          178.7319158,
          171.6420138,
          173.5286917,
          168.431278,
          166.9789255,
          171.611156,
          160.1305426,
          170.1359032,
          176.0558521,
          175.113118,
          176.0332708,
          176.8533816,
          176.3558226,
          174.3725659,
          171.2982381,
          168.7360393,
          180.9759732,
          174.0772556,
          178.2080213,
          176.9373331,
          174.3233096,
          170.9421714,
          168.2940483,
          173.5337221,
          168.8948369,
          164.4164471,
          167.6155929,
          170.6857544
         ],
         "x0": " ",
         "xaxis": "x",
         "y0": " ",
         "yaxis": "y"
        },
        {
         "alignmentgroup": "True",
         "boxpoints": "all",
         "fillcolor": "rgba(255,255,255,0)",
         "hoveron": "points",
         "hovertemplate": "Sex=Girls<br>Height=%{x}<extra></extra>",
         "legendgroup": "Girls",
         "line": {
          "color": "rgba(255,255,255,0)"
         },
         "marker": {
          "color": "#EF553B"
         },
         "name": "Girls",
         "offsetgroup": "Girls",
         "orientation": "h",
         "pointpos": 0,
         "showlegend": true,
         "type": "box",
         "x": [
          156.1131365,
          162.228577,
          162.3471758,
          167.5515216,
          165.5339424,
          158.0968993,
          165.7236873,
          161.2204189,
          159.8502379,
          164.6657115,
          166.9267081,
          161.3748814,
          163.4605059,
          158.2908386,
          152.3776067,
          165.6637541,
          166.9286256,
          163.4017271,
          158.1200655,
          158.4004184,
          166.1100662,
          155.1525549,
          155.5752266,
          167.4703934,
          162.0619929,
          162.4109716,
          154.8975092,
          164.5763997,
          161.3260572,
          155.0750944,
          163.0984081,
          154.749508,
          160.4111854,
          164.7299393,
          159.6509569,
          162.124187,
          159.4177472,
          163.464143,
          160.6180502,
          157.9637321,
          156.5389135,
          158.7799374,
          167.3085696,
          160.357674,
          158.6523799,
          166.8030687,
          160.1349333,
          160.5529092,
          167.9634761,
          169.4706062,
          159.8239953,
          166.8884613,
          161.2094022,
          156.3007255,
          155.2489338,
          160.8845002,
          156.3895702,
          158.049563,
          157.5803008,
          168.6627596,
          157.1513304,
          164.2814691,
          166.4751191,
          164.4886274,
          166.518656,
          160.0451908,
          161.7281894,
          163.2390056,
          166.177267,
          158.8551002,
          165.8130758,
          161.3955504,
          165.9886854,
          150.9139679,
          158.7521597,
          158.7193539,
          159.5686675,
          160.5749918,
          155.1831397,
          162.5462546,
          168.9134842,
          155.1781714,
          154.3551613,
          161.1837018,
          158.748746,
          164.4968527,
          162.2225456,
          161.810158,
          164.3192602,
          158.5037434,
          159.4624081,
          161.7446106,
          159.4338103,
          161.0399239,
          160.1019556,
          160.2019309,
          153.0990839,
          168.8066284,
          163.6704906,
          156.7207687,
          156.5414075,
          162.5616604,
          167.6298923,
          165.0690213,
          160.8842672,
          153.0638056,
          156.1409983,
          157.0637126,
          154.2846913,
          161.9892021,
          162.9504739,
          154.757255,
          160.0617358,
          158.9428354,
          157.9019214,
          159.6585322,
          162.9612374,
          159.8935082,
          169.9608833,
          161.1808557,
          155.4209895,
          154.7139858,
          160.2561216,
          157.8220749,
          152.3889602,
          170.3612107,
          164.6600412,
          155.621106,
          159.8149349,
          158.137273,
          167.0322654,
          161.2175424,
          166.448307,
          161.2777263,
          158.4350097,
          154.7706078,
          159.517622,
          158.1864561,
          156.8944981,
          159.762217,
          154.3871646,
          154.144211,
          165.7761352,
          161.2271328,
          163.0573217,
          160.7157302,
          164.7308377,
          164.5173719,
          156.7193229,
          162.7824413,
          165.5245375,
          165.3026536,
          163.8159608,
          159.8104627,
          158.8377261,
          163.9240914,
          168.285067,
          162.4655675,
          157.335599,
          161.3047179,
          167.1227997,
          167.1975653,
          156.7888442,
          159.8572748,
          158.5787176,
          163.22541,
          162.027874,
          155.8757964,
          160.3617147,
          162.2638615,
          158.9213854,
          166.6739103,
          164.3299732,
          159.3794885,
          160.6953329,
          158.1217805,
          156.8863466,
          159.417654,
          152.7123349,
          159.1294047,
          166.0753995,
          166.0793945,
          163.3798399,
          161.6854548,
          161.80204,
          162.8271298,
          163.5700611,
          158.5279616,
          166.6226773,
          160.5303006,
          163.9391448,
          163.3118826,
          161.5584634,
          160.2883173,
          160.4836304,
          160.0370075,
          158.425687,
          154.7560774,
          157.3152177,
          159.8490637
         ],
         "x0": " ",
         "xaxis": "x",
         "y0": " ",
         "yaxis": "y"
        }
       ],
       "layout": {
        "boxmode": "group",
        "legend": {
         "title": {
          "text": "Sex"
         },
         "tracegroupgap": 0
        },
        "template": {
         "data": {
          "bar": [
           {
            "error_x": {
             "color": "#2a3f5f"
            },
            "error_y": {
             "color": "#2a3f5f"
            },
            "marker": {
             "line": {
              "color": "#E5ECF6",
              "width": 0.5
             },
             "pattern": {
              "fillmode": "overlay",
              "size": 10,
              "solidity": 0.2
             }
            },
            "type": "bar"
           }
          ],
          "barpolar": [
           {
            "marker": {
             "line": {
              "color": "#E5ECF6",
              "width": 0.5
             },
             "pattern": {
              "fillmode": "overlay",
              "size": 10,
              "solidity": 0.2
             }
            },
            "type": "barpolar"
           }
          ],
          "carpet": [
           {
            "aaxis": {
             "endlinecolor": "#2a3f5f",
             "gridcolor": "white",
             "linecolor": "white",
             "minorgridcolor": "white",
             "startlinecolor": "#2a3f5f"
            },
            "baxis": {
             "endlinecolor": "#2a3f5f",
             "gridcolor": "white",
             "linecolor": "white",
             "minorgridcolor": "white",
             "startlinecolor": "#2a3f5f"
            },
            "type": "carpet"
           }
          ],
          "choropleth": [
           {
            "colorbar": {
             "outlinewidth": 0,
             "ticks": ""
            },
            "type": "choropleth"
           }
          ],
          "contour": [
           {
            "colorbar": {
             "outlinewidth": 0,
             "ticks": ""
            },
            "colorscale": [
             [
              0,
              "#0d0887"
             ],
             [
              0.1111111111111111,
              "#46039f"
             ],
             [
              0.2222222222222222,
              "#7201a8"
             ],
             [
              0.3333333333333333,
              "#9c179e"
             ],
             [
              0.4444444444444444,
              "#bd3786"
             ],
             [
              0.5555555555555556,
              "#d8576b"
             ],
             [
              0.6666666666666666,
              "#ed7953"
             ],
             [
              0.7777777777777778,
              "#fb9f3a"
             ],
             [
              0.8888888888888888,
              "#fdca26"
             ],
             [
              1,
              "#f0f921"
             ]
            ],
            "type": "contour"
           }
          ],
          "contourcarpet": [
           {
            "colorbar": {
             "outlinewidth": 0,
             "ticks": ""
            },
            "type": "contourcarpet"
           }
          ],
          "heatmap": [
           {
            "colorbar": {
             "outlinewidth": 0,
             "ticks": ""
            },
            "colorscale": [
             [
              0,
              "#0d0887"
             ],
             [
              0.1111111111111111,
              "#46039f"
             ],
             [
              0.2222222222222222,
              "#7201a8"
             ],
             [
              0.3333333333333333,
              "#9c179e"
             ],
             [
              0.4444444444444444,
              "#bd3786"
             ],
             [
              0.5555555555555556,
              "#d8576b"
             ],
             [
              0.6666666666666666,
              "#ed7953"
             ],
             [
              0.7777777777777778,
              "#fb9f3a"
             ],
             [
              0.8888888888888888,
              "#fdca26"
             ],
             [
              1,
              "#f0f921"
             ]
            ],
            "type": "heatmap"
           }
          ],
          "heatmapgl": [
           {
            "colorbar": {
             "outlinewidth": 0,
             "ticks": ""
            },
            "colorscale": [
             [
              0,
              "#0d0887"
             ],
             [
              0.1111111111111111,
              "#46039f"
             ],
             [
              0.2222222222222222,
              "#7201a8"
             ],
             [
              0.3333333333333333,
              "#9c179e"
             ],
             [
              0.4444444444444444,
              "#bd3786"
             ],
             [
              0.5555555555555556,
              "#d8576b"
             ],
             [
              0.6666666666666666,
              "#ed7953"
             ],
             [
              0.7777777777777778,
              "#fb9f3a"
             ],
             [
              0.8888888888888888,
              "#fdca26"
             ],
             [
              1,
              "#f0f921"
             ]
            ],
            "type": "heatmapgl"
           }
          ],
          "histogram": [
           {
            "marker": {
             "pattern": {
              "fillmode": "overlay",
              "size": 10,
              "solidity": 0.2
             }
            },
            "type": "histogram"
           }
          ],
          "histogram2d": [
           {
            "colorbar": {
             "outlinewidth": 0,
             "ticks": ""
            },
            "colorscale": [
             [
              0,
              "#0d0887"
             ],
             [
              0.1111111111111111,
              "#46039f"
             ],
             [
              0.2222222222222222,
              "#7201a8"
             ],
             [
              0.3333333333333333,
              "#9c179e"
             ],
             [
              0.4444444444444444,
              "#bd3786"
             ],
             [
              0.5555555555555556,
              "#d8576b"
             ],
             [
              0.6666666666666666,
              "#ed7953"
             ],
             [
              0.7777777777777778,
              "#fb9f3a"
             ],
             [
              0.8888888888888888,
              "#fdca26"
             ],
             [
              1,
              "#f0f921"
             ]
            ],
            "type": "histogram2d"
           }
          ],
          "histogram2dcontour": [
           {
            "colorbar": {
             "outlinewidth": 0,
             "ticks": ""
            },
            "colorscale": [
             [
              0,
              "#0d0887"
             ],
             [
              0.1111111111111111,
              "#46039f"
             ],
             [
              0.2222222222222222,
              "#7201a8"
             ],
             [
              0.3333333333333333,
              "#9c179e"
             ],
             [
              0.4444444444444444,
              "#bd3786"
             ],
             [
              0.5555555555555556,
              "#d8576b"
             ],
             [
              0.6666666666666666,
              "#ed7953"
             ],
             [
              0.7777777777777778,
              "#fb9f3a"
             ],
             [
              0.8888888888888888,
              "#fdca26"
             ],
             [
              1,
              "#f0f921"
             ]
            ],
            "type": "histogram2dcontour"
           }
          ],
          "mesh3d": [
           {
            "colorbar": {
             "outlinewidth": 0,
             "ticks": ""
            },
            "type": "mesh3d"
           }
          ],
          "parcoords": [
           {
            "line": {
             "colorbar": {
              "outlinewidth": 0,
              "ticks": ""
             }
            },
            "type": "parcoords"
           }
          ],
          "pie": [
           {
            "automargin": true,
            "type": "pie"
           }
          ],
          "scatter": [
           {
            "fillpattern": {
             "fillmode": "overlay",
             "size": 10,
             "solidity": 0.2
            },
            "type": "scatter"
           }
          ],
          "scatter3d": [
           {
            "line": {
             "colorbar": {
              "outlinewidth": 0,
              "ticks": ""
             }
            },
            "marker": {
             "colorbar": {
              "outlinewidth": 0,
              "ticks": ""
             }
            },
            "type": "scatter3d"
           }
          ],
          "scattercarpet": [
           {
            "marker": {
             "colorbar": {
              "outlinewidth": 0,
              "ticks": ""
             }
            },
            "type": "scattercarpet"
           }
          ],
          "scattergeo": [
           {
            "marker": {
             "colorbar": {
              "outlinewidth": 0,
              "ticks": ""
             }
            },
            "type": "scattergeo"
           }
          ],
          "scattergl": [
           {
            "marker": {
             "colorbar": {
              "outlinewidth": 0,
              "ticks": ""
             }
            },
            "type": "scattergl"
           }
          ],
          "scattermapbox": [
           {
            "marker": {
             "colorbar": {
              "outlinewidth": 0,
              "ticks": ""
             }
            },
            "type": "scattermapbox"
           }
          ],
          "scatterpolar": [
           {
            "marker": {
             "colorbar": {
              "outlinewidth": 0,
              "ticks": ""
             }
            },
            "type": "scatterpolar"
           }
          ],
          "scatterpolargl": [
           {
            "marker": {
             "colorbar": {
              "outlinewidth": 0,
              "ticks": ""
             }
            },
            "type": "scatterpolargl"
           }
          ],
          "scatterternary": [
           {
            "marker": {
             "colorbar": {
              "outlinewidth": 0,
              "ticks": ""
             }
            },
            "type": "scatterternary"
           }
          ],
          "surface": [
           {
            "colorbar": {
             "outlinewidth": 0,
             "ticks": ""
            },
            "colorscale": [
             [
              0,
              "#0d0887"
             ],
             [
              0.1111111111111111,
              "#46039f"
             ],
             [
              0.2222222222222222,
              "#7201a8"
             ],
             [
              0.3333333333333333,
              "#9c179e"
             ],
             [
              0.4444444444444444,
              "#bd3786"
             ],
             [
              0.5555555555555556,
              "#d8576b"
             ],
             [
              0.6666666666666666,
              "#ed7953"
             ],
             [
              0.7777777777777778,
              "#fb9f3a"
             ],
             [
              0.8888888888888888,
              "#fdca26"
             ],
             [
              1,
              "#f0f921"
             ]
            ],
            "type": "surface"
           }
          ],
          "table": [
           {
            "cells": {
             "fill": {
              "color": "#EBF0F8"
             },
             "line": {
              "color": "white"
             }
            },
            "header": {
             "fill": {
              "color": "#C8D4E3"
             },
             "line": {
              "color": "white"
             }
            },
            "type": "table"
           }
          ]
         },
         "layout": {
          "annotationdefaults": {
           "arrowcolor": "#2a3f5f",
           "arrowhead": 0,
           "arrowwidth": 1
          },
          "autotypenumbers": "strict",
          "coloraxis": {
           "colorbar": {
            "outlinewidth": 0,
            "ticks": ""
           }
          },
          "colorscale": {
           "diverging": [
            [
             0,
             "#8e0152"
            ],
            [
             0.1,
             "#c51b7d"
            ],
            [
             0.2,
             "#de77ae"
            ],
            [
             0.3,
             "#f1b6da"
            ],
            [
             0.4,
             "#fde0ef"
            ],
            [
             0.5,
             "#f7f7f7"
            ],
            [
             0.6,
             "#e6f5d0"
            ],
            [
             0.7,
             "#b8e186"
            ],
            [
             0.8,
             "#7fbc41"
            ],
            [
             0.9,
             "#4d9221"
            ],
            [
             1,
             "#276419"
            ]
           ],
           "sequential": [
            [
             0,
             "#0d0887"
            ],
            [
             0.1111111111111111,
             "#46039f"
            ],
            [
             0.2222222222222222,
             "#7201a8"
            ],
            [
             0.3333333333333333,
             "#9c179e"
            ],
            [
             0.4444444444444444,
             "#bd3786"
            ],
            [
             0.5555555555555556,
             "#d8576b"
            ],
            [
             0.6666666666666666,
             "#ed7953"
            ],
            [
             0.7777777777777778,
             "#fb9f3a"
            ],
            [
             0.8888888888888888,
             "#fdca26"
            ],
            [
             1,
             "#f0f921"
            ]
           ],
           "sequentialminus": [
            [
             0,
             "#0d0887"
            ],
            [
             0.1111111111111111,
             "#46039f"
            ],
            [
             0.2222222222222222,
             "#7201a8"
            ],
            [
             0.3333333333333333,
             "#9c179e"
            ],
            [
             0.4444444444444444,
             "#bd3786"
            ],
            [
             0.5555555555555556,
             "#d8576b"
            ],
            [
             0.6666666666666666,
             "#ed7953"
            ],
            [
             0.7777777777777778,
             "#fb9f3a"
            ],
            [
             0.8888888888888888,
             "#fdca26"
            ],
            [
             1,
             "#f0f921"
            ]
           ]
          },
          "colorway": [
           "#636efa",
           "#EF553B",
           "#00cc96",
           "#ab63fa",
           "#FFA15A",
           "#19d3f3",
           "#FF6692",
           "#B6E880",
           "#FF97FF",
           "#FECB52"
          ],
          "font": {
           "color": "#2a3f5f"
          },
          "geo": {
           "bgcolor": "white",
           "lakecolor": "white",
           "landcolor": "#E5ECF6",
           "showlakes": true,
           "showland": true,
           "subunitcolor": "white"
          },
          "hoverlabel": {
           "align": "left"
          },
          "hovermode": "closest",
          "mapbox": {
           "style": "light"
          },
          "paper_bgcolor": "white",
          "plot_bgcolor": "#E5ECF6",
          "polar": {
           "angularaxis": {
            "gridcolor": "white",
            "linecolor": "white",
            "ticks": ""
           },
           "bgcolor": "#E5ECF6",
           "radialaxis": {
            "gridcolor": "white",
            "linecolor": "white",
            "ticks": ""
           }
          },
          "scene": {
           "xaxis": {
            "backgroundcolor": "#E5ECF6",
            "gridcolor": "white",
            "gridwidth": 2,
            "linecolor": "white",
            "showbackground": true,
            "ticks": "",
            "zerolinecolor": "white"
           },
           "yaxis": {
            "backgroundcolor": "#E5ECF6",
            "gridcolor": "white",
            "gridwidth": 2,
            "linecolor": "white",
            "showbackground": true,
            "ticks": "",
            "zerolinecolor": "white"
           },
           "zaxis": {
            "backgroundcolor": "#E5ECF6",
            "gridcolor": "white",
            "gridwidth": 2,
            "linecolor": "white",
            "showbackground": true,
            "ticks": "",
            "zerolinecolor": "white"
           }
          },
          "shapedefaults": {
           "line": {
            "color": "#2a3f5f"
           }
          },
          "ternary": {
           "aaxis": {
            "gridcolor": "white",
            "linecolor": "white",
            "ticks": ""
           },
           "baxis": {
            "gridcolor": "white",
            "linecolor": "white",
            "ticks": ""
           },
           "bgcolor": "#E5ECF6",
           "caxis": {
            "gridcolor": "white",
            "linecolor": "white",
            "ticks": ""
           }
          },
          "title": {
           "x": 0.05
          },
          "xaxis": {
           "automargin": true,
           "gridcolor": "white",
           "linecolor": "white",
           "ticks": "",
           "title": {
            "standoff": 15
           },
           "zerolinecolor": "white",
           "zerolinewidth": 2
          },
          "yaxis": {
           "automargin": true,
           "gridcolor": "white",
           "linecolor": "white",
           "ticks": "",
           "title": {
            "standoff": 15
           },
           "zerolinecolor": "white",
           "zerolinewidth": 2
          }
         }
        },
        "title": {
         "text": "Strip Plot of Heights by Sex"
        },
        "xaxis": {
         "anchor": "y",
         "domain": [
          0,
          1
         ],
         "title": {
          "text": "Height"
         }
        },
        "yaxis": {
         "anchor": "x",
         "domain": [
          0,
          1
         ]
        }
       }
      },
      "image/png": "[encoded data removed]",
      "text/html": [
       "<div>                            <div id=\"0538ea31-2de9-4b8d-be50-cb35c3891ee7\" class=\"plotly-graph-div\" style=\"height:525px; width:100%;\"></div>            <script type=\"text/javascript\">                require([\"plotly\"], function(Plotly) {                    window.PLOTLYENV=window.PLOTLYENV || {};                                    if (document.getElementById(\"0538ea31-2de9-4b8d-be50-cb35c3891ee7\")) {                    Plotly.newPlot(                        \"0538ea31-2de9-4b8d-be50-cb35c3891ee7\",                        [{\"alignmentgroup\":\"True\",\"boxpoints\":\"all\",\"fillcolor\":\"rgba(255,255,255,0)\",\"hoveron\":\"points\",\"hovertemplate\":\"Sex=Boys\\u003cbr\\u003eHeight=%{x}\\u003cextra\\u003e\\u003c\\u002fextra\\u003e\",\"legendgroup\":\"Boys\",\"line\":{\"color\":\"rgba(255,255,255,0)\"},\"marker\":{\"color\":\"#636efa\"},\"name\":\"Boys\",\"offsetgroup\":\"Boys\",\"orientation\":\"h\",\"pointpos\":0,\"showlegend\":true,\"x\":[168.4952011,174.0708368,175.0402113,177.0945415,178.8426285,168.4641737,178.8352709,174.7549826,173.6666502,178.7742139,178.5244202,174.0024021,174.3971299,172.7639303,165.0814781,177.0283641,178.6913126,179.0933196,170.5235404,168.4402856,179.7190928,167.047405,168.1020022,182.4739613,173.1562439,175.7294701,166.3107865,174.1662959,171.8936289,167.3366923,176.2878151,165.3497028,172.1273456,178.7495629,169.0103541,171.8384508,172.8758725,175.660861,174.8348959,171.8528689,167.724913,171.2318603,178.3230318,174.0413739,168.233546,180.7589162,173.5583982,172.748561,181.1866355,181.8926588,170.7670714,180.1526393,174.6498499,168.5966271,167.3196536,174.5695408,170.6696869,168.1772539,170.6043697,182.7907032,168.8434837,173.9764485,180.5693897,178.6048688,178.3164001,170.4814842,168.3550469,175.9786311,180.2812073,170.3046673,179.2597832,173.8437525,178.6999159,164.3575117,170.6992167,168.1699422,172.1502463,172.229052,169.5905441,176.5873222,182.1015752,166.4952701,166.2576675,175.6229328,173.7936893,179.0393832,175.9835635,174.4246967,176.9742253,172.0628269,174.8389689,175.4969273,170.4552667,170.0907706,174.9625093,171.6648048,162.7805915,181.1711171,178.9571414,167.9243988,165.4756122,176.3925096,180.7233147,178.4613975,176.4252473,165.1618753,165.6750686,169.2035,167.8666326,175.0153974,174.3767502,165.2644168,165.5443523,173.0061028,170.2864395,169.5719143,175.5891559,170.6720031,183.3021555,176.3518212,164.2967622,166.6975031,169.7457063,169.5697914,164.3637755,183.7823942,177.7186704,169.9128092,170.2606015,171.5504656,177.1925778,174.6881165,180.4752288,175.0450534,171.6956401,167.3251134,170.6244315,170.1901695,163.097954,173.8061773,166.7506016,165.2326888,180.6864059,174.3708516,179.48215,173.2724105,177.8235057,176.6489555,166.0231738,173.7116523,176.4339349,177.4938788,174.4168439,170.3699634,170.6654708,176.1772132,180.7387125,175.8975925,166.4285078,173.4965252,181.0154868,180.9774125,163.0694439,171.2173809,169.6258335,175.5218658,176.1060863,168.0746406,172.0735944,174.5144365,169.4058542,180.4567319,178.7319158,171.6420138,173.5286917,168.431278,166.9789255,171.611156,160.1305426,170.1359032,176.0558521,175.113118,176.0332708,176.8533816,176.3558226,174.3725659,171.2982381,168.7360393,180.9759732,174.0772556,178.2080213,176.9373331,174.3233096,170.9421714,168.2940483,173.5337221,168.8948369,164.4164471,167.6155929,170.6857544],\"x0\":\" \",\"xaxis\":\"x\",\"y0\":\" \",\"yaxis\":\"y\",\"type\":\"box\"},{\"alignmentgroup\":\"True\",\"boxpoints\":\"all\",\"fillcolor\":\"rgba(255,255,255,0)\",\"hoveron\":\"points\",\"hovertemplate\":\"Sex=Girls\\u003cbr\\u003eHeight=%{x}\\u003cextra\\u003e\\u003c\\u002fextra\\u003e\",\"legendgroup\":\"Girls\",\"line\":{\"color\":\"rgba(255,255,255,0)\"},\"marker\":{\"color\":\"#EF553B\"},\"name\":\"Girls\",\"offsetgroup\":\"Girls\",\"orientation\":\"h\",\"pointpos\":0,\"showlegend\":true,\"x\":[156.1131365,162.228577,162.3471758,167.5515216,165.5339424,158.0968993,165.7236873,161.2204189,159.8502379,164.6657115,166.9267081,161.3748814,163.4605059,158.2908386,152.3776067,165.6637541,166.9286256,163.4017271,158.1200655,158.4004184,166.1100662,155.1525549,155.5752266,167.4703934,162.0619929,162.4109716,154.8975092,164.5763997,161.3260572,155.0750944,163.0984081,154.749508,160.4111854,164.7299393,159.6509569,162.124187,159.4177472,163.464143,160.6180502,157.9637321,156.5389135,158.7799374,167.3085696,160.357674,158.6523799,166.8030687,160.1349333,160.5529092,167.9634761,169.4706062,159.8239953,166.8884613,161.2094022,156.3007255,155.2489338,160.8845002,156.3895702,158.049563,157.5803008,168.6627596,157.1513304,164.2814691,166.4751191,164.4886274,166.518656,160.0451908,161.7281894,163.2390056,166.177267,158.8551002,165.8130758,161.3955504,165.9886854,150.9139679,158.7521597,158.7193539,159.5686675,160.5749918,155.1831397,162.5462546,168.9134842,155.1781714,154.3551613,161.1837018,158.748746,164.4968527,162.2225456,161.810158,164.3192602,158.5037434,159.4624081,161.7446106,159.4338103,161.0399239,160.1019556,160.2019309,153.0990839,168.8066284,163.6704906,156.7207687,156.5414075,162.5616604,167.6298923,165.0690213,160.8842672,153.0638056,156.1409983,157.0637126,154.2846913,161.9892021,162.9504739,154.757255,160.0617358,158.9428354,157.9019214,159.6585322,162.9612374,159.8935082,169.9608833,161.1808557,155.4209895,154.7139858,160.2561216,157.8220749,152.3889602,170.3612107,164.6600412,155.621106,159.8149349,158.137273,167.0322654,161.2175424,166.448307,161.2777263,158.4350097,154.7706078,159.517622,158.1864561,156.8944981,159.762217,154.3871646,154.144211,165.7761352,161.2271328,163.0573217,160.7157302,164.7308377,164.5173719,156.7193229,162.7824413,165.5245375,165.3026536,163.8159608,159.8104627,158.8377261,163.9240914,168.285067,162.4655675,157.335599,161.3047179,167.1227997,167.1975653,156.7888442,159.8572748,158.5787176,163.22541,162.027874,155.8757964,160.3617147,162.2638615,158.9213854,166.6739103,164.3299732,159.3794885,160.6953329,158.1217805,156.8863466,159.417654,152.7123349,159.1294047,166.0753995,166.0793945,163.3798399,161.6854548,161.80204,162.8271298,163.5700611,158.5279616,166.6226773,160.5303006,163.9391448,163.3118826,161.5584634,160.2883173,160.4836304,160.0370075,158.425687,154.7560774,157.3152177,159.8490637],\"x0\":\" \",\"xaxis\":\"x\",\"y0\":\" \",\"yaxis\":\"y\",\"type\":\"box\"}],                        {\"template\":{\"data\":{\"histogram2dcontour\":[{\"type\":\"histogram2dcontour\",\"colorbar\":{\"outlinewidth\":0,\"ticks\":\"\"},\"colorscale\":[[0.0,\"#0d0887\"],[0.1111111111111111,\"#46039f\"],[0.2222222222222222,\"#7201a8\"],[0.3333333333333333,\"#9c179e\"],[0.4444444444444444,\"#bd3786\"],[0.5555555555555556,\"#d8576b\"],[0.6666666666666666,\"#ed7953\"],[0.7777777777777778,\"#fb9f3a\"],[0.8888888888888888,\"#fdca26\"],[1.0,\"#f0f921\"]]}],\"choropleth\":[{\"type\":\"choropleth\",\"colorbar\":{\"outlinewidth\":0,\"ticks\":\"\"}}],\"histogram2d\":[{\"type\":\"histogram2d\",\"colorbar\":{\"outlinewidth\":0,\"ticks\":\"\"},\"colorscale\":[[0.0,\"#0d0887\"],[0.1111111111111111,\"#46039f\"],[0.2222222222222222,\"#7201a8\"],[0.3333333333333333,\"#9c179e\"],[0.4444444444444444,\"#bd3786\"],[0.5555555555555556,\"#d8576b\"],[0.6666666666666666,\"#ed7953\"],[0.7777777777777778,\"#fb9f3a\"],[0.8888888888888888,\"#fdca26\"],[1.0,\"#f0f921\"]]}],\"heatmap\":[{\"type\":\"heatmap\",\"colorbar\":{\"outlinewidth\":0,\"ticks\":\"\"},\"colorscale\":[[0.0,\"#0d0887\"],[0.1111111111111111,\"#46039f\"],[0.2222222222222222,\"#7201a8\"],[0.3333333333333333,\"#9c179e\"],[0.4444444444444444,\"#bd3786\"],[0.5555555555555556,\"#d8576b\"],[0.6666666666666666,\"#ed7953\"],[0.7777777777777778,\"#fb9f3a\"],[0.8888888888888888,\"#fdca26\"],[1.0,\"#f0f921\"]]}],\"heatmapgl\":[{\"type\":\"heatmapgl\",\"colorbar\":{\"outlinewidth\":0,\"ticks\":\"\"},\"colorscale\":[[0.0,\"#0d0887\"],[0.1111111111111111,\"#46039f\"],[0.2222222222222222,\"#7201a8\"],[0.3333333333333333,\"#9c179e\"],[0.4444444444444444,\"#bd3786\"],[0.5555555555555556,\"#d8576b\"],[0.6666666666666666,\"#ed7953\"],[0.7777777777777778,\"#fb9f3a\"],[0.8888888888888888,\"#fdca26\"],[1.0,\"#f0f921\"]]}],\"contourcarpet\":[{\"type\":\"contourcarpet\",\"colorbar\":{\"outlinewidth\":0,\"ticks\":\"\"}}],\"contour\":[{\"type\":\"contour\",\"colorbar\":{\"outlinewidth\":0,\"ticks\":\"\"},\"colorscale\":[[0.0,\"#0d0887\"],[0.1111111111111111,\"#46039f\"],[0.2222222222222222,\"#7201a8\"],[0.3333333333333333,\"#9c179e\"],[0.4444444444444444,\"#bd3786\"],[0.5555555555555556,\"#d8576b\"],[0.6666666666666666,\"#ed7953\"],[0.7777777777777778,\"#fb9f3a\"],[0.8888888888888888,\"#fdca26\"],[1.0,\"#f0f921\"]]}],\"surface\":[{\"type\":\"surface\",\"colorbar\":{\"outlinewidth\":0,\"ticks\":\"\"},\"colorscale\":[[0.0,\"#0d0887\"],[0.1111111111111111,\"#46039f\"],[0.2222222222222222,\"#7201a8\"],[0.3333333333333333,\"#9c179e\"],[0.4444444444444444,\"#bd3786\"],[0.5555555555555556,\"#d8576b\"],[0.6666666666666666,\"#ed7953\"],[0.7777777777777778,\"#fb9f3a\"],[0.8888888888888888,\"#fdca26\"],[1.0,\"#f0f921\"]]}],\"mesh3d\":[{\"type\":\"mesh3d\",\"colorbar\":{\"outlinewidth\":0,\"ticks\":\"\"}}],\"scatter\":[{\"fillpattern\":{\"fillmode\":\"overlay\",\"size\":10,\"solidity\":0.2},\"type\":\"scatter\"}],\"parcoords\":[{\"type\":\"parcoords\",\"line\":{\"colorbar\":{\"outlinewidth\":0,\"ticks\":\"\"}}}],\"scatterpolargl\":[{\"type\":\"scatterpolargl\",\"marker\":{\"colorbar\":{\"outlinewidth\":0,\"ticks\":\"\"}}}],\"bar\":[{\"error_x\":{\"color\":\"#2a3f5f\"},\"error_y\":{\"color\":\"#2a3f5f\"},\"marker\":{\"line\":{\"color\":\"#E5ECF6\",\"width\":0.5},\"pattern\":{\"fillmode\":\"overlay\",\"size\":10,\"solidity\":0.2}},\"type\":\"bar\"}],\"scattergeo\":[{\"type\":\"scattergeo\",\"marker\":{\"colorbar\":{\"outlinewidth\":0,\"ticks\":\"\"}}}],\"scatterpolar\":[{\"type\":\"scatterpolar\",\"marker\":{\"colorbar\":{\"outlinewidth\":0,\"ticks\":\"\"}}}],\"histogram\":[{\"marker\":{\"pattern\":{\"fillmode\":\"overlay\",\"size\":10,\"solidity\":0.2}},\"type\":\"histogram\"}],\"scattergl\":[{\"type\":\"scattergl\",\"marker\":{\"colorbar\":{\"outlinewidth\":0,\"ticks\":\"\"}}}],\"scatter3d\":[{\"type\":\"scatter3d\",\"line\":{\"colorbar\":{\"outlinewidth\":0,\"ticks\":\"\"}},\"marker\":{\"colorbar\":{\"outlinewidth\":0,\"ticks\":\"\"}}}],\"scattermapbox\":[{\"type\":\"scattermapbox\",\"marker\":{\"colorbar\":{\"outlinewidth\":0,\"ticks\":\"\"}}}],\"scatterternary\":[{\"type\":\"scatterternary\",\"marker\":{\"colorbar\":{\"outlinewidth\":0,\"ticks\":\"\"}}}],\"scattercarpet\":[{\"type\":\"scattercarpet\",\"marker\":{\"colorbar\":{\"outlinewidth\":0,\"ticks\":\"\"}}}],\"carpet\":[{\"aaxis\":{\"endlinecolor\":\"#2a3f5f\",\"gridcolor\":\"white\",\"linecolor\":\"white\",\"minorgridcolor\":\"white\",\"startlinecolor\":\"#2a3f5f\"},\"baxis\":{\"endlinecolor\":\"#2a3f5f\",\"gridcolor\":\"white\",\"linecolor\":\"white\",\"minorgridcolor\":\"white\",\"startlinecolor\":\"#2a3f5f\"},\"type\":\"carpet\"}],\"table\":[{\"cells\":{\"fill\":{\"color\":\"#EBF0F8\"},\"line\":{\"color\":\"white\"}},\"header\":{\"fill\":{\"color\":\"#C8D4E3\"},\"line\":{\"color\":\"white\"}},\"type\":\"table\"}],\"barpolar\":[{\"marker\":{\"line\":{\"color\":\"#E5ECF6\",\"width\":0.5},\"pattern\":{\"fillmode\":\"overlay\",\"size\":10,\"solidity\":0.2}},\"type\":\"barpolar\"}],\"pie\":[{\"automargin\":true,\"type\":\"pie\"}]},\"layout\":{\"autotypenumbers\":\"strict\",\"colorway\":[\"#636efa\",\"#EF553B\",\"#00cc96\",\"#ab63fa\",\"#FFA15A\",\"#19d3f3\",\"#FF6692\",\"#B6E880\",\"#FF97FF\",\"#FECB52\"],\"font\":{\"color\":\"#2a3f5f\"},\"hovermode\":\"closest\",\"hoverlabel\":{\"align\":\"left\"},\"paper_bgcolor\":\"white\",\"plot_bgcolor\":\"#E5ECF6\",\"polar\":{\"bgcolor\":\"#E5ECF6\",\"angularaxis\":{\"gridcolor\":\"white\",\"linecolor\":\"white\",\"ticks\":\"\"},\"radialaxis\":{\"gridcolor\":\"white\",\"linecolor\":\"white\",\"ticks\":\"\"}},\"ternary\":{\"bgcolor\":\"#E5ECF6\",\"aaxis\":{\"gridcolor\":\"white\",\"linecolor\":\"white\",\"ticks\":\"\"},\"baxis\":{\"gridcolor\":\"white\",\"linecolor\":\"white\",\"ticks\":\"\"},\"caxis\":{\"gridcolor\":\"white\",\"linecolor\":\"white\",\"ticks\":\"\"}},\"coloraxis\":{\"colorbar\":{\"outlinewidth\":0,\"ticks\":\"\"}},\"colorscale\":{\"sequential\":[[0.0,\"#0d0887\"],[0.1111111111111111,\"#46039f\"],[0.2222222222222222,\"#7201a8\"],[0.3333333333333333,\"#9c179e\"],[0.4444444444444444,\"#bd3786\"],[0.5555555555555556,\"#d8576b\"],[0.6666666666666666,\"#ed7953\"],[0.7777777777777778,\"#fb9f3a\"],[0.8888888888888888,\"#fdca26\"],[1.0,\"#f0f921\"]],\"sequentialminus\":[[0.0,\"#0d0887\"],[0.1111111111111111,\"#46039f\"],[0.2222222222222222,\"#7201a8\"],[0.3333333333333333,\"#9c179e\"],[0.4444444444444444,\"#bd3786\"],[0.5555555555555556,\"#d8576b\"],[0.6666666666666666,\"#ed7953\"],[0.7777777777777778,\"#fb9f3a\"],[0.8888888888888888,\"#fdca26\"],[1.0,\"#f0f921\"]],\"diverging\":[[0,\"#8e0152\"],[0.1,\"#c51b7d\"],[0.2,\"#de77ae\"],[0.3,\"#f1b6da\"],[0.4,\"#fde0ef\"],[0.5,\"#f7f7f7\"],[0.6,\"#e6f5d0\"],[0.7,\"#b8e186\"],[0.8,\"#7fbc41\"],[0.9,\"#4d9221\"],[1,\"#276419\"]]},\"xaxis\":{\"gridcolor\":\"white\",\"linecolor\":\"white\",\"ticks\":\"\",\"title\":{\"standoff\":15},\"zerolinecolor\":\"white\",\"automargin\":true,\"zerolinewidth\":2},\"yaxis\":{\"gridcolor\":\"white\",\"linecolor\":\"white\",\"ticks\":\"\",\"title\":{\"standoff\":15},\"zerolinecolor\":\"white\",\"automargin\":true,\"zerolinewidth\":2},\"scene\":{\"xaxis\":{\"backgroundcolor\":\"#E5ECF6\",\"gridcolor\":\"white\",\"linecolor\":\"white\",\"showbackground\":true,\"ticks\":\"\",\"zerolinecolor\":\"white\",\"gridwidth\":2},\"yaxis\":{\"backgroundcolor\":\"#E5ECF6\",\"gridcolor\":\"white\",\"linecolor\":\"white\",\"showbackground\":true,\"ticks\":\"\",\"zerolinecolor\":\"white\",\"gridwidth\":2},\"zaxis\":{\"backgroundcolor\":\"#E5ECF6\",\"gridcolor\":\"white\",\"linecolor\":\"white\",\"showbackground\":true,\"ticks\":\"\",\"zerolinecolor\":\"white\",\"gridwidth\":2}},\"shapedefaults\":{\"line\":{\"color\":\"#2a3f5f\"}},\"annotationdefaults\":{\"arrowcolor\":\"#2a3f5f\",\"arrowhead\":0,\"arrowwidth\":1},\"geo\":{\"bgcolor\":\"white\",\"landcolor\":\"#E5ECF6\",\"subunitcolor\":\"white\",\"showland\":true,\"showlakes\":true,\"lakecolor\":\"white\"},\"title\":{\"x\":0.05},\"mapbox\":{\"style\":\"light\"}}},\"xaxis\":{\"anchor\":\"y\",\"domain\":[0.0,1.0],\"title\":{\"text\":\"Height\"}},\"yaxis\":{\"anchor\":\"x\",\"domain\":[0.0,1.0]},\"legend\":{\"title\":{\"text\":\"Sex\"},\"tracegroupgap\":0},\"title\":{\"text\":\"Strip Plot of Heights by Sex\"},\"boxmode\":\"group\"},                        {\"responsive\": true}                    ).then(function(){\n",
       "                            \n",
       "var gd = document.getElementById('0538ea31-2de9-4b8d-be50-cb35c3891ee7');\n",
       "var x = new MutationObserver(function (mutations, observer) {{\n",
       "        var display = window.getComputedStyle(gd).display;\n",
       "        if (!display || display === 'none') {{\n",
       "            console.log([gd, 'removed!']);\n",
       "            Plotly.purge(gd);\n",
       "            observer.disconnect();\n",
       "        }}\n",
       "}});\n",
       "\n",
       "// Listen for the removal of the full notebook cells\n",
       "var notebookContainer = gd.closest('#notebook-container');\n",
       "if (notebookContainer) {{\n",
       "    x.observe(notebookContainer, {childList: true});\n",
       "}}\n",
       "\n",
       "// Listen for the clearing of the current output cell\n",
       "var outputEl = gd.closest('.output');\n",
       "if (outputEl) {{\n",
       "    x.observe(outputEl, {childList: true});\n",
       "}}\n",
       "\n",
       "                        })                };                });            </script>        </div>"
      ]
     },
     "metadata": {},
     "output_type": "display_data"
    }
   ],
   "source": [
    "#sex of adult strip chart\n",
    "px.strip(adults, x=\"Height\", color=\"Sex\", title=\"Strip Plot of Heights by Sex\")"
   ]
  },
  {
   "cell_type": "code",
   "execution_count": 18,
   "id": "9306353d-fc42-4576-b09b-baa9fc2e5829",
   "metadata": {},
   "outputs": [
    {
     "data": {
      "application/vnd.plotly.v1+json": {
       "config": {
        "plotlyServerURL": "https://plot.ly"
       },
       "data": [
        {
         "alignmentgroup": "True",
         "hovertemplate": "Height=%{x}<extra></extra>",
         "legendgroup": "",
         "marker": {
          "color": "#636efa"
         },
         "name": "",
         "notched": false,
         "offsetgroup": "",
         "orientation": "h",
         "showlegend": false,
         "type": "box",
         "x": [
          168.4952011,
          174.0708368,
          175.0402113,
          177.0945415,
          178.8426285,
          168.4641737,
          178.8352709,
          174.7549826,
          173.6666502,
          178.7742139,
          178.5244202,
          174.0024021,
          174.3971299,
          172.7639303,
          165.0814781,
          177.0283641,
          178.6913126,
          179.0933196,
          170.5235404,
          168.4402856,
          179.7190928,
          167.047405,
          168.1020022,
          182.4739613,
          173.1562439,
          175.7294701,
          166.3107865,
          174.1662959,
          171.8936289,
          167.3366923,
          176.2878151,
          165.3497028,
          172.1273456,
          178.7495629,
          169.0103541,
          171.8384508,
          172.8758725,
          175.660861,
          174.8348959,
          171.8528689,
          167.724913,
          171.2318603,
          178.3230318,
          174.0413739,
          168.233546,
          180.7589162,
          173.5583982,
          172.748561,
          181.1866355,
          181.8926588,
          170.7670714,
          180.1526393,
          174.6498499,
          168.5966271,
          167.3196536,
          174.5695408,
          170.6696869,
          168.1772539,
          170.6043697,
          182.7907032,
          168.8434837,
          173.9764485,
          180.5693897,
          178.6048688,
          178.3164001,
          170.4814842,
          168.3550469,
          175.9786311,
          180.2812073,
          170.3046673,
          179.2597832,
          173.8437525,
          178.6999159,
          164.3575117,
          170.6992167,
          168.1699422,
          172.1502463,
          172.229052,
          169.5905441,
          176.5873222,
          182.1015752,
          166.4952701,
          166.2576675,
          175.6229328,
          173.7936893,
          179.0393832,
          175.9835635,
          174.4246967,
          176.9742253,
          172.0628269,
          174.8389689,
          175.4969273,
          170.4552667,
          170.0907706,
          174.9625093,
          171.6648048,
          162.7805915,
          181.1711171,
          178.9571414,
          167.9243988,
          165.4756122,
          176.3925096,
          180.7233147,
          178.4613975,
          176.4252473,
          165.1618753,
          165.6750686,
          169.2035,
          167.8666326,
          175.0153974,
          174.3767502,
          165.2644168,
          165.5443523,
          173.0061028,
          170.2864395,
          169.5719143,
          175.5891559,
          170.6720031,
          183.3021555,
          176.3518212,
          164.2967622,
          166.6975031,
          169.7457063,
          169.5697914,
          164.3637755,
          183.7823942,
          177.7186704,
          169.9128092,
          170.2606015,
          171.5504656,
          177.1925778,
          174.6881165,
          180.4752288,
          175.0450534,
          171.6956401,
          167.3251134,
          170.6244315,
          170.1901695,
          163.097954,
          173.8061773,
          166.7506016,
          165.2326888,
          180.6864059,
          174.3708516,
          179.48215,
          173.2724105,
          177.8235057,
          176.6489555,
          166.0231738,
          173.7116523,
          176.4339349,
          177.4938788,
          174.4168439,
          170.3699634,
          170.6654708,
          176.1772132,
          180.7387125,
          175.8975925,
          166.4285078,
          173.4965252,
          181.0154868,
          180.9774125,
          163.0694439,
          171.2173809,
          169.6258335,
          175.5218658,
          176.1060863,
          168.0746406,
          172.0735944,
          174.5144365,
          169.4058542,
          180.4567319,
          178.7319158,
          171.6420138,
          173.5286917,
          168.431278,
          166.9789255,
          171.611156,
          160.1305426,
          170.1359032,
          176.0558521,
          175.113118,
          176.0332708,
          176.8533816,
          176.3558226,
          174.3725659,
          171.2982381,
          168.7360393,
          180.9759732,
          174.0772556,
          178.2080213,
          176.9373331,
          174.3233096,
          170.9421714,
          168.2940483,
          173.5337221,
          168.8948369,
          164.4164471,
          167.6155929,
          170.6857544,
          156.1131365,
          162.228577,
          162.3471758,
          167.5515216,
          165.5339424,
          158.0968993,
          165.7236873,
          161.2204189,
          159.8502379,
          164.6657115,
          166.9267081,
          161.3748814,
          163.4605059,
          158.2908386,
          152.3776067,
          165.6637541,
          166.9286256,
          163.4017271,
          158.1200655,
          158.4004184,
          166.1100662,
          155.1525549,
          155.5752266,
          167.4703934,
          162.0619929,
          162.4109716,
          154.8975092,
          164.5763997,
          161.3260572,
          155.0750944,
          163.0984081,
          154.749508,
          160.4111854,
          164.7299393,
          159.6509569,
          162.124187,
          159.4177472,
          163.464143,
          160.6180502,
          157.9637321,
          156.5389135,
          158.7799374,
          167.3085696,
          160.357674,
          158.6523799,
          166.8030687,
          160.1349333,
          160.5529092,
          167.9634761,
          169.4706062,
          159.8239953,
          166.8884613,
          161.2094022,
          156.3007255,
          155.2489338,
          160.8845002,
          156.3895702,
          158.049563,
          157.5803008,
          168.6627596,
          157.1513304,
          164.2814691,
          166.4751191,
          164.4886274,
          166.518656,
          160.0451908,
          161.7281894,
          163.2390056,
          166.177267,
          158.8551002,
          165.8130758,
          161.3955504,
          165.9886854,
          150.9139679,
          158.7521597,
          158.7193539,
          159.5686675,
          160.5749918,
          155.1831397,
          162.5462546,
          168.9134842,
          155.1781714,
          154.3551613,
          161.1837018,
          158.748746,
          164.4968527,
          162.2225456,
          161.810158,
          164.3192602,
          158.5037434,
          159.4624081,
          161.7446106,
          159.4338103,
          161.0399239,
          160.1019556,
          160.2019309,
          153.0990839,
          168.8066284,
          163.6704906,
          156.7207687,
          156.5414075,
          162.5616604,
          167.6298923,
          165.0690213,
          160.8842672,
          153.0638056,
          156.1409983,
          157.0637126,
          154.2846913,
          161.9892021,
          162.9504739,
          154.757255,
          160.0617358,
          158.9428354,
          157.9019214,
          159.6585322,
          162.9612374,
          159.8935082,
          169.9608833,
          161.1808557,
          155.4209895,
          154.7139858,
          160.2561216,
          157.8220749,
          152.3889602,
          170.3612107,
          164.6600412,
          155.621106,
          159.8149349,
          158.137273,
          167.0322654,
          161.2175424,
          166.448307,
          161.2777263,
          158.4350097,
          154.7706078,
          159.517622,
          158.1864561,
          156.8944981,
          159.762217,
          154.3871646,
          154.144211,
          165.7761352,
          161.2271328,
          163.0573217,
          160.7157302,
          164.7308377,
          164.5173719,
          156.7193229,
          162.7824413,
          165.5245375,
          165.3026536,
          163.8159608,
          159.8104627,
          158.8377261,
          163.9240914,
          168.285067,
          162.4655675,
          157.335599,
          161.3047179,
          167.1227997,
          167.1975653,
          156.7888442,
          159.8572748,
          158.5787176,
          163.22541,
          162.027874,
          155.8757964,
          160.3617147,
          162.2638615,
          158.9213854,
          166.6739103,
          164.3299732,
          159.3794885,
          160.6953329,
          158.1217805,
          156.8863466,
          159.417654,
          152.7123349,
          159.1294047,
          166.0753995,
          166.0793945,
          163.3798399,
          161.6854548,
          161.80204,
          162.8271298,
          163.5700611,
          158.5279616,
          166.6226773,
          160.5303006,
          163.9391448,
          163.3118826,
          161.5584634,
          160.2883173,
          160.4836304,
          160.0370075,
          158.425687,
          154.7560774,
          157.3152177,
          159.8490637
         ],
         "x0": " ",
         "xaxis": "x",
         "y0": " ",
         "yaxis": "y"
        }
       ],
       "layout": {
        "boxmode": "group",
        "legend": {
         "tracegroupgap": 0
        },
        "template": {
         "data": {
          "bar": [
           {
            "error_x": {
             "color": "#2a3f5f"
            },
            "error_y": {
             "color": "#2a3f5f"
            },
            "marker": {
             "line": {
              "color": "#E5ECF6",
              "width": 0.5
             },
             "pattern": {
              "fillmode": "overlay",
              "size": 10,
              "solidity": 0.2
             }
            },
            "type": "bar"
           }
          ],
          "barpolar": [
           {
            "marker": {
             "line": {
              "color": "#E5ECF6",
              "width": 0.5
             },
             "pattern": {
              "fillmode": "overlay",
              "size": 10,
              "solidity": 0.2
             }
            },
            "type": "barpolar"
           }
          ],
          "carpet": [
           {
            "aaxis": {
             "endlinecolor": "#2a3f5f",
             "gridcolor": "white",
             "linecolor": "white",
             "minorgridcolor": "white",
             "startlinecolor": "#2a3f5f"
            },
            "baxis": {
             "endlinecolor": "#2a3f5f",
             "gridcolor": "white",
             "linecolor": "white",
             "minorgridcolor": "white",
             "startlinecolor": "#2a3f5f"
            },
            "type": "carpet"
           }
          ],
          "choropleth": [
           {
            "colorbar": {
             "outlinewidth": 0,
             "ticks": ""
            },
            "type": "choropleth"
           }
          ],
          "contour": [
           {
            "colorbar": {
             "outlinewidth": 0,
             "ticks": ""
            },
            "colorscale": [
             [
              0,
              "#0d0887"
             ],
             [
              0.1111111111111111,
              "#46039f"
             ],
             [
              0.2222222222222222,
              "#7201a8"
             ],
             [
              0.3333333333333333,
              "#9c179e"
             ],
             [
              0.4444444444444444,
              "#bd3786"
             ],
             [
              0.5555555555555556,
              "#d8576b"
             ],
             [
              0.6666666666666666,
              "#ed7953"
             ],
             [
              0.7777777777777778,
              "#fb9f3a"
             ],
             [
              0.8888888888888888,
              "#fdca26"
             ],
             [
              1,
              "#f0f921"
             ]
            ],
            "type": "contour"
           }
          ],
          "contourcarpet": [
           {
            "colorbar": {
             "outlinewidth": 0,
             "ticks": ""
            },
            "type": "contourcarpet"
           }
          ],
          "heatmap": [
           {
            "colorbar": {
             "outlinewidth": 0,
             "ticks": ""
            },
            "colorscale": [
             [
              0,
              "#0d0887"
             ],
             [
              0.1111111111111111,
              "#46039f"
             ],
             [
              0.2222222222222222,
              "#7201a8"
             ],
             [
              0.3333333333333333,
              "#9c179e"
             ],
             [
              0.4444444444444444,
              "#bd3786"
             ],
             [
              0.5555555555555556,
              "#d8576b"
             ],
             [
              0.6666666666666666,
              "#ed7953"
             ],
             [
              0.7777777777777778,
              "#fb9f3a"
             ],
             [
              0.8888888888888888,
              "#fdca26"
             ],
             [
              1,
              "#f0f921"
             ]
            ],
            "type": "heatmap"
           }
          ],
          "heatmapgl": [
           {
            "colorbar": {
             "outlinewidth": 0,
             "ticks": ""
            },
            "colorscale": [
             [
              0,
              "#0d0887"
             ],
             [
              0.1111111111111111,
              "#46039f"
             ],
             [
              0.2222222222222222,
              "#7201a8"
             ],
             [
              0.3333333333333333,
              "#9c179e"
             ],
             [
              0.4444444444444444,
              "#bd3786"
             ],
             [
              0.5555555555555556,
              "#d8576b"
             ],
             [
              0.6666666666666666,
              "#ed7953"
             ],
             [
              0.7777777777777778,
              "#fb9f3a"
             ],
             [
              0.8888888888888888,
              "#fdca26"
             ],
             [
              1,
              "#f0f921"
             ]
            ],
            "type": "heatmapgl"
           }
          ],
          "histogram": [
           {
            "marker": {
             "pattern": {
              "fillmode": "overlay",
              "size": 10,
              "solidity": 0.2
             }
            },
            "type": "histogram"
           }
          ],
          "histogram2d": [
           {
            "colorbar": {
             "outlinewidth": 0,
             "ticks": ""
            },
            "colorscale": [
             [
              0,
              "#0d0887"
             ],
             [
              0.1111111111111111,
              "#46039f"
             ],
             [
              0.2222222222222222,
              "#7201a8"
             ],
             [
              0.3333333333333333,
              "#9c179e"
             ],
             [
              0.4444444444444444,
              "#bd3786"
             ],
             [
              0.5555555555555556,
              "#d8576b"
             ],
             [
              0.6666666666666666,
              "#ed7953"
             ],
             [
              0.7777777777777778,
              "#fb9f3a"
             ],
             [
              0.8888888888888888,
              "#fdca26"
             ],
             [
              1,
              "#f0f921"
             ]
            ],
            "type": "histogram2d"
           }
          ],
          "histogram2dcontour": [
           {
            "colorbar": {
             "outlinewidth": 0,
             "ticks": ""
            },
            "colorscale": [
             [
              0,
              "#0d0887"
             ],
             [
              0.1111111111111111,
              "#46039f"
             ],
             [
              0.2222222222222222,
              "#7201a8"
             ],
             [
              0.3333333333333333,
              "#9c179e"
             ],
             [
              0.4444444444444444,
              "#bd3786"
             ],
             [
              0.5555555555555556,
              "#d8576b"
             ],
             [
              0.6666666666666666,
              "#ed7953"
             ],
             [
              0.7777777777777778,
              "#fb9f3a"
             ],
             [
              0.8888888888888888,
              "#fdca26"
             ],
             [
              1,
              "#f0f921"
             ]
            ],
            "type": "histogram2dcontour"
           }
          ],
          "mesh3d": [
           {
            "colorbar": {
             "outlinewidth": 0,
             "ticks": ""
            },
            "type": "mesh3d"
           }
          ],
          "parcoords": [
           {
            "line": {
             "colorbar": {
              "outlinewidth": 0,
              "ticks": ""
             }
            },
            "type": "parcoords"
           }
          ],
          "pie": [
           {
            "automargin": true,
            "type": "pie"
           }
          ],
          "scatter": [
           {
            "fillpattern": {
             "fillmode": "overlay",
             "size": 10,
             "solidity": 0.2
            },
            "type": "scatter"
           }
          ],
          "scatter3d": [
           {
            "line": {
             "colorbar": {
              "outlinewidth": 0,
              "ticks": ""
             }
            },
            "marker": {
             "colorbar": {
              "outlinewidth": 0,
              "ticks": ""
             }
            },
            "type": "scatter3d"
           }
          ],
          "scattercarpet": [
           {
            "marker": {
             "colorbar": {
              "outlinewidth": 0,
              "ticks": ""
             }
            },
            "type": "scattercarpet"
           }
          ],
          "scattergeo": [
           {
            "marker": {
             "colorbar": {
              "outlinewidth": 0,
              "ticks": ""
             }
            },
            "type": "scattergeo"
           }
          ],
          "scattergl": [
           {
            "marker": {
             "colorbar": {
              "outlinewidth": 0,
              "ticks": ""
             }
            },
            "type": "scattergl"
           }
          ],
          "scattermapbox": [
           {
            "marker": {
             "colorbar": {
              "outlinewidth": 0,
              "ticks": ""
             }
            },
            "type": "scattermapbox"
           }
          ],
          "scatterpolar": [
           {
            "marker": {
             "colorbar": {
              "outlinewidth": 0,
              "ticks": ""
             }
            },
            "type": "scatterpolar"
           }
          ],
          "scatterpolargl": [
           {
            "marker": {
             "colorbar": {
              "outlinewidth": 0,
              "ticks": ""
             }
            },
            "type": "scatterpolargl"
           }
          ],
          "scatterternary": [
           {
            "marker": {
             "colorbar": {
              "outlinewidth": 0,
              "ticks": ""
             }
            },
            "type": "scatterternary"
           }
          ],
          "surface": [
           {
            "colorbar": {
             "outlinewidth": 0,
             "ticks": ""
            },
            "colorscale": [
             [
              0,
              "#0d0887"
             ],
             [
              0.1111111111111111,
              "#46039f"
             ],
             [
              0.2222222222222222,
              "#7201a8"
             ],
             [
              0.3333333333333333,
              "#9c179e"
             ],
             [
              0.4444444444444444,
              "#bd3786"
             ],
             [
              0.5555555555555556,
              "#d8576b"
             ],
             [
              0.6666666666666666,
              "#ed7953"
             ],
             [
              0.7777777777777778,
              "#fb9f3a"
             ],
             [
              0.8888888888888888,
              "#fdca26"
             ],
             [
              1,
              "#f0f921"
             ]
            ],
            "type": "surface"
           }
          ],
          "table": [
           {
            "cells": {
             "fill": {
              "color": "#EBF0F8"
             },
             "line": {
              "color": "white"
             }
            },
            "header": {
             "fill": {
              "color": "#C8D4E3"
             },
             "line": {
              "color": "white"
             }
            },
            "type": "table"
           }
          ]
         },
         "layout": {
          "annotationdefaults": {
           "arrowcolor": "#2a3f5f",
           "arrowhead": 0,
           "arrowwidth": 1
          },
          "autotypenumbers": "strict",
          "coloraxis": {
           "colorbar": {
            "outlinewidth": 0,
            "ticks": ""
           }
          },
          "colorscale": {
           "diverging": [
            [
             0,
             "#8e0152"
            ],
            [
             0.1,
             "#c51b7d"
            ],
            [
             0.2,
             "#de77ae"
            ],
            [
             0.3,
             "#f1b6da"
            ],
            [
             0.4,
             "#fde0ef"
            ],
            [
             0.5,
             "#f7f7f7"
            ],
            [
             0.6,
             "#e6f5d0"
            ],
            [
             0.7,
             "#b8e186"
            ],
            [
             0.8,
             "#7fbc41"
            ],
            [
             0.9,
             "#4d9221"
            ],
            [
             1,
             "#276419"
            ]
           ],
           "sequential": [
            [
             0,
             "#0d0887"
            ],
            [
             0.1111111111111111,
             "#46039f"
            ],
            [
             0.2222222222222222,
             "#7201a8"
            ],
            [
             0.3333333333333333,
             "#9c179e"
            ],
            [
             0.4444444444444444,
             "#bd3786"
            ],
            [
             0.5555555555555556,
             "#d8576b"
            ],
            [
             0.6666666666666666,
             "#ed7953"
            ],
            [
             0.7777777777777778,
             "#fb9f3a"
            ],
            [
             0.8888888888888888,
             "#fdca26"
            ],
            [
             1,
             "#f0f921"
            ]
           ],
           "sequentialminus": [
            [
             0,
             "#0d0887"
            ],
            [
             0.1111111111111111,
             "#46039f"
            ],
            [
             0.2222222222222222,
             "#7201a8"
            ],
            [
             0.3333333333333333,
             "#9c179e"
            ],
            [
             0.4444444444444444,
             "#bd3786"
            ],
            [
             0.5555555555555556,
             "#d8576b"
            ],
            [
             0.6666666666666666,
             "#ed7953"
            ],
            [
             0.7777777777777778,
             "#fb9f3a"
            ],
            [
             0.8888888888888888,
             "#fdca26"
            ],
            [
             1,
             "#f0f921"
            ]
           ]
          },
          "colorway": [
           "#636efa",
           "#EF553B",
           "#00cc96",
           "#ab63fa",
           "#FFA15A",
           "#19d3f3",
           "#FF6692",
           "#B6E880",
           "#FF97FF",
           "#FECB52"
          ],
          "font": {
           "color": "#2a3f5f"
          },
          "geo": {
           "bgcolor": "white",
           "lakecolor": "white",
           "landcolor": "#E5ECF6",
           "showlakes": true,
           "showland": true,
           "subunitcolor": "white"
          },
          "hoverlabel": {
           "align": "left"
          },
          "hovermode": "closest",
          "mapbox": {
           "style": "light"
          },
          "paper_bgcolor": "white",
          "plot_bgcolor": "#E5ECF6",
          "polar": {
           "angularaxis": {
            "gridcolor": "white",
            "linecolor": "white",
            "ticks": ""
           },
           "bgcolor": "#E5ECF6",
           "radialaxis": {
            "gridcolor": "white",
            "linecolor": "white",
            "ticks": ""
           }
          },
          "scene": {
           "xaxis": {
            "backgroundcolor": "#E5ECF6",
            "gridcolor": "white",
            "gridwidth": 2,
            "linecolor": "white",
            "showbackground": true,
            "ticks": "",
            "zerolinecolor": "white"
           },
           "yaxis": {
            "backgroundcolor": "#E5ECF6",
            "gridcolor": "white",
            "gridwidth": 2,
            "linecolor": "white",
            "showbackground": true,
            "ticks": "",
            "zerolinecolor": "white"
           },
           "zaxis": {
            "backgroundcolor": "#E5ECF6",
            "gridcolor": "white",
            "gridwidth": 2,
            "linecolor": "white",
            "showbackground": true,
            "ticks": "",
            "zerolinecolor": "white"
           }
          },
          "shapedefaults": {
           "line": {
            "color": "#2a3f5f"
           }
          },
          "ternary": {
           "aaxis": {
            "gridcolor": "white",
            "linecolor": "white",
            "ticks": ""
           },
           "baxis": {
            "gridcolor": "white",
            "linecolor": "white",
            "ticks": ""
           },
           "bgcolor": "#E5ECF6",
           "caxis": {
            "gridcolor": "white",
            "linecolor": "white",
            "ticks": ""
           }
          },
          "title": {
           "x": 0.05
          },
          "xaxis": {
           "automargin": true,
           "gridcolor": "white",
           "linecolor": "white",
           "ticks": "",
           "title": {
            "standoff": 15
           },
           "zerolinecolor": "white",
           "zerolinewidth": 2
          },
          "yaxis": {
           "automargin": true,
           "gridcolor": "white",
           "linecolor": "white",
           "ticks": "",
           "title": {
            "standoff": 15
           },
           "zerolinecolor": "white",
           "zerolinewidth": 2
          }
         }
        },
        "title": {
         "text": "Box Plot of Heights"
        },
        "xaxis": {
         "anchor": "y",
         "domain": [
          0,
          1
         ],
         "title": {
          "text": "Height"
         }
        },
        "yaxis": {
         "anchor": "x",
         "domain": [
          0,
          1
         ]
        }
       }
      },
      "image/png": "[encoded data removed]",
      "text/html": [
       "<div>                            <div id=\"db033643-1cd6-4fd7-b0e9-1670e62ed0a0\" class=\"plotly-graph-div\" style=\"height:525px; width:100%;\"></div>            <script type=\"text/javascript\">                require([\"plotly\"], function(Plotly) {                    window.PLOTLYENV=window.PLOTLYENV || {};                                    if (document.getElementById(\"db033643-1cd6-4fd7-b0e9-1670e62ed0a0\")) {                    Plotly.newPlot(                        \"db033643-1cd6-4fd7-b0e9-1670e62ed0a0\",                        [{\"alignmentgroup\":\"True\",\"hovertemplate\":\"Height=%{x}\\u003cextra\\u003e\\u003c\\u002fextra\\u003e\",\"legendgroup\":\"\",\"marker\":{\"color\":\"#636efa\"},\"name\":\"\",\"notched\":false,\"offsetgroup\":\"\",\"orientation\":\"h\",\"showlegend\":false,\"x\":[168.4952011,174.0708368,175.0402113,177.0945415,178.8426285,168.4641737,178.8352709,174.7549826,173.6666502,178.7742139,178.5244202,174.0024021,174.3971299,172.7639303,165.0814781,177.0283641,178.6913126,179.0933196,170.5235404,168.4402856,179.7190928,167.047405,168.1020022,182.4739613,173.1562439,175.7294701,166.3107865,174.1662959,171.8936289,167.3366923,176.2878151,165.3497028,172.1273456,178.7495629,169.0103541,171.8384508,172.8758725,175.660861,174.8348959,171.8528689,167.724913,171.2318603,178.3230318,174.0413739,168.233546,180.7589162,173.5583982,172.748561,181.1866355,181.8926588,170.7670714,180.1526393,174.6498499,168.5966271,167.3196536,174.5695408,170.6696869,168.1772539,170.6043697,182.7907032,168.8434837,173.9764485,180.5693897,178.6048688,178.3164001,170.4814842,168.3550469,175.9786311,180.2812073,170.3046673,179.2597832,173.8437525,178.6999159,164.3575117,170.6992167,168.1699422,172.1502463,172.229052,169.5905441,176.5873222,182.1015752,166.4952701,166.2576675,175.6229328,173.7936893,179.0393832,175.9835635,174.4246967,176.9742253,172.0628269,174.8389689,175.4969273,170.4552667,170.0907706,174.9625093,171.6648048,162.7805915,181.1711171,178.9571414,167.9243988,165.4756122,176.3925096,180.7233147,178.4613975,176.4252473,165.1618753,165.6750686,169.2035,167.8666326,175.0153974,174.3767502,165.2644168,165.5443523,173.0061028,170.2864395,169.5719143,175.5891559,170.6720031,183.3021555,176.3518212,164.2967622,166.6975031,169.7457063,169.5697914,164.3637755,183.7823942,177.7186704,169.9128092,170.2606015,171.5504656,177.1925778,174.6881165,180.4752288,175.0450534,171.6956401,167.3251134,170.6244315,170.1901695,163.097954,173.8061773,166.7506016,165.2326888,180.6864059,174.3708516,179.48215,173.2724105,177.8235057,176.6489555,166.0231738,173.7116523,176.4339349,177.4938788,174.4168439,170.3699634,170.6654708,176.1772132,180.7387125,175.8975925,166.4285078,173.4965252,181.0154868,180.9774125,163.0694439,171.2173809,169.6258335,175.5218658,176.1060863,168.0746406,172.0735944,174.5144365,169.4058542,180.4567319,178.7319158,171.6420138,173.5286917,168.431278,166.9789255,171.611156,160.1305426,170.1359032,176.0558521,175.113118,176.0332708,176.8533816,176.3558226,174.3725659,171.2982381,168.7360393,180.9759732,174.0772556,178.2080213,176.9373331,174.3233096,170.9421714,168.2940483,173.5337221,168.8948369,164.4164471,167.6155929,170.6857544,156.1131365,162.228577,162.3471758,167.5515216,165.5339424,158.0968993,165.7236873,161.2204189,159.8502379,164.6657115,166.9267081,161.3748814,163.4605059,158.2908386,152.3776067,165.6637541,166.9286256,163.4017271,158.1200655,158.4004184,166.1100662,155.1525549,155.5752266,167.4703934,162.0619929,162.4109716,154.8975092,164.5763997,161.3260572,155.0750944,163.0984081,154.749508,160.4111854,164.7299393,159.6509569,162.124187,159.4177472,163.464143,160.6180502,157.9637321,156.5389135,158.7799374,167.3085696,160.357674,158.6523799,166.8030687,160.1349333,160.5529092,167.9634761,169.4706062,159.8239953,166.8884613,161.2094022,156.3007255,155.2489338,160.8845002,156.3895702,158.049563,157.5803008,168.6627596,157.1513304,164.2814691,166.4751191,164.4886274,166.518656,160.0451908,161.7281894,163.2390056,166.177267,158.8551002,165.8130758,161.3955504,165.9886854,150.9139679,158.7521597,158.7193539,159.5686675,160.5749918,155.1831397,162.5462546,168.9134842,155.1781714,154.3551613,161.1837018,158.748746,164.4968527,162.2225456,161.810158,164.3192602,158.5037434,159.4624081,161.7446106,159.4338103,161.0399239,160.1019556,160.2019309,153.0990839,168.8066284,163.6704906,156.7207687,156.5414075,162.5616604,167.6298923,165.0690213,160.8842672,153.0638056,156.1409983,157.0637126,154.2846913,161.9892021,162.9504739,154.757255,160.0617358,158.9428354,157.9019214,159.6585322,162.9612374,159.8935082,169.9608833,161.1808557,155.4209895,154.7139858,160.2561216,157.8220749,152.3889602,170.3612107,164.6600412,155.621106,159.8149349,158.137273,167.0322654,161.2175424,166.448307,161.2777263,158.4350097,154.7706078,159.517622,158.1864561,156.8944981,159.762217,154.3871646,154.144211,165.7761352,161.2271328,163.0573217,160.7157302,164.7308377,164.5173719,156.7193229,162.7824413,165.5245375,165.3026536,163.8159608,159.8104627,158.8377261,163.9240914,168.285067,162.4655675,157.335599,161.3047179,167.1227997,167.1975653,156.7888442,159.8572748,158.5787176,163.22541,162.027874,155.8757964,160.3617147,162.2638615,158.9213854,166.6739103,164.3299732,159.3794885,160.6953329,158.1217805,156.8863466,159.417654,152.7123349,159.1294047,166.0753995,166.0793945,163.3798399,161.6854548,161.80204,162.8271298,163.5700611,158.5279616,166.6226773,160.5303006,163.9391448,163.3118826,161.5584634,160.2883173,160.4836304,160.0370075,158.425687,154.7560774,157.3152177,159.8490637],\"x0\":\" \",\"xaxis\":\"x\",\"y0\":\" \",\"yaxis\":\"y\",\"type\":\"box\"}],                        {\"template\":{\"data\":{\"histogram2dcontour\":[{\"type\":\"histogram2dcontour\",\"colorbar\":{\"outlinewidth\":0,\"ticks\":\"\"},\"colorscale\":[[0.0,\"#0d0887\"],[0.1111111111111111,\"#46039f\"],[0.2222222222222222,\"#7201a8\"],[0.3333333333333333,\"#9c179e\"],[0.4444444444444444,\"#bd3786\"],[0.5555555555555556,\"#d8576b\"],[0.6666666666666666,\"#ed7953\"],[0.7777777777777778,\"#fb9f3a\"],[0.8888888888888888,\"#fdca26\"],[1.0,\"#f0f921\"]]}],\"choropleth\":[{\"type\":\"choropleth\",\"colorbar\":{\"outlinewidth\":0,\"ticks\":\"\"}}],\"histogram2d\":[{\"type\":\"histogram2d\",\"colorbar\":{\"outlinewidth\":0,\"ticks\":\"\"},\"colorscale\":[[0.0,\"#0d0887\"],[0.1111111111111111,\"#46039f\"],[0.2222222222222222,\"#7201a8\"],[0.3333333333333333,\"#9c179e\"],[0.4444444444444444,\"#bd3786\"],[0.5555555555555556,\"#d8576b\"],[0.6666666666666666,\"#ed7953\"],[0.7777777777777778,\"#fb9f3a\"],[0.8888888888888888,\"#fdca26\"],[1.0,\"#f0f921\"]]}],\"heatmap\":[{\"type\":\"heatmap\",\"colorbar\":{\"outlinewidth\":0,\"ticks\":\"\"},\"colorscale\":[[0.0,\"#0d0887\"],[0.1111111111111111,\"#46039f\"],[0.2222222222222222,\"#7201a8\"],[0.3333333333333333,\"#9c179e\"],[0.4444444444444444,\"#bd3786\"],[0.5555555555555556,\"#d8576b\"],[0.6666666666666666,\"#ed7953\"],[0.7777777777777778,\"#fb9f3a\"],[0.8888888888888888,\"#fdca26\"],[1.0,\"#f0f921\"]]}],\"heatmapgl\":[{\"type\":\"heatmapgl\",\"colorbar\":{\"outlinewidth\":0,\"ticks\":\"\"},\"colorscale\":[[0.0,\"#0d0887\"],[0.1111111111111111,\"#46039f\"],[0.2222222222222222,\"#7201a8\"],[0.3333333333333333,\"#9c179e\"],[0.4444444444444444,\"#bd3786\"],[0.5555555555555556,\"#d8576b\"],[0.6666666666666666,\"#ed7953\"],[0.7777777777777778,\"#fb9f3a\"],[0.8888888888888888,\"#fdca26\"],[1.0,\"#f0f921\"]]}],\"contourcarpet\":[{\"type\":\"contourcarpet\",\"colorbar\":{\"outlinewidth\":0,\"ticks\":\"\"}}],\"contour\":[{\"type\":\"contour\",\"colorbar\":{\"outlinewidth\":0,\"ticks\":\"\"},\"colorscale\":[[0.0,\"#0d0887\"],[0.1111111111111111,\"#46039f\"],[0.2222222222222222,\"#7201a8\"],[0.3333333333333333,\"#9c179e\"],[0.4444444444444444,\"#bd3786\"],[0.5555555555555556,\"#d8576b\"],[0.6666666666666666,\"#ed7953\"],[0.7777777777777778,\"#fb9f3a\"],[0.8888888888888888,\"#fdca26\"],[1.0,\"#f0f921\"]]}],\"surface\":[{\"type\":\"surface\",\"colorbar\":{\"outlinewidth\":0,\"ticks\":\"\"},\"colorscale\":[[0.0,\"#0d0887\"],[0.1111111111111111,\"#46039f\"],[0.2222222222222222,\"#7201a8\"],[0.3333333333333333,\"#9c179e\"],[0.4444444444444444,\"#bd3786\"],[0.5555555555555556,\"#d8576b\"],[0.6666666666666666,\"#ed7953\"],[0.7777777777777778,\"#fb9f3a\"],[0.8888888888888888,\"#fdca26\"],[1.0,\"#f0f921\"]]}],\"mesh3d\":[{\"type\":\"mesh3d\",\"colorbar\":{\"outlinewidth\":0,\"ticks\":\"\"}}],\"scatter\":[{\"fillpattern\":{\"fillmode\":\"overlay\",\"size\":10,\"solidity\":0.2},\"type\":\"scatter\"}],\"parcoords\":[{\"type\":\"parcoords\",\"line\":{\"colorbar\":{\"outlinewidth\":0,\"ticks\":\"\"}}}],\"scatterpolargl\":[{\"type\":\"scatterpolargl\",\"marker\":{\"colorbar\":{\"outlinewidth\":0,\"ticks\":\"\"}}}],\"bar\":[{\"error_x\":{\"color\":\"#2a3f5f\"},\"error_y\":{\"color\":\"#2a3f5f\"},\"marker\":{\"line\":{\"color\":\"#E5ECF6\",\"width\":0.5},\"pattern\":{\"fillmode\":\"overlay\",\"size\":10,\"solidity\":0.2}},\"type\":\"bar\"}],\"scattergeo\":[{\"type\":\"scattergeo\",\"marker\":{\"colorbar\":{\"outlinewidth\":0,\"ticks\":\"\"}}}],\"scatterpolar\":[{\"type\":\"scatterpolar\",\"marker\":{\"colorbar\":{\"outlinewidth\":0,\"ticks\":\"\"}}}],\"histogram\":[{\"marker\":{\"pattern\":{\"fillmode\":\"overlay\",\"size\":10,\"solidity\":0.2}},\"type\":\"histogram\"}],\"scattergl\":[{\"type\":\"scattergl\",\"marker\":{\"colorbar\":{\"outlinewidth\":0,\"ticks\":\"\"}}}],\"scatter3d\":[{\"type\":\"scatter3d\",\"line\":{\"colorbar\":{\"outlinewidth\":0,\"ticks\":\"\"}},\"marker\":{\"colorbar\":{\"outlinewidth\":0,\"ticks\":\"\"}}}],\"scattermapbox\":[{\"type\":\"scattermapbox\",\"marker\":{\"colorbar\":{\"outlinewidth\":0,\"ticks\":\"\"}}}],\"scatterternary\":[{\"type\":\"scatterternary\",\"marker\":{\"colorbar\":{\"outlinewidth\":0,\"ticks\":\"\"}}}],\"scattercarpet\":[{\"type\":\"scattercarpet\",\"marker\":{\"colorbar\":{\"outlinewidth\":0,\"ticks\":\"\"}}}],\"carpet\":[{\"aaxis\":{\"endlinecolor\":\"#2a3f5f\",\"gridcolor\":\"white\",\"linecolor\":\"white\",\"minorgridcolor\":\"white\",\"startlinecolor\":\"#2a3f5f\"},\"baxis\":{\"endlinecolor\":\"#2a3f5f\",\"gridcolor\":\"white\",\"linecolor\":\"white\",\"minorgridcolor\":\"white\",\"startlinecolor\":\"#2a3f5f\"},\"type\":\"carpet\"}],\"table\":[{\"cells\":{\"fill\":{\"color\":\"#EBF0F8\"},\"line\":{\"color\":\"white\"}},\"header\":{\"fill\":{\"color\":\"#C8D4E3\"},\"line\":{\"color\":\"white\"}},\"type\":\"table\"}],\"barpolar\":[{\"marker\":{\"line\":{\"color\":\"#E5ECF6\",\"width\":0.5},\"pattern\":{\"fillmode\":\"overlay\",\"size\":10,\"solidity\":0.2}},\"type\":\"barpolar\"}],\"pie\":[{\"automargin\":true,\"type\":\"pie\"}]},\"layout\":{\"autotypenumbers\":\"strict\",\"colorway\":[\"#636efa\",\"#EF553B\",\"#00cc96\",\"#ab63fa\",\"#FFA15A\",\"#19d3f3\",\"#FF6692\",\"#B6E880\",\"#FF97FF\",\"#FECB52\"],\"font\":{\"color\":\"#2a3f5f\"},\"hovermode\":\"closest\",\"hoverlabel\":{\"align\":\"left\"},\"paper_bgcolor\":\"white\",\"plot_bgcolor\":\"#E5ECF6\",\"polar\":{\"bgcolor\":\"#E5ECF6\",\"angularaxis\":{\"gridcolor\":\"white\",\"linecolor\":\"white\",\"ticks\":\"\"},\"radialaxis\":{\"gridcolor\":\"white\",\"linecolor\":\"white\",\"ticks\":\"\"}},\"ternary\":{\"bgcolor\":\"#E5ECF6\",\"aaxis\":{\"gridcolor\":\"white\",\"linecolor\":\"white\",\"ticks\":\"\"},\"baxis\":{\"gridcolor\":\"white\",\"linecolor\":\"white\",\"ticks\":\"\"},\"caxis\":{\"gridcolor\":\"white\",\"linecolor\":\"white\",\"ticks\":\"\"}},\"coloraxis\":{\"colorbar\":{\"outlinewidth\":0,\"ticks\":\"\"}},\"colorscale\":{\"sequential\":[[0.0,\"#0d0887\"],[0.1111111111111111,\"#46039f\"],[0.2222222222222222,\"#7201a8\"],[0.3333333333333333,\"#9c179e\"],[0.4444444444444444,\"#bd3786\"],[0.5555555555555556,\"#d8576b\"],[0.6666666666666666,\"#ed7953\"],[0.7777777777777778,\"#fb9f3a\"],[0.8888888888888888,\"#fdca26\"],[1.0,\"#f0f921\"]],\"sequentialminus\":[[0.0,\"#0d0887\"],[0.1111111111111111,\"#46039f\"],[0.2222222222222222,\"#7201a8\"],[0.3333333333333333,\"#9c179e\"],[0.4444444444444444,\"#bd3786\"],[0.5555555555555556,\"#d8576b\"],[0.6666666666666666,\"#ed7953\"],[0.7777777777777778,\"#fb9f3a\"],[0.8888888888888888,\"#fdca26\"],[1.0,\"#f0f921\"]],\"diverging\":[[0,\"#8e0152\"],[0.1,\"#c51b7d\"],[0.2,\"#de77ae\"],[0.3,\"#f1b6da\"],[0.4,\"#fde0ef\"],[0.5,\"#f7f7f7\"],[0.6,\"#e6f5d0\"],[0.7,\"#b8e186\"],[0.8,\"#7fbc41\"],[0.9,\"#4d9221\"],[1,\"#276419\"]]},\"xaxis\":{\"gridcolor\":\"white\",\"linecolor\":\"white\",\"ticks\":\"\",\"title\":{\"standoff\":15},\"zerolinecolor\":\"white\",\"automargin\":true,\"zerolinewidth\":2},\"yaxis\":{\"gridcolor\":\"white\",\"linecolor\":\"white\",\"ticks\":\"\",\"title\":{\"standoff\":15},\"zerolinecolor\":\"white\",\"automargin\":true,\"zerolinewidth\":2},\"scene\":{\"xaxis\":{\"backgroundcolor\":\"#E5ECF6\",\"gridcolor\":\"white\",\"linecolor\":\"white\",\"showbackground\":true,\"ticks\":\"\",\"zerolinecolor\":\"white\",\"gridwidth\":2},\"yaxis\":{\"backgroundcolor\":\"#E5ECF6\",\"gridcolor\":\"white\",\"linecolor\":\"white\",\"showbackground\":true,\"ticks\":\"\",\"zerolinecolor\":\"white\",\"gridwidth\":2},\"zaxis\":{\"backgroundcolor\":\"#E5ECF6\",\"gridcolor\":\"white\",\"linecolor\":\"white\",\"showbackground\":true,\"ticks\":\"\",\"zerolinecolor\":\"white\",\"gridwidth\":2}},\"shapedefaults\":{\"line\":{\"color\":\"#2a3f5f\"}},\"annotationdefaults\":{\"arrowcolor\":\"#2a3f5f\",\"arrowhead\":0,\"arrowwidth\":1},\"geo\":{\"bgcolor\":\"white\",\"landcolor\":\"#E5ECF6\",\"subunitcolor\":\"white\",\"showland\":true,\"showlakes\":true,\"lakecolor\":\"white\"},\"title\":{\"x\":0.05},\"mapbox\":{\"style\":\"light\"}}},\"xaxis\":{\"anchor\":\"y\",\"domain\":[0.0,1.0],\"title\":{\"text\":\"Height\"}},\"yaxis\":{\"anchor\":\"x\",\"domain\":[0.0,1.0]},\"legend\":{\"tracegroupgap\":0},\"title\":{\"text\":\"Box Plot of Heights\"},\"boxmode\":\"group\"},                        {\"responsive\": true}                    ).then(function(){\n",
       "                            \n",
       "var gd = document.getElementById('db033643-1cd6-4fd7-b0e9-1670e62ed0a0');\n",
       "var x = new MutationObserver(function (mutations, observer) {{\n",
       "        var display = window.getComputedStyle(gd).display;\n",
       "        if (!display || display === 'none') {{\n",
       "            console.log([gd, 'removed!']);\n",
       "            Plotly.purge(gd);\n",
       "            observer.disconnect();\n",
       "        }}\n",
       "}});\n",
       "\n",
       "// Listen for the removal of the full notebook cells\n",
       "var notebookContainer = gd.closest('#notebook-container');\n",
       "if (notebookContainer) {{\n",
       "    x.observe(notebookContainer, {childList: true});\n",
       "}}\n",
       "\n",
       "// Listen for the clearing of the current output cell\n",
       "var outputEl = gd.closest('.output');\n",
       "if (outputEl) {{\n",
       "    x.observe(outputEl, {childList: true});\n",
       "}}\n",
       "\n",
       "                        })                };                });            </script>        </div>"
      ]
     },
     "metadata": {},
     "output_type": "display_data"
    }
   ],
   "source": [
    "#box chart\n",
    "#whole data\n",
    "px.box(adults, x=\"Height\", title=\"Box Plot of Heights\")"
   ]
  },
  {
   "cell_type": "code",
   "execution_count": 19,
   "id": "ef3e959a-f8d7-475c-9c7e-76cfc136a674",
   "metadata": {},
   "outputs": [
    {
     "data": {
      "application/vnd.plotly.v1+json": {
       "config": {
        "plotlyServerURL": "https://plot.ly"
       },
       "data": [
        {
         "alignmentgroup": "True",
         "hovertemplate": "Sex=Boys<br>Height=%{x}<extra></extra>",
         "legendgroup": "Boys",
         "marker": {
          "color": "#636efa"
         },
         "name": "Boys",
         "notched": false,
         "offsetgroup": "Boys",
         "orientation": "h",
         "showlegend": true,
         "type": "box",
         "x": [
          168.4952011,
          174.0708368,
          175.0402113,
          177.0945415,
          178.8426285,
          168.4641737,
          178.8352709,
          174.7549826,
          173.6666502,
          178.7742139,
          178.5244202,
          174.0024021,
          174.3971299,
          172.7639303,
          165.0814781,
          177.0283641,
          178.6913126,
          179.0933196,
          170.5235404,
          168.4402856,
          179.7190928,
          167.047405,
          168.1020022,
          182.4739613,
          173.1562439,
          175.7294701,
          166.3107865,
          174.1662959,
          171.8936289,
          167.3366923,
          176.2878151,
          165.3497028,
          172.1273456,
          178.7495629,
          169.0103541,
          171.8384508,
          172.8758725,
          175.660861,
          174.8348959,
          171.8528689,
          167.724913,
          171.2318603,
          178.3230318,
          174.0413739,
          168.233546,
          180.7589162,
          173.5583982,
          172.748561,
          181.1866355,
          181.8926588,
          170.7670714,
          180.1526393,
          174.6498499,
          168.5966271,
          167.3196536,
          174.5695408,
          170.6696869,
          168.1772539,
          170.6043697,
          182.7907032,
          168.8434837,
          173.9764485,
          180.5693897,
          178.6048688,
          178.3164001,
          170.4814842,
          168.3550469,
          175.9786311,
          180.2812073,
          170.3046673,
          179.2597832,
          173.8437525,
          178.6999159,
          164.3575117,
          170.6992167,
          168.1699422,
          172.1502463,
          172.229052,
          169.5905441,
          176.5873222,
          182.1015752,
          166.4952701,
          166.2576675,
          175.6229328,
          173.7936893,
          179.0393832,
          175.9835635,
          174.4246967,
          176.9742253,
          172.0628269,
          174.8389689,
          175.4969273,
          170.4552667,
          170.0907706,
          174.9625093,
          171.6648048,
          162.7805915,
          181.1711171,
          178.9571414,
          167.9243988,
          165.4756122,
          176.3925096,
          180.7233147,
          178.4613975,
          176.4252473,
          165.1618753,
          165.6750686,
          169.2035,
          167.8666326,
          175.0153974,
          174.3767502,
          165.2644168,
          165.5443523,
          173.0061028,
          170.2864395,
          169.5719143,
          175.5891559,
          170.6720031,
          183.3021555,
          176.3518212,
          164.2967622,
          166.6975031,
          169.7457063,
          169.5697914,
          164.3637755,
          183.7823942,
          177.7186704,
          169.9128092,
          170.2606015,
          171.5504656,
          177.1925778,
          174.6881165,
          180.4752288,
          175.0450534,
          171.6956401,
          167.3251134,
          170.6244315,
          170.1901695,
          163.097954,
          173.8061773,
          166.7506016,
          165.2326888,
          180.6864059,
          174.3708516,
          179.48215,
          173.2724105,
          177.8235057,
          176.6489555,
          166.0231738,
          173.7116523,
          176.4339349,
          177.4938788,
          174.4168439,
          170.3699634,
          170.6654708,
          176.1772132,
          180.7387125,
          175.8975925,
          166.4285078,
          173.4965252,
          181.0154868,
          180.9774125,
          163.0694439,
          171.2173809,
          169.6258335,
          175.5218658,
          176.1060863,
          168.0746406,
          172.0735944,
          174.5144365,
          169.4058542,
          180.4567319,
          178.7319158,
          171.6420138,
          173.5286917,
          168.431278,
          166.9789255,
          171.611156,
          160.1305426,
          170.1359032,
          176.0558521,
          175.113118,
          176.0332708,
          176.8533816,
          176.3558226,
          174.3725659,
          171.2982381,
          168.7360393,
          180.9759732,
          174.0772556,
          178.2080213,
          176.9373331,
          174.3233096,
          170.9421714,
          168.2940483,
          173.5337221,
          168.8948369,
          164.4164471,
          167.6155929,
          170.6857544
         ],
         "x0": " ",
         "xaxis": "x",
         "y0": " ",
         "yaxis": "y"
        },
        {
         "alignmentgroup": "True",
         "hovertemplate": "Sex=Girls<br>Height=%{x}<extra></extra>",
         "legendgroup": "Girls",
         "marker": {
          "color": "#EF553B"
         },
         "name": "Girls",
         "notched": false,
         "offsetgroup": "Girls",
         "orientation": "h",
         "showlegend": true,
         "type": "box",
         "x": [
          156.1131365,
          162.228577,
          162.3471758,
          167.5515216,
          165.5339424,
          158.0968993,
          165.7236873,
          161.2204189,
          159.8502379,
          164.6657115,
          166.9267081,
          161.3748814,
          163.4605059,
          158.2908386,
          152.3776067,
          165.6637541,
          166.9286256,
          163.4017271,
          158.1200655,
          158.4004184,
          166.1100662,
          155.1525549,
          155.5752266,
          167.4703934,
          162.0619929,
          162.4109716,
          154.8975092,
          164.5763997,
          161.3260572,
          155.0750944,
          163.0984081,
          154.749508,
          160.4111854,
          164.7299393,
          159.6509569,
          162.124187,
          159.4177472,
          163.464143,
          160.6180502,
          157.9637321,
          156.5389135,
          158.7799374,
          167.3085696,
          160.357674,
          158.6523799,
          166.8030687,
          160.1349333,
          160.5529092,
          167.9634761,
          169.4706062,
          159.8239953,
          166.8884613,
          161.2094022,
          156.3007255,
          155.2489338,
          160.8845002,
          156.3895702,
          158.049563,
          157.5803008,
          168.6627596,
          157.1513304,
          164.2814691,
          166.4751191,
          164.4886274,
          166.518656,
          160.0451908,
          161.7281894,
          163.2390056,
          166.177267,
          158.8551002,
          165.8130758,
          161.3955504,
          165.9886854,
          150.9139679,
          158.7521597,
          158.7193539,
          159.5686675,
          160.5749918,
          155.1831397,
          162.5462546,
          168.9134842,
          155.1781714,
          154.3551613,
          161.1837018,
          158.748746,
          164.4968527,
          162.2225456,
          161.810158,
          164.3192602,
          158.5037434,
          159.4624081,
          161.7446106,
          159.4338103,
          161.0399239,
          160.1019556,
          160.2019309,
          153.0990839,
          168.8066284,
          163.6704906,
          156.7207687,
          156.5414075,
          162.5616604,
          167.6298923,
          165.0690213,
          160.8842672,
          153.0638056,
          156.1409983,
          157.0637126,
          154.2846913,
          161.9892021,
          162.9504739,
          154.757255,
          160.0617358,
          158.9428354,
          157.9019214,
          159.6585322,
          162.9612374,
          159.8935082,
          169.9608833,
          161.1808557,
          155.4209895,
          154.7139858,
          160.2561216,
          157.8220749,
          152.3889602,
          170.3612107,
          164.6600412,
          155.621106,
          159.8149349,
          158.137273,
          167.0322654,
          161.2175424,
          166.448307,
          161.2777263,
          158.4350097,
          154.7706078,
          159.517622,
          158.1864561,
          156.8944981,
          159.762217,
          154.3871646,
          154.144211,
          165.7761352,
          161.2271328,
          163.0573217,
          160.7157302,
          164.7308377,
          164.5173719,
          156.7193229,
          162.7824413,
          165.5245375,
          165.3026536,
          163.8159608,
          159.8104627,
          158.8377261,
          163.9240914,
          168.285067,
          162.4655675,
          157.335599,
          161.3047179,
          167.1227997,
          167.1975653,
          156.7888442,
          159.8572748,
          158.5787176,
          163.22541,
          162.027874,
          155.8757964,
          160.3617147,
          162.2638615,
          158.9213854,
          166.6739103,
          164.3299732,
          159.3794885,
          160.6953329,
          158.1217805,
          156.8863466,
          159.417654,
          152.7123349,
          159.1294047,
          166.0753995,
          166.0793945,
          163.3798399,
          161.6854548,
          161.80204,
          162.8271298,
          163.5700611,
          158.5279616,
          166.6226773,
          160.5303006,
          163.9391448,
          163.3118826,
          161.5584634,
          160.2883173,
          160.4836304,
          160.0370075,
          158.425687,
          154.7560774,
          157.3152177,
          159.8490637
         ],
         "x0": " ",
         "xaxis": "x",
         "y0": " ",
         "yaxis": "y"
        }
       ],
       "layout": {
        "boxmode": "group",
        "legend": {
         "title": {
          "text": "Sex"
         },
         "tracegroupgap": 0
        },
        "template": {
         "data": {
          "bar": [
           {
            "error_x": {
             "color": "#2a3f5f"
            },
            "error_y": {
             "color": "#2a3f5f"
            },
            "marker": {
             "line": {
              "color": "#E5ECF6",
              "width": 0.5
             },
             "pattern": {
              "fillmode": "overlay",
              "size": 10,
              "solidity": 0.2
             }
            },
            "type": "bar"
           }
          ],
          "barpolar": [
           {
            "marker": {
             "line": {
              "color": "#E5ECF6",
              "width": 0.5
             },
             "pattern": {
              "fillmode": "overlay",
              "size": 10,
              "solidity": 0.2
             }
            },
            "type": "barpolar"
           }
          ],
          "carpet": [
           {
            "aaxis": {
             "endlinecolor": "#2a3f5f",
             "gridcolor": "white",
             "linecolor": "white",
             "minorgridcolor": "white",
             "startlinecolor": "#2a3f5f"
            },
            "baxis": {
             "endlinecolor": "#2a3f5f",
             "gridcolor": "white",
             "linecolor": "white",
             "minorgridcolor": "white",
             "startlinecolor": "#2a3f5f"
            },
            "type": "carpet"
           }
          ],
          "choropleth": [
           {
            "colorbar": {
             "outlinewidth": 0,
             "ticks": ""
            },
            "type": "choropleth"
           }
          ],
          "contour": [
           {
            "colorbar": {
             "outlinewidth": 0,
             "ticks": ""
            },
            "colorscale": [
             [
              0,
              "#0d0887"
             ],
             [
              0.1111111111111111,
              "#46039f"
             ],
             [
              0.2222222222222222,
              "#7201a8"
             ],
             [
              0.3333333333333333,
              "#9c179e"
             ],
             [
              0.4444444444444444,
              "#bd3786"
             ],
             [
              0.5555555555555556,
              "#d8576b"
             ],
             [
              0.6666666666666666,
              "#ed7953"
             ],
             [
              0.7777777777777778,
              "#fb9f3a"
             ],
             [
              0.8888888888888888,
              "#fdca26"
             ],
             [
              1,
              "#f0f921"
             ]
            ],
            "type": "contour"
           }
          ],
          "contourcarpet": [
           {
            "colorbar": {
             "outlinewidth": 0,
             "ticks": ""
            },
            "type": "contourcarpet"
           }
          ],
          "heatmap": [
           {
            "colorbar": {
             "outlinewidth": 0,
             "ticks": ""
            },
            "colorscale": [
             [
              0,
              "#0d0887"
             ],
             [
              0.1111111111111111,
              "#46039f"
             ],
             [
              0.2222222222222222,
              "#7201a8"
             ],
             [
              0.3333333333333333,
              "#9c179e"
             ],
             [
              0.4444444444444444,
              "#bd3786"
             ],
             [
              0.5555555555555556,
              "#d8576b"
             ],
             [
              0.6666666666666666,
              "#ed7953"
             ],
             [
              0.7777777777777778,
              "#fb9f3a"
             ],
             [
              0.8888888888888888,
              "#fdca26"
             ],
             [
              1,
              "#f0f921"
             ]
            ],
            "type": "heatmap"
           }
          ],
          "heatmapgl": [
           {
            "colorbar": {
             "outlinewidth": 0,
             "ticks": ""
            },
            "colorscale": [
             [
              0,
              "#0d0887"
             ],
             [
              0.1111111111111111,
              "#46039f"
             ],
             [
              0.2222222222222222,
              "#7201a8"
             ],
             [
              0.3333333333333333,
              "#9c179e"
             ],
             [
              0.4444444444444444,
              "#bd3786"
             ],
             [
              0.5555555555555556,
              "#d8576b"
             ],
             [
              0.6666666666666666,
              "#ed7953"
             ],
             [
              0.7777777777777778,
              "#fb9f3a"
             ],
             [
              0.8888888888888888,
              "#fdca26"
             ],
             [
              1,
              "#f0f921"
             ]
            ],
            "type": "heatmapgl"
           }
          ],
          "histogram": [
           {
            "marker": {
             "pattern": {
              "fillmode": "overlay",
              "size": 10,
              "solidity": 0.2
             }
            },
            "type": "histogram"
           }
          ],
          "histogram2d": [
           {
            "colorbar": {
             "outlinewidth": 0,
             "ticks": ""
            },
            "colorscale": [
             [
              0,
              "#0d0887"
             ],
             [
              0.1111111111111111,
              "#46039f"
             ],
             [
              0.2222222222222222,
              "#7201a8"
             ],
             [
              0.3333333333333333,
              "#9c179e"
             ],
             [
              0.4444444444444444,
              "#bd3786"
             ],
             [
              0.5555555555555556,
              "#d8576b"
             ],
             [
              0.6666666666666666,
              "#ed7953"
             ],
             [
              0.7777777777777778,
              "#fb9f3a"
             ],
             [
              0.8888888888888888,
              "#fdca26"
             ],
             [
              1,
              "#f0f921"
             ]
            ],
            "type": "histogram2d"
           }
          ],
          "histogram2dcontour": [
           {
            "colorbar": {
             "outlinewidth": 0,
             "ticks": ""
            },
            "colorscale": [
             [
              0,
              "#0d0887"
             ],
             [
              0.1111111111111111,
              "#46039f"
             ],
             [
              0.2222222222222222,
              "#7201a8"
             ],
             [
              0.3333333333333333,
              "#9c179e"
             ],
             [
              0.4444444444444444,
              "#bd3786"
             ],
             [
              0.5555555555555556,
              "#d8576b"
             ],
             [
              0.6666666666666666,
              "#ed7953"
             ],
             [
              0.7777777777777778,
              "#fb9f3a"
             ],
             [
              0.8888888888888888,
              "#fdca26"
             ],
             [
              1,
              "#f0f921"
             ]
            ],
            "type": "histogram2dcontour"
           }
          ],
          "mesh3d": [
           {
            "colorbar": {
             "outlinewidth": 0,
             "ticks": ""
            },
            "type": "mesh3d"
           }
          ],
          "parcoords": [
           {
            "line": {
             "colorbar": {
              "outlinewidth": 0,
              "ticks": ""
             }
            },
            "type": "parcoords"
           }
          ],
          "pie": [
           {
            "automargin": true,
            "type": "pie"
           }
          ],
          "scatter": [
           {
            "fillpattern": {
             "fillmode": "overlay",
             "size": 10,
             "solidity": 0.2
            },
            "type": "scatter"
           }
          ],
          "scatter3d": [
           {
            "line": {
             "colorbar": {
              "outlinewidth": 0,
              "ticks": ""
             }
            },
            "marker": {
             "colorbar": {
              "outlinewidth": 0,
              "ticks": ""
             }
            },
            "type": "scatter3d"
           }
          ],
          "scattercarpet": [
           {
            "marker": {
             "colorbar": {
              "outlinewidth": 0,
              "ticks": ""
             }
            },
            "type": "scattercarpet"
           }
          ],
          "scattergeo": [
           {
            "marker": {
             "colorbar": {
              "outlinewidth": 0,
              "ticks": ""
             }
            },
            "type": "scattergeo"
           }
          ],
          "scattergl": [
           {
            "marker": {
             "colorbar": {
              "outlinewidth": 0,
              "ticks": ""
             }
            },
            "type": "scattergl"
           }
          ],
          "scattermapbox": [
           {
            "marker": {
             "colorbar": {
              "outlinewidth": 0,
              "ticks": ""
             }
            },
            "type": "scattermapbox"
           }
          ],
          "scatterpolar": [
           {
            "marker": {
             "colorbar": {
              "outlinewidth": 0,
              "ticks": ""
             }
            },
            "type": "scatterpolar"
           }
          ],
          "scatterpolargl": [
           {
            "marker": {
             "colorbar": {
              "outlinewidth": 0,
              "ticks": ""
             }
            },
            "type": "scatterpolargl"
           }
          ],
          "scatterternary": [
           {
            "marker": {
             "colorbar": {
              "outlinewidth": 0,
              "ticks": ""
             }
            },
            "type": "scatterternary"
           }
          ],
          "surface": [
           {
            "colorbar": {
             "outlinewidth": 0,
             "ticks": ""
            },
            "colorscale": [
             [
              0,
              "#0d0887"
             ],
             [
              0.1111111111111111,
              "#46039f"
             ],
             [
              0.2222222222222222,
              "#7201a8"
             ],
             [
              0.3333333333333333,
              "#9c179e"
             ],
             [
              0.4444444444444444,
              "#bd3786"
             ],
             [
              0.5555555555555556,
              "#d8576b"
             ],
             [
              0.6666666666666666,
              "#ed7953"
             ],
             [
              0.7777777777777778,
              "#fb9f3a"
             ],
             [
              0.8888888888888888,
              "#fdca26"
             ],
             [
              1,
              "#f0f921"
             ]
            ],
            "type": "surface"
           }
          ],
          "table": [
           {
            "cells": {
             "fill": {
              "color": "#EBF0F8"
             },
             "line": {
              "color": "white"
             }
            },
            "header": {
             "fill": {
              "color": "#C8D4E3"
             },
             "line": {
              "color": "white"
             }
            },
            "type": "table"
           }
          ]
         },
         "layout": {
          "annotationdefaults": {
           "arrowcolor": "#2a3f5f",
           "arrowhead": 0,
           "arrowwidth": 1
          },
          "autotypenumbers": "strict",
          "coloraxis": {
           "colorbar": {
            "outlinewidth": 0,
            "ticks": ""
           }
          },
          "colorscale": {
           "diverging": [
            [
             0,
             "#8e0152"
            ],
            [
             0.1,
             "#c51b7d"
            ],
            [
             0.2,
             "#de77ae"
            ],
            [
             0.3,
             "#f1b6da"
            ],
            [
             0.4,
             "#fde0ef"
            ],
            [
             0.5,
             "#f7f7f7"
            ],
            [
             0.6,
             "#e6f5d0"
            ],
            [
             0.7,
             "#b8e186"
            ],
            [
             0.8,
             "#7fbc41"
            ],
            [
             0.9,
             "#4d9221"
            ],
            [
             1,
             "#276419"
            ]
           ],
           "sequential": [
            [
             0,
             "#0d0887"
            ],
            [
             0.1111111111111111,
             "#46039f"
            ],
            [
             0.2222222222222222,
             "#7201a8"
            ],
            [
             0.3333333333333333,
             "#9c179e"
            ],
            [
             0.4444444444444444,
             "#bd3786"
            ],
            [
             0.5555555555555556,
             "#d8576b"
            ],
            [
             0.6666666666666666,
             "#ed7953"
            ],
            [
             0.7777777777777778,
             "#fb9f3a"
            ],
            [
             0.8888888888888888,
             "#fdca26"
            ],
            [
             1,
             "#f0f921"
            ]
           ],
           "sequentialminus": [
            [
             0,
             "#0d0887"
            ],
            [
             0.1111111111111111,
             "#46039f"
            ],
            [
             0.2222222222222222,
             "#7201a8"
            ],
            [
             0.3333333333333333,
             "#9c179e"
            ],
            [
             0.4444444444444444,
             "#bd3786"
            ],
            [
             0.5555555555555556,
             "#d8576b"
            ],
            [
             0.6666666666666666,
             "#ed7953"
            ],
            [
             0.7777777777777778,
             "#fb9f3a"
            ],
            [
             0.8888888888888888,
             "#fdca26"
            ],
            [
             1,
             "#f0f921"
            ]
           ]
          },
          "colorway": [
           "#636efa",
           "#EF553B",
           "#00cc96",
           "#ab63fa",
           "#FFA15A",
           "#19d3f3",
           "#FF6692",
           "#B6E880",
           "#FF97FF",
           "#FECB52"
          ],
          "font": {
           "color": "#2a3f5f"
          },
          "geo": {
           "bgcolor": "white",
           "lakecolor": "white",
           "landcolor": "#E5ECF6",
           "showlakes": true,
           "showland": true,
           "subunitcolor": "white"
          },
          "hoverlabel": {
           "align": "left"
          },
          "hovermode": "closest",
          "mapbox": {
           "style": "light"
          },
          "paper_bgcolor": "white",
          "plot_bgcolor": "#E5ECF6",
          "polar": {
           "angularaxis": {
            "gridcolor": "white",
            "linecolor": "white",
            "ticks": ""
           },
           "bgcolor": "#E5ECF6",
           "radialaxis": {
            "gridcolor": "white",
            "linecolor": "white",
            "ticks": ""
           }
          },
          "scene": {
           "xaxis": {
            "backgroundcolor": "#E5ECF6",
            "gridcolor": "white",
            "gridwidth": 2,
            "linecolor": "white",
            "showbackground": true,
            "ticks": "",
            "zerolinecolor": "white"
           },
           "yaxis": {
            "backgroundcolor": "#E5ECF6",
            "gridcolor": "white",
            "gridwidth": 2,
            "linecolor": "white",
            "showbackground": true,
            "ticks": "",
            "zerolinecolor": "white"
           },
           "zaxis": {
            "backgroundcolor": "#E5ECF6",
            "gridcolor": "white",
            "gridwidth": 2,
            "linecolor": "white",
            "showbackground": true,
            "ticks": "",
            "zerolinecolor": "white"
           }
          },
          "shapedefaults": {
           "line": {
            "color": "#2a3f5f"
           }
          },
          "ternary": {
           "aaxis": {
            "gridcolor": "white",
            "linecolor": "white",
            "ticks": ""
           },
           "baxis": {
            "gridcolor": "white",
            "linecolor": "white",
            "ticks": ""
           },
           "bgcolor": "#E5ECF6",
           "caxis": {
            "gridcolor": "white",
            "linecolor": "white",
            "ticks": ""
           }
          },
          "title": {
           "x": 0.05
          },
          "xaxis": {
           "automargin": true,
           "gridcolor": "white",
           "linecolor": "white",
           "ticks": "",
           "title": {
            "standoff": 15
           },
           "zerolinecolor": "white",
           "zerolinewidth": 2
          },
          "yaxis": {
           "automargin": true,
           "gridcolor": "white",
           "linecolor": "white",
           "ticks": "",
           "title": {
            "standoff": 15
           },
           "zerolinecolor": "white",
           "zerolinewidth": 2
          }
         }
        },
        "title": {
         "text": "Box Plot of Heights by Sex"
        },
        "xaxis": {
         "anchor": "y",
         "domain": [
          0,
          1
         ],
         "title": {
          "text": "Height"
         }
        },
        "yaxis": {
         "anchor": "x",
         "domain": [
          0,
          1
         ]
        }
       }
      },
      "image/png": "[encoded data removed]",
      "text/html": [
       "<div>                            <div id=\"04a0b9f8-4ae9-4c98-93ac-36d99b8dae93\" class=\"plotly-graph-div\" style=\"height:525px; width:100%;\"></div>            <script type=\"text/javascript\">                require([\"plotly\"], function(Plotly) {                    window.PLOTLYENV=window.PLOTLYENV || {};                                    if (document.getElementById(\"04a0b9f8-4ae9-4c98-93ac-36d99b8dae93\")) {                    Plotly.newPlot(                        \"04a0b9f8-4ae9-4c98-93ac-36d99b8dae93\",                        [{\"alignmentgroup\":\"True\",\"hovertemplate\":\"Sex=Boys\\u003cbr\\u003eHeight=%{x}\\u003cextra\\u003e\\u003c\\u002fextra\\u003e\",\"legendgroup\":\"Boys\",\"marker\":{\"color\":\"#636efa\"},\"name\":\"Boys\",\"notched\":false,\"offsetgroup\":\"Boys\",\"orientation\":\"h\",\"showlegend\":true,\"x\":[168.4952011,174.0708368,175.0402113,177.0945415,178.8426285,168.4641737,178.8352709,174.7549826,173.6666502,178.7742139,178.5244202,174.0024021,174.3971299,172.7639303,165.0814781,177.0283641,178.6913126,179.0933196,170.5235404,168.4402856,179.7190928,167.047405,168.1020022,182.4739613,173.1562439,175.7294701,166.3107865,174.1662959,171.8936289,167.3366923,176.2878151,165.3497028,172.1273456,178.7495629,169.0103541,171.8384508,172.8758725,175.660861,174.8348959,171.8528689,167.724913,171.2318603,178.3230318,174.0413739,168.233546,180.7589162,173.5583982,172.748561,181.1866355,181.8926588,170.7670714,180.1526393,174.6498499,168.5966271,167.3196536,174.5695408,170.6696869,168.1772539,170.6043697,182.7907032,168.8434837,173.9764485,180.5693897,178.6048688,178.3164001,170.4814842,168.3550469,175.9786311,180.2812073,170.3046673,179.2597832,173.8437525,178.6999159,164.3575117,170.6992167,168.1699422,172.1502463,172.229052,169.5905441,176.5873222,182.1015752,166.4952701,166.2576675,175.6229328,173.7936893,179.0393832,175.9835635,174.4246967,176.9742253,172.0628269,174.8389689,175.4969273,170.4552667,170.0907706,174.9625093,171.6648048,162.7805915,181.1711171,178.9571414,167.9243988,165.4756122,176.3925096,180.7233147,178.4613975,176.4252473,165.1618753,165.6750686,169.2035,167.8666326,175.0153974,174.3767502,165.2644168,165.5443523,173.0061028,170.2864395,169.5719143,175.5891559,170.6720031,183.3021555,176.3518212,164.2967622,166.6975031,169.7457063,169.5697914,164.3637755,183.7823942,177.7186704,169.9128092,170.2606015,171.5504656,177.1925778,174.6881165,180.4752288,175.0450534,171.6956401,167.3251134,170.6244315,170.1901695,163.097954,173.8061773,166.7506016,165.2326888,180.6864059,174.3708516,179.48215,173.2724105,177.8235057,176.6489555,166.0231738,173.7116523,176.4339349,177.4938788,174.4168439,170.3699634,170.6654708,176.1772132,180.7387125,175.8975925,166.4285078,173.4965252,181.0154868,180.9774125,163.0694439,171.2173809,169.6258335,175.5218658,176.1060863,168.0746406,172.0735944,174.5144365,169.4058542,180.4567319,178.7319158,171.6420138,173.5286917,168.431278,166.9789255,171.611156,160.1305426,170.1359032,176.0558521,175.113118,176.0332708,176.8533816,176.3558226,174.3725659,171.2982381,168.7360393,180.9759732,174.0772556,178.2080213,176.9373331,174.3233096,170.9421714,168.2940483,173.5337221,168.8948369,164.4164471,167.6155929,170.6857544],\"x0\":\" \",\"xaxis\":\"x\",\"y0\":\" \",\"yaxis\":\"y\",\"type\":\"box\"},{\"alignmentgroup\":\"True\",\"hovertemplate\":\"Sex=Girls\\u003cbr\\u003eHeight=%{x}\\u003cextra\\u003e\\u003c\\u002fextra\\u003e\",\"legendgroup\":\"Girls\",\"marker\":{\"color\":\"#EF553B\"},\"name\":\"Girls\",\"notched\":false,\"offsetgroup\":\"Girls\",\"orientation\":\"h\",\"showlegend\":true,\"x\":[156.1131365,162.228577,162.3471758,167.5515216,165.5339424,158.0968993,165.7236873,161.2204189,159.8502379,164.6657115,166.9267081,161.3748814,163.4605059,158.2908386,152.3776067,165.6637541,166.9286256,163.4017271,158.1200655,158.4004184,166.1100662,155.1525549,155.5752266,167.4703934,162.0619929,162.4109716,154.8975092,164.5763997,161.3260572,155.0750944,163.0984081,154.749508,160.4111854,164.7299393,159.6509569,162.124187,159.4177472,163.464143,160.6180502,157.9637321,156.5389135,158.7799374,167.3085696,160.357674,158.6523799,166.8030687,160.1349333,160.5529092,167.9634761,169.4706062,159.8239953,166.8884613,161.2094022,156.3007255,155.2489338,160.8845002,156.3895702,158.049563,157.5803008,168.6627596,157.1513304,164.2814691,166.4751191,164.4886274,166.518656,160.0451908,161.7281894,163.2390056,166.177267,158.8551002,165.8130758,161.3955504,165.9886854,150.9139679,158.7521597,158.7193539,159.5686675,160.5749918,155.1831397,162.5462546,168.9134842,155.1781714,154.3551613,161.1837018,158.748746,164.4968527,162.2225456,161.810158,164.3192602,158.5037434,159.4624081,161.7446106,159.4338103,161.0399239,160.1019556,160.2019309,153.0990839,168.8066284,163.6704906,156.7207687,156.5414075,162.5616604,167.6298923,165.0690213,160.8842672,153.0638056,156.1409983,157.0637126,154.2846913,161.9892021,162.9504739,154.757255,160.0617358,158.9428354,157.9019214,159.6585322,162.9612374,159.8935082,169.9608833,161.1808557,155.4209895,154.7139858,160.2561216,157.8220749,152.3889602,170.3612107,164.6600412,155.621106,159.8149349,158.137273,167.0322654,161.2175424,166.448307,161.2777263,158.4350097,154.7706078,159.517622,158.1864561,156.8944981,159.762217,154.3871646,154.144211,165.7761352,161.2271328,163.0573217,160.7157302,164.7308377,164.5173719,156.7193229,162.7824413,165.5245375,165.3026536,163.8159608,159.8104627,158.8377261,163.9240914,168.285067,162.4655675,157.335599,161.3047179,167.1227997,167.1975653,156.7888442,159.8572748,158.5787176,163.22541,162.027874,155.8757964,160.3617147,162.2638615,158.9213854,166.6739103,164.3299732,159.3794885,160.6953329,158.1217805,156.8863466,159.417654,152.7123349,159.1294047,166.0753995,166.0793945,163.3798399,161.6854548,161.80204,162.8271298,163.5700611,158.5279616,166.6226773,160.5303006,163.9391448,163.3118826,161.5584634,160.2883173,160.4836304,160.0370075,158.425687,154.7560774,157.3152177,159.8490637],\"x0\":\" \",\"xaxis\":\"x\",\"y0\":\" \",\"yaxis\":\"y\",\"type\":\"box\"}],                        {\"template\":{\"data\":{\"histogram2dcontour\":[{\"type\":\"histogram2dcontour\",\"colorbar\":{\"outlinewidth\":0,\"ticks\":\"\"},\"colorscale\":[[0.0,\"#0d0887\"],[0.1111111111111111,\"#46039f\"],[0.2222222222222222,\"#7201a8\"],[0.3333333333333333,\"#9c179e\"],[0.4444444444444444,\"#bd3786\"],[0.5555555555555556,\"#d8576b\"],[0.6666666666666666,\"#ed7953\"],[0.7777777777777778,\"#fb9f3a\"],[0.8888888888888888,\"#fdca26\"],[1.0,\"#f0f921\"]]}],\"choropleth\":[{\"type\":\"choropleth\",\"colorbar\":{\"outlinewidth\":0,\"ticks\":\"\"}}],\"histogram2d\":[{\"type\":\"histogram2d\",\"colorbar\":{\"outlinewidth\":0,\"ticks\":\"\"},\"colorscale\":[[0.0,\"#0d0887\"],[0.1111111111111111,\"#46039f\"],[0.2222222222222222,\"#7201a8\"],[0.3333333333333333,\"#9c179e\"],[0.4444444444444444,\"#bd3786\"],[0.5555555555555556,\"#d8576b\"],[0.6666666666666666,\"#ed7953\"],[0.7777777777777778,\"#fb9f3a\"],[0.8888888888888888,\"#fdca26\"],[1.0,\"#f0f921\"]]}],\"heatmap\":[{\"type\":\"heatmap\",\"colorbar\":{\"outlinewidth\":0,\"ticks\":\"\"},\"colorscale\":[[0.0,\"#0d0887\"],[0.1111111111111111,\"#46039f\"],[0.2222222222222222,\"#7201a8\"],[0.3333333333333333,\"#9c179e\"],[0.4444444444444444,\"#bd3786\"],[0.5555555555555556,\"#d8576b\"],[0.6666666666666666,\"#ed7953\"],[0.7777777777777778,\"#fb9f3a\"],[0.8888888888888888,\"#fdca26\"],[1.0,\"#f0f921\"]]}],\"heatmapgl\":[{\"type\":\"heatmapgl\",\"colorbar\":{\"outlinewidth\":0,\"ticks\":\"\"},\"colorscale\":[[0.0,\"#0d0887\"],[0.1111111111111111,\"#46039f\"],[0.2222222222222222,\"#7201a8\"],[0.3333333333333333,\"#9c179e\"],[0.4444444444444444,\"#bd3786\"],[0.5555555555555556,\"#d8576b\"],[0.6666666666666666,\"#ed7953\"],[0.7777777777777778,\"#fb9f3a\"],[0.8888888888888888,\"#fdca26\"],[1.0,\"#f0f921\"]]}],\"contourcarpet\":[{\"type\":\"contourcarpet\",\"colorbar\":{\"outlinewidth\":0,\"ticks\":\"\"}}],\"contour\":[{\"type\":\"contour\",\"colorbar\":{\"outlinewidth\":0,\"ticks\":\"\"},\"colorscale\":[[0.0,\"#0d0887\"],[0.1111111111111111,\"#46039f\"],[0.2222222222222222,\"#7201a8\"],[0.3333333333333333,\"#9c179e\"],[0.4444444444444444,\"#bd3786\"],[0.5555555555555556,\"#d8576b\"],[0.6666666666666666,\"#ed7953\"],[0.7777777777777778,\"#fb9f3a\"],[0.8888888888888888,\"#fdca26\"],[1.0,\"#f0f921\"]]}],\"surface\":[{\"type\":\"surface\",\"colorbar\":{\"outlinewidth\":0,\"ticks\":\"\"},\"colorscale\":[[0.0,\"#0d0887\"],[0.1111111111111111,\"#46039f\"],[0.2222222222222222,\"#7201a8\"],[0.3333333333333333,\"#9c179e\"],[0.4444444444444444,\"#bd3786\"],[0.5555555555555556,\"#d8576b\"],[0.6666666666666666,\"#ed7953\"],[0.7777777777777778,\"#fb9f3a\"],[0.8888888888888888,\"#fdca26\"],[1.0,\"#f0f921\"]]}],\"mesh3d\":[{\"type\":\"mesh3d\",\"colorbar\":{\"outlinewidth\":0,\"ticks\":\"\"}}],\"scatter\":[{\"fillpattern\":{\"fillmode\":\"overlay\",\"size\":10,\"solidity\":0.2},\"type\":\"scatter\"}],\"parcoords\":[{\"type\":\"parcoords\",\"line\":{\"colorbar\":{\"outlinewidth\":0,\"ticks\":\"\"}}}],\"scatterpolargl\":[{\"type\":\"scatterpolargl\",\"marker\":{\"colorbar\":{\"outlinewidth\":0,\"ticks\":\"\"}}}],\"bar\":[{\"error_x\":{\"color\":\"#2a3f5f\"},\"error_y\":{\"color\":\"#2a3f5f\"},\"marker\":{\"line\":{\"color\":\"#E5ECF6\",\"width\":0.5},\"pattern\":{\"fillmode\":\"overlay\",\"size\":10,\"solidity\":0.2}},\"type\":\"bar\"}],\"scattergeo\":[{\"type\":\"scattergeo\",\"marker\":{\"colorbar\":{\"outlinewidth\":0,\"ticks\":\"\"}}}],\"scatterpolar\":[{\"type\":\"scatterpolar\",\"marker\":{\"colorbar\":{\"outlinewidth\":0,\"ticks\":\"\"}}}],\"histogram\":[{\"marker\":{\"pattern\":{\"fillmode\":\"overlay\",\"size\":10,\"solidity\":0.2}},\"type\":\"histogram\"}],\"scattergl\":[{\"type\":\"scattergl\",\"marker\":{\"colorbar\":{\"outlinewidth\":0,\"ticks\":\"\"}}}],\"scatter3d\":[{\"type\":\"scatter3d\",\"line\":{\"colorbar\":{\"outlinewidth\":0,\"ticks\":\"\"}},\"marker\":{\"colorbar\":{\"outlinewidth\":0,\"ticks\":\"\"}}}],\"scattermapbox\":[{\"type\":\"scattermapbox\",\"marker\":{\"colorbar\":{\"outlinewidth\":0,\"ticks\":\"\"}}}],\"scatterternary\":[{\"type\":\"scatterternary\",\"marker\":{\"colorbar\":{\"outlinewidth\":0,\"ticks\":\"\"}}}],\"scattercarpet\":[{\"type\":\"scattercarpet\",\"marker\":{\"colorbar\":{\"outlinewidth\":0,\"ticks\":\"\"}}}],\"carpet\":[{\"aaxis\":{\"endlinecolor\":\"#2a3f5f\",\"gridcolor\":\"white\",\"linecolor\":\"white\",\"minorgridcolor\":\"white\",\"startlinecolor\":\"#2a3f5f\"},\"baxis\":{\"endlinecolor\":\"#2a3f5f\",\"gridcolor\":\"white\",\"linecolor\":\"white\",\"minorgridcolor\":\"white\",\"startlinecolor\":\"#2a3f5f\"},\"type\":\"carpet\"}],\"table\":[{\"cells\":{\"fill\":{\"color\":\"#EBF0F8\"},\"line\":{\"color\":\"white\"}},\"header\":{\"fill\":{\"color\":\"#C8D4E3\"},\"line\":{\"color\":\"white\"}},\"type\":\"table\"}],\"barpolar\":[{\"marker\":{\"line\":{\"color\":\"#E5ECF6\",\"width\":0.5},\"pattern\":{\"fillmode\":\"overlay\",\"size\":10,\"solidity\":0.2}},\"type\":\"barpolar\"}],\"pie\":[{\"automargin\":true,\"type\":\"pie\"}]},\"layout\":{\"autotypenumbers\":\"strict\",\"colorway\":[\"#636efa\",\"#EF553B\",\"#00cc96\",\"#ab63fa\",\"#FFA15A\",\"#19d3f3\",\"#FF6692\",\"#B6E880\",\"#FF97FF\",\"#FECB52\"],\"font\":{\"color\":\"#2a3f5f\"},\"hovermode\":\"closest\",\"hoverlabel\":{\"align\":\"left\"},\"paper_bgcolor\":\"white\",\"plot_bgcolor\":\"#E5ECF6\",\"polar\":{\"bgcolor\":\"#E5ECF6\",\"angularaxis\":{\"gridcolor\":\"white\",\"linecolor\":\"white\",\"ticks\":\"\"},\"radialaxis\":{\"gridcolor\":\"white\",\"linecolor\":\"white\",\"ticks\":\"\"}},\"ternary\":{\"bgcolor\":\"#E5ECF6\",\"aaxis\":{\"gridcolor\":\"white\",\"linecolor\":\"white\",\"ticks\":\"\"},\"baxis\":{\"gridcolor\":\"white\",\"linecolor\":\"white\",\"ticks\":\"\"},\"caxis\":{\"gridcolor\":\"white\",\"linecolor\":\"white\",\"ticks\":\"\"}},\"coloraxis\":{\"colorbar\":{\"outlinewidth\":0,\"ticks\":\"\"}},\"colorscale\":{\"sequential\":[[0.0,\"#0d0887\"],[0.1111111111111111,\"#46039f\"],[0.2222222222222222,\"#7201a8\"],[0.3333333333333333,\"#9c179e\"],[0.4444444444444444,\"#bd3786\"],[0.5555555555555556,\"#d8576b\"],[0.6666666666666666,\"#ed7953\"],[0.7777777777777778,\"#fb9f3a\"],[0.8888888888888888,\"#fdca26\"],[1.0,\"#f0f921\"]],\"sequentialminus\":[[0.0,\"#0d0887\"],[0.1111111111111111,\"#46039f\"],[0.2222222222222222,\"#7201a8\"],[0.3333333333333333,\"#9c179e\"],[0.4444444444444444,\"#bd3786\"],[0.5555555555555556,\"#d8576b\"],[0.6666666666666666,\"#ed7953\"],[0.7777777777777778,\"#fb9f3a\"],[0.8888888888888888,\"#fdca26\"],[1.0,\"#f0f921\"]],\"diverging\":[[0,\"#8e0152\"],[0.1,\"#c51b7d\"],[0.2,\"#de77ae\"],[0.3,\"#f1b6da\"],[0.4,\"#fde0ef\"],[0.5,\"#f7f7f7\"],[0.6,\"#e6f5d0\"],[0.7,\"#b8e186\"],[0.8,\"#7fbc41\"],[0.9,\"#4d9221\"],[1,\"#276419\"]]},\"xaxis\":{\"gridcolor\":\"white\",\"linecolor\":\"white\",\"ticks\":\"\",\"title\":{\"standoff\":15},\"zerolinecolor\":\"white\",\"automargin\":true,\"zerolinewidth\":2},\"yaxis\":{\"gridcolor\":\"white\",\"linecolor\":\"white\",\"ticks\":\"\",\"title\":{\"standoff\":15},\"zerolinecolor\":\"white\",\"automargin\":true,\"zerolinewidth\":2},\"scene\":{\"xaxis\":{\"backgroundcolor\":\"#E5ECF6\",\"gridcolor\":\"white\",\"linecolor\":\"white\",\"showbackground\":true,\"ticks\":\"\",\"zerolinecolor\":\"white\",\"gridwidth\":2},\"yaxis\":{\"backgroundcolor\":\"#E5ECF6\",\"gridcolor\":\"white\",\"linecolor\":\"white\",\"showbackground\":true,\"ticks\":\"\",\"zerolinecolor\":\"white\",\"gridwidth\":2},\"zaxis\":{\"backgroundcolor\":\"#E5ECF6\",\"gridcolor\":\"white\",\"linecolor\":\"white\",\"showbackground\":true,\"ticks\":\"\",\"zerolinecolor\":\"white\",\"gridwidth\":2}},\"shapedefaults\":{\"line\":{\"color\":\"#2a3f5f\"}},\"annotationdefaults\":{\"arrowcolor\":\"#2a3f5f\",\"arrowhead\":0,\"arrowwidth\":1},\"geo\":{\"bgcolor\":\"white\",\"landcolor\":\"#E5ECF6\",\"subunitcolor\":\"white\",\"showland\":true,\"showlakes\":true,\"lakecolor\":\"white\"},\"title\":{\"x\":0.05},\"mapbox\":{\"style\":\"light\"}}},\"xaxis\":{\"anchor\":\"y\",\"domain\":[0.0,1.0],\"title\":{\"text\":\"Height\"}},\"yaxis\":{\"anchor\":\"x\",\"domain\":[0.0,1.0]},\"legend\":{\"title\":{\"text\":\"Sex\"},\"tracegroupgap\":0},\"title\":{\"text\":\"Box Plot of Heights by Sex\"},\"boxmode\":\"group\"},                        {\"responsive\": true}                    ).then(function(){\n",
       "                            \n",
       "var gd = document.getElementById('04a0b9f8-4ae9-4c98-93ac-36d99b8dae93');\n",
       "var x = new MutationObserver(function (mutations, observer) {{\n",
       "        var display = window.getComputedStyle(gd).display;\n",
       "        if (!display || display === 'none') {{\n",
       "            console.log([gd, 'removed!']);\n",
       "            Plotly.purge(gd);\n",
       "            observer.disconnect();\n",
       "        }}\n",
       "}});\n",
       "\n",
       "// Listen for the removal of the full notebook cells\n",
       "var notebookContainer = gd.closest('#notebook-container');\n",
       "if (notebookContainer) {{\n",
       "    x.observe(notebookContainer, {childList: true});\n",
       "}}\n",
       "\n",
       "// Listen for the clearing of the current output cell\n",
       "var outputEl = gd.closest('.output');\n",
       "if (outputEl) {{\n",
       "    x.observe(outputEl, {childList: true});\n",
       "}}\n",
       "\n",
       "                        })                };                });            </script>        </div>"
      ]
     },
     "metadata": {},
     "output_type": "display_data"
    }
   ],
   "source": [
    "#sex of adult box chart\n",
    "px.box(adults, x=\"Height\", color=\"Sex\", title=\"Box Plot of Heights by Sex\")"
   ]
  },
  {
   "cell_type": "code",
   "execution_count": 21,
   "id": "672d57ca-cc16-426d-bd2b-6e243ba5911b",
   "metadata": {},
   "outputs": [
    {
     "data": {
      "application/vnd.plotly.v1+json": {
       "config": {
        "plotlyServerURL": "https://plot.ly"
       },
       "data": [
        {
         "alignmentgroup": "True",
         "box": {
          "visible": true
         },
         "hovertemplate": "Height=%{y}<extra></extra>",
         "legendgroup": "",
         "marker": {
          "color": "#636efa"
         },
         "name": "",
         "offsetgroup": "",
         "orientation": "v",
         "scalegroup": "True",
         "showlegend": false,
         "type": "violin",
         "x0": " ",
         "xaxis": "x",
         "y": [
          168.4952011,
          174.0708368,
          175.0402113,
          177.0945415,
          178.8426285,
          168.4641737,
          178.8352709,
          174.7549826,
          173.6666502,
          178.7742139,
          178.5244202,
          174.0024021,
          174.3971299,
          172.7639303,
          165.0814781,
          177.0283641,
          178.6913126,
          179.0933196,
          170.5235404,
          168.4402856,
          179.7190928,
          167.047405,
          168.1020022,
          182.4739613,
          173.1562439,
          175.7294701,
          166.3107865,
          174.1662959,
          171.8936289,
          167.3366923,
          176.2878151,
          165.3497028,
          172.1273456,
          178.7495629,
          169.0103541,
          171.8384508,
          172.8758725,
          175.660861,
          174.8348959,
          171.8528689,
          167.724913,
          171.2318603,
          178.3230318,
          174.0413739,
          168.233546,
          180.7589162,
          173.5583982,
          172.748561,
          181.1866355,
          181.8926588,
          170.7670714,
          180.1526393,
          174.6498499,
          168.5966271,
          167.3196536,
          174.5695408,
          170.6696869,
          168.1772539,
          170.6043697,
          182.7907032,
          168.8434837,
          173.9764485,
          180.5693897,
          178.6048688,
          178.3164001,
          170.4814842,
          168.3550469,
          175.9786311,
          180.2812073,
          170.3046673,
          179.2597832,
          173.8437525,
          178.6999159,
          164.3575117,
          170.6992167,
          168.1699422,
          172.1502463,
          172.229052,
          169.5905441,
          176.5873222,
          182.1015752,
          166.4952701,
          166.2576675,
          175.6229328,
          173.7936893,
          179.0393832,
          175.9835635,
          174.4246967,
          176.9742253,
          172.0628269,
          174.8389689,
          175.4969273,
          170.4552667,
          170.0907706,
          174.9625093,
          171.6648048,
          162.7805915,
          181.1711171,
          178.9571414,
          167.9243988,
          165.4756122,
          176.3925096,
          180.7233147,
          178.4613975,
          176.4252473,
          165.1618753,
          165.6750686,
          169.2035,
          167.8666326,
          175.0153974,
          174.3767502,
          165.2644168,
          165.5443523,
          173.0061028,
          170.2864395,
          169.5719143,
          175.5891559,
          170.6720031,
          183.3021555,
          176.3518212,
          164.2967622,
          166.6975031,
          169.7457063,
          169.5697914,
          164.3637755,
          183.7823942,
          177.7186704,
          169.9128092,
          170.2606015,
          171.5504656,
          177.1925778,
          174.6881165,
          180.4752288,
          175.0450534,
          171.6956401,
          167.3251134,
          170.6244315,
          170.1901695,
          163.097954,
          173.8061773,
          166.7506016,
          165.2326888,
          180.6864059,
          174.3708516,
          179.48215,
          173.2724105,
          177.8235057,
          176.6489555,
          166.0231738,
          173.7116523,
          176.4339349,
          177.4938788,
          174.4168439,
          170.3699634,
          170.6654708,
          176.1772132,
          180.7387125,
          175.8975925,
          166.4285078,
          173.4965252,
          181.0154868,
          180.9774125,
          163.0694439,
          171.2173809,
          169.6258335,
          175.5218658,
          176.1060863,
          168.0746406,
          172.0735944,
          174.5144365,
          169.4058542,
          180.4567319,
          178.7319158,
          171.6420138,
          173.5286917,
          168.431278,
          166.9789255,
          171.611156,
          160.1305426,
          170.1359032,
          176.0558521,
          175.113118,
          176.0332708,
          176.8533816,
          176.3558226,
          174.3725659,
          171.2982381,
          168.7360393,
          180.9759732,
          174.0772556,
          178.2080213,
          176.9373331,
          174.3233096,
          170.9421714,
          168.2940483,
          173.5337221,
          168.8948369,
          164.4164471,
          167.6155929,
          170.6857544,
          156.1131365,
          162.228577,
          162.3471758,
          167.5515216,
          165.5339424,
          158.0968993,
          165.7236873,
          161.2204189,
          159.8502379,
          164.6657115,
          166.9267081,
          161.3748814,
          163.4605059,
          158.2908386,
          152.3776067,
          165.6637541,
          166.9286256,
          163.4017271,
          158.1200655,
          158.4004184,
          166.1100662,
          155.1525549,
          155.5752266,
          167.4703934,
          162.0619929,
          162.4109716,
          154.8975092,
          164.5763997,
          161.3260572,
          155.0750944,
          163.0984081,
          154.749508,
          160.4111854,
          164.7299393,
          159.6509569,
          162.124187,
          159.4177472,
          163.464143,
          160.6180502,
          157.9637321,
          156.5389135,
          158.7799374,
          167.3085696,
          160.357674,
          158.6523799,
          166.8030687,
          160.1349333,
          160.5529092,
          167.9634761,
          169.4706062,
          159.8239953,
          166.8884613,
          161.2094022,
          156.3007255,
          155.2489338,
          160.8845002,
          156.3895702,
          158.049563,
          157.5803008,
          168.6627596,
          157.1513304,
          164.2814691,
          166.4751191,
          164.4886274,
          166.518656,
          160.0451908,
          161.7281894,
          163.2390056,
          166.177267,
          158.8551002,
          165.8130758,
          161.3955504,
          165.9886854,
          150.9139679,
          158.7521597,
          158.7193539,
          159.5686675,
          160.5749918,
          155.1831397,
          162.5462546,
          168.9134842,
          155.1781714,
          154.3551613,
          161.1837018,
          158.748746,
          164.4968527,
          162.2225456,
          161.810158,
          164.3192602,
          158.5037434,
          159.4624081,
          161.7446106,
          159.4338103,
          161.0399239,
          160.1019556,
          160.2019309,
          153.0990839,
          168.8066284,
          163.6704906,
          156.7207687,
          156.5414075,
          162.5616604,
          167.6298923,
          165.0690213,
          160.8842672,
          153.0638056,
          156.1409983,
          157.0637126,
          154.2846913,
          161.9892021,
          162.9504739,
          154.757255,
          160.0617358,
          158.9428354,
          157.9019214,
          159.6585322,
          162.9612374,
          159.8935082,
          169.9608833,
          161.1808557,
          155.4209895,
          154.7139858,
          160.2561216,
          157.8220749,
          152.3889602,
          170.3612107,
          164.6600412,
          155.621106,
          159.8149349,
          158.137273,
          167.0322654,
          161.2175424,
          166.448307,
          161.2777263,
          158.4350097,
          154.7706078,
          159.517622,
          158.1864561,
          156.8944981,
          159.762217,
          154.3871646,
          154.144211,
          165.7761352,
          161.2271328,
          163.0573217,
          160.7157302,
          164.7308377,
          164.5173719,
          156.7193229,
          162.7824413,
          165.5245375,
          165.3026536,
          163.8159608,
          159.8104627,
          158.8377261,
          163.9240914,
          168.285067,
          162.4655675,
          157.335599,
          161.3047179,
          167.1227997,
          167.1975653,
          156.7888442,
          159.8572748,
          158.5787176,
          163.22541,
          162.027874,
          155.8757964,
          160.3617147,
          162.2638615,
          158.9213854,
          166.6739103,
          164.3299732,
          159.3794885,
          160.6953329,
          158.1217805,
          156.8863466,
          159.417654,
          152.7123349,
          159.1294047,
          166.0753995,
          166.0793945,
          163.3798399,
          161.6854548,
          161.80204,
          162.8271298,
          163.5700611,
          158.5279616,
          166.6226773,
          160.5303006,
          163.9391448,
          163.3118826,
          161.5584634,
          160.2883173,
          160.4836304,
          160.0370075,
          158.425687,
          154.7560774,
          157.3152177,
          159.8490637
         ],
         "y0": " ",
         "yaxis": "y"
        }
       ],
       "layout": {
        "legend": {
         "tracegroupgap": 0
        },
        "template": {
         "data": {
          "bar": [
           {
            "error_x": {
             "color": "#2a3f5f"
            },
            "error_y": {
             "color": "#2a3f5f"
            },
            "marker": {
             "line": {
              "color": "#E5ECF6",
              "width": 0.5
             },
             "pattern": {
              "fillmode": "overlay",
              "size": 10,
              "solidity": 0.2
             }
            },
            "type": "bar"
           }
          ],
          "barpolar": [
           {
            "marker": {
             "line": {
              "color": "#E5ECF6",
              "width": 0.5
             },
             "pattern": {
              "fillmode": "overlay",
              "size": 10,
              "solidity": 0.2
             }
            },
            "type": "barpolar"
           }
          ],
          "carpet": [
           {
            "aaxis": {
             "endlinecolor": "#2a3f5f",
             "gridcolor": "white",
             "linecolor": "white",
             "minorgridcolor": "white",
             "startlinecolor": "#2a3f5f"
            },
            "baxis": {
             "endlinecolor": "#2a3f5f",
             "gridcolor": "white",
             "linecolor": "white",
             "minorgridcolor": "white",
             "startlinecolor": "#2a3f5f"
            },
            "type": "carpet"
           }
          ],
          "choropleth": [
           {
            "colorbar": {
             "outlinewidth": 0,
             "ticks": ""
            },
            "type": "choropleth"
           }
          ],
          "contour": [
           {
            "colorbar": {
             "outlinewidth": 0,
             "ticks": ""
            },
            "colorscale": [
             [
              0,
              "#0d0887"
             ],
             [
              0.1111111111111111,
              "#46039f"
             ],
             [
              0.2222222222222222,
              "#7201a8"
             ],
             [
              0.3333333333333333,
              "#9c179e"
             ],
             [
              0.4444444444444444,
              "#bd3786"
             ],
             [
              0.5555555555555556,
              "#d8576b"
             ],
             [
              0.6666666666666666,
              "#ed7953"
             ],
             [
              0.7777777777777778,
              "#fb9f3a"
             ],
             [
              0.8888888888888888,
              "#fdca26"
             ],
             [
              1,
              "#f0f921"
             ]
            ],
            "type": "contour"
           }
          ],
          "contourcarpet": [
           {
            "colorbar": {
             "outlinewidth": 0,
             "ticks": ""
            },
            "type": "contourcarpet"
           }
          ],
          "heatmap": [
           {
            "colorbar": {
             "outlinewidth": 0,
             "ticks": ""
            },
            "colorscale": [
             [
              0,
              "#0d0887"
             ],
             [
              0.1111111111111111,
              "#46039f"
             ],
             [
              0.2222222222222222,
              "#7201a8"
             ],
             [
              0.3333333333333333,
              "#9c179e"
             ],
             [
              0.4444444444444444,
              "#bd3786"
             ],
             [
              0.5555555555555556,
              "#d8576b"
             ],
             [
              0.6666666666666666,
              "#ed7953"
             ],
             [
              0.7777777777777778,
              "#fb9f3a"
             ],
             [
              0.8888888888888888,
              "#fdca26"
             ],
             [
              1,
              "#f0f921"
             ]
            ],
            "type": "heatmap"
           }
          ],
          "heatmapgl": [
           {
            "colorbar": {
             "outlinewidth": 0,
             "ticks": ""
            },
            "colorscale": [
             [
              0,
              "#0d0887"
             ],
             [
              0.1111111111111111,
              "#46039f"
             ],
             [
              0.2222222222222222,
              "#7201a8"
             ],
             [
              0.3333333333333333,
              "#9c179e"
             ],
             [
              0.4444444444444444,
              "#bd3786"
             ],
             [
              0.5555555555555556,
              "#d8576b"
             ],
             [
              0.6666666666666666,
              "#ed7953"
             ],
             [
              0.7777777777777778,
              "#fb9f3a"
             ],
             [
              0.8888888888888888,
              "#fdca26"
             ],
             [
              1,
              "#f0f921"
             ]
            ],
            "type": "heatmapgl"
           }
          ],
          "histogram": [
           {
            "marker": {
             "pattern": {
              "fillmode": "overlay",
              "size": 10,
              "solidity": 0.2
             }
            },
            "type": "histogram"
           }
          ],
          "histogram2d": [
           {
            "colorbar": {
             "outlinewidth": 0,
             "ticks": ""
            },
            "colorscale": [
             [
              0,
              "#0d0887"
             ],
             [
              0.1111111111111111,
              "#46039f"
             ],
             [
              0.2222222222222222,
              "#7201a8"
             ],
             [
              0.3333333333333333,
              "#9c179e"
             ],
             [
              0.4444444444444444,
              "#bd3786"
             ],
             [
              0.5555555555555556,
              "#d8576b"
             ],
             [
              0.6666666666666666,
              "#ed7953"
             ],
             [
              0.7777777777777778,
              "#fb9f3a"
             ],
             [
              0.8888888888888888,
              "#fdca26"
             ],
             [
              1,
              "#f0f921"
             ]
            ],
            "type": "histogram2d"
           }
          ],
          "histogram2dcontour": [
           {
            "colorbar": {
             "outlinewidth": 0,
             "ticks": ""
            },
            "colorscale": [
             [
              0,
              "#0d0887"
             ],
             [
              0.1111111111111111,
              "#46039f"
             ],
             [
              0.2222222222222222,
              "#7201a8"
             ],
             [
              0.3333333333333333,
              "#9c179e"
             ],
             [
              0.4444444444444444,
              "#bd3786"
             ],
             [
              0.5555555555555556,
              "#d8576b"
             ],
             [
              0.6666666666666666,
              "#ed7953"
             ],
             [
              0.7777777777777778,
              "#fb9f3a"
             ],
             [
              0.8888888888888888,
              "#fdca26"
             ],
             [
              1,
              "#f0f921"
             ]
            ],
            "type": "histogram2dcontour"
           }
          ],
          "mesh3d": [
           {
            "colorbar": {
             "outlinewidth": 0,
             "ticks": ""
            },
            "type": "mesh3d"
           }
          ],
          "parcoords": [
           {
            "line": {
             "colorbar": {
              "outlinewidth": 0,
              "ticks": ""
             }
            },
            "type": "parcoords"
           }
          ],
          "pie": [
           {
            "automargin": true,
            "type": "pie"
           }
          ],
          "scatter": [
           {
            "fillpattern": {
             "fillmode": "overlay",
             "size": 10,
             "solidity": 0.2
            },
            "type": "scatter"
           }
          ],
          "scatter3d": [
           {
            "line": {
             "colorbar": {
              "outlinewidth": 0,
              "ticks": ""
             }
            },
            "marker": {
             "colorbar": {
              "outlinewidth": 0,
              "ticks": ""
             }
            },
            "type": "scatter3d"
           }
          ],
          "scattercarpet": [
           {
            "marker": {
             "colorbar": {
              "outlinewidth": 0,
              "ticks": ""
             }
            },
            "type": "scattercarpet"
           }
          ],
          "scattergeo": [
           {
            "marker": {
             "colorbar": {
              "outlinewidth": 0,
              "ticks": ""
             }
            },
            "type": "scattergeo"
           }
          ],
          "scattergl": [
           {
            "marker": {
             "colorbar": {
              "outlinewidth": 0,
              "ticks": ""
             }
            },
            "type": "scattergl"
           }
          ],
          "scattermapbox": [
           {
            "marker": {
             "colorbar": {
              "outlinewidth": 0,
              "ticks": ""
             }
            },
            "type": "scattermapbox"
           }
          ],
          "scatterpolar": [
           {
            "marker": {
             "colorbar": {
              "outlinewidth": 0,
              "ticks": ""
             }
            },
            "type": "scatterpolar"
           }
          ],
          "scatterpolargl": [
           {
            "marker": {
             "colorbar": {
              "outlinewidth": 0,
              "ticks": ""
             }
            },
            "type": "scatterpolargl"
           }
          ],
          "scatterternary": [
           {
            "marker": {
             "colorbar": {
              "outlinewidth": 0,
              "ticks": ""
             }
            },
            "type": "scatterternary"
           }
          ],
          "surface": [
           {
            "colorbar": {
             "outlinewidth": 0,
             "ticks": ""
            },
            "colorscale": [
             [
              0,
              "#0d0887"
             ],
             [
              0.1111111111111111,
              "#46039f"
             ],
             [
              0.2222222222222222,
              "#7201a8"
             ],
             [
              0.3333333333333333,
              "#9c179e"
             ],
             [
              0.4444444444444444,
              "#bd3786"
             ],
             [
              0.5555555555555556,
              "#d8576b"
             ],
             [
              0.6666666666666666,
              "#ed7953"
             ],
             [
              0.7777777777777778,
              "#fb9f3a"
             ],
             [
              0.8888888888888888,
              "#fdca26"
             ],
             [
              1,
              "#f0f921"
             ]
            ],
            "type": "surface"
           }
          ],
          "table": [
           {
            "cells": {
             "fill": {
              "color": "#EBF0F8"
             },
             "line": {
              "color": "white"
             }
            },
            "header": {
             "fill": {
              "color": "#C8D4E3"
             },
             "line": {
              "color": "white"
             }
            },
            "type": "table"
           }
          ]
         },
         "layout": {
          "annotationdefaults": {
           "arrowcolor": "#2a3f5f",
           "arrowhead": 0,
           "arrowwidth": 1
          },
          "autotypenumbers": "strict",
          "coloraxis": {
           "colorbar": {
            "outlinewidth": 0,
            "ticks": ""
           }
          },
          "colorscale": {
           "diverging": [
            [
             0,
             "#8e0152"
            ],
            [
             0.1,
             "#c51b7d"
            ],
            [
             0.2,
             "#de77ae"
            ],
            [
             0.3,
             "#f1b6da"
            ],
            [
             0.4,
             "#fde0ef"
            ],
            [
             0.5,
             "#f7f7f7"
            ],
            [
             0.6,
             "#e6f5d0"
            ],
            [
             0.7,
             "#b8e186"
            ],
            [
             0.8,
             "#7fbc41"
            ],
            [
             0.9,
             "#4d9221"
            ],
            [
             1,
             "#276419"
            ]
           ],
           "sequential": [
            [
             0,
             "#0d0887"
            ],
            [
             0.1111111111111111,
             "#46039f"
            ],
            [
             0.2222222222222222,
             "#7201a8"
            ],
            [
             0.3333333333333333,
             "#9c179e"
            ],
            [
             0.4444444444444444,
             "#bd3786"
            ],
            [
             0.5555555555555556,
             "#d8576b"
            ],
            [
             0.6666666666666666,
             "#ed7953"
            ],
            [
             0.7777777777777778,
             "#fb9f3a"
            ],
            [
             0.8888888888888888,
             "#fdca26"
            ],
            [
             1,
             "#f0f921"
            ]
           ],
           "sequentialminus": [
            [
             0,
             "#0d0887"
            ],
            [
             0.1111111111111111,
             "#46039f"
            ],
            [
             0.2222222222222222,
             "#7201a8"
            ],
            [
             0.3333333333333333,
             "#9c179e"
            ],
            [
             0.4444444444444444,
             "#bd3786"
            ],
            [
             0.5555555555555556,
             "#d8576b"
            ],
            [
             0.6666666666666666,
             "#ed7953"
            ],
            [
             0.7777777777777778,
             "#fb9f3a"
            ],
            [
             0.8888888888888888,
             "#fdca26"
            ],
            [
             1,
             "#f0f921"
            ]
           ]
          },
          "colorway": [
           "#636efa",
           "#EF553B",
           "#00cc96",
           "#ab63fa",
           "#FFA15A",
           "#19d3f3",
           "#FF6692",
           "#B6E880",
           "#FF97FF",
           "#FECB52"
          ],
          "font": {
           "color": "#2a3f5f"
          },
          "geo": {
           "bgcolor": "white",
           "lakecolor": "white",
           "landcolor": "#E5ECF6",
           "showlakes": true,
           "showland": true,
           "subunitcolor": "white"
          },
          "hoverlabel": {
           "align": "left"
          },
          "hovermode": "closest",
          "mapbox": {
           "style": "light"
          },
          "paper_bgcolor": "white",
          "plot_bgcolor": "#E5ECF6",
          "polar": {
           "angularaxis": {
            "gridcolor": "white",
            "linecolor": "white",
            "ticks": ""
           },
           "bgcolor": "#E5ECF6",
           "radialaxis": {
            "gridcolor": "white",
            "linecolor": "white",
            "ticks": ""
           }
          },
          "scene": {
           "xaxis": {
            "backgroundcolor": "#E5ECF6",
            "gridcolor": "white",
            "gridwidth": 2,
            "linecolor": "white",
            "showbackground": true,
            "ticks": "",
            "zerolinecolor": "white"
           },
           "yaxis": {
            "backgroundcolor": "#E5ECF6",
            "gridcolor": "white",
            "gridwidth": 2,
            "linecolor": "white",
            "showbackground": true,
            "ticks": "",
            "zerolinecolor": "white"
           },
           "zaxis": {
            "backgroundcolor": "#E5ECF6",
            "gridcolor": "white",
            "gridwidth": 2,
            "linecolor": "white",
            "showbackground": true,
            "ticks": "",
            "zerolinecolor": "white"
           }
          },
          "shapedefaults": {
           "line": {
            "color": "#2a3f5f"
           }
          },
          "ternary": {
           "aaxis": {
            "gridcolor": "white",
            "linecolor": "white",
            "ticks": ""
           },
           "baxis": {
            "gridcolor": "white",
            "linecolor": "white",
            "ticks": ""
           },
           "bgcolor": "#E5ECF6",
           "caxis": {
            "gridcolor": "white",
            "linecolor": "white",
            "ticks": ""
           }
          },
          "title": {
           "x": 0.05
          },
          "xaxis": {
           "automargin": true,
           "gridcolor": "white",
           "linecolor": "white",
           "ticks": "",
           "title": {
            "standoff": 15
           },
           "zerolinecolor": "white",
           "zerolinewidth": 2
          },
          "yaxis": {
           "automargin": true,
           "gridcolor": "white",
           "linecolor": "white",
           "ticks": "",
           "title": {
            "standoff": 15
           },
           "zerolinecolor": "white",
           "zerolinewidth": 2
          }
         }
        },
        "title": {
         "text": "Violin Plot of Heights"
        },
        "violinmode": "group",
        "xaxis": {
         "anchor": "y",
         "domain": [
          0,
          1
         ]
        },
        "yaxis": {
         "anchor": "x",
         "domain": [
          0,
          1
         ],
         "title": {
          "text": "Height"
         }
        }
       }
      },
      "image/png": "[encoded data removed]",
      "text/html": [
       "<div>                            <div id=\"2b51d31f-3bce-4486-9096-499113f987ae\" class=\"plotly-graph-div\" style=\"height:525px; width:100%;\"></div>            <script type=\"text/javascript\">                require([\"plotly\"], function(Plotly) {                    window.PLOTLYENV=window.PLOTLYENV || {};                                    if (document.getElementById(\"2b51d31f-3bce-4486-9096-499113f987ae\")) {                    Plotly.newPlot(                        \"2b51d31f-3bce-4486-9096-499113f987ae\",                        [{\"alignmentgroup\":\"True\",\"box\":{\"visible\":true},\"hovertemplate\":\"Height=%{y}\\u003cextra\\u003e\\u003c\\u002fextra\\u003e\",\"legendgroup\":\"\",\"marker\":{\"color\":\"#636efa\"},\"name\":\"\",\"offsetgroup\":\"\",\"orientation\":\"v\",\"scalegroup\":\"True\",\"showlegend\":false,\"x0\":\" \",\"xaxis\":\"x\",\"y\":[168.4952011,174.0708368,175.0402113,177.0945415,178.8426285,168.4641737,178.8352709,174.7549826,173.6666502,178.7742139,178.5244202,174.0024021,174.3971299,172.7639303,165.0814781,177.0283641,178.6913126,179.0933196,170.5235404,168.4402856,179.7190928,167.047405,168.1020022,182.4739613,173.1562439,175.7294701,166.3107865,174.1662959,171.8936289,167.3366923,176.2878151,165.3497028,172.1273456,178.7495629,169.0103541,171.8384508,172.8758725,175.660861,174.8348959,171.8528689,167.724913,171.2318603,178.3230318,174.0413739,168.233546,180.7589162,173.5583982,172.748561,181.1866355,181.8926588,170.7670714,180.1526393,174.6498499,168.5966271,167.3196536,174.5695408,170.6696869,168.1772539,170.6043697,182.7907032,168.8434837,173.9764485,180.5693897,178.6048688,178.3164001,170.4814842,168.3550469,175.9786311,180.2812073,170.3046673,179.2597832,173.8437525,178.6999159,164.3575117,170.6992167,168.1699422,172.1502463,172.229052,169.5905441,176.5873222,182.1015752,166.4952701,166.2576675,175.6229328,173.7936893,179.0393832,175.9835635,174.4246967,176.9742253,172.0628269,174.8389689,175.4969273,170.4552667,170.0907706,174.9625093,171.6648048,162.7805915,181.1711171,178.9571414,167.9243988,165.4756122,176.3925096,180.7233147,178.4613975,176.4252473,165.1618753,165.6750686,169.2035,167.8666326,175.0153974,174.3767502,165.2644168,165.5443523,173.0061028,170.2864395,169.5719143,175.5891559,170.6720031,183.3021555,176.3518212,164.2967622,166.6975031,169.7457063,169.5697914,164.3637755,183.7823942,177.7186704,169.9128092,170.2606015,171.5504656,177.1925778,174.6881165,180.4752288,175.0450534,171.6956401,167.3251134,170.6244315,170.1901695,163.097954,173.8061773,166.7506016,165.2326888,180.6864059,174.3708516,179.48215,173.2724105,177.8235057,176.6489555,166.0231738,173.7116523,176.4339349,177.4938788,174.4168439,170.3699634,170.6654708,176.1772132,180.7387125,175.8975925,166.4285078,173.4965252,181.0154868,180.9774125,163.0694439,171.2173809,169.6258335,175.5218658,176.1060863,168.0746406,172.0735944,174.5144365,169.4058542,180.4567319,178.7319158,171.6420138,173.5286917,168.431278,166.9789255,171.611156,160.1305426,170.1359032,176.0558521,175.113118,176.0332708,176.8533816,176.3558226,174.3725659,171.2982381,168.7360393,180.9759732,174.0772556,178.2080213,176.9373331,174.3233096,170.9421714,168.2940483,173.5337221,168.8948369,164.4164471,167.6155929,170.6857544,156.1131365,162.228577,162.3471758,167.5515216,165.5339424,158.0968993,165.7236873,161.2204189,159.8502379,164.6657115,166.9267081,161.3748814,163.4605059,158.2908386,152.3776067,165.6637541,166.9286256,163.4017271,158.1200655,158.4004184,166.1100662,155.1525549,155.5752266,167.4703934,162.0619929,162.4109716,154.8975092,164.5763997,161.3260572,155.0750944,163.0984081,154.749508,160.4111854,164.7299393,159.6509569,162.124187,159.4177472,163.464143,160.6180502,157.9637321,156.5389135,158.7799374,167.3085696,160.357674,158.6523799,166.8030687,160.1349333,160.5529092,167.9634761,169.4706062,159.8239953,166.8884613,161.2094022,156.3007255,155.2489338,160.8845002,156.3895702,158.049563,157.5803008,168.6627596,157.1513304,164.2814691,166.4751191,164.4886274,166.518656,160.0451908,161.7281894,163.2390056,166.177267,158.8551002,165.8130758,161.3955504,165.9886854,150.9139679,158.7521597,158.7193539,159.5686675,160.5749918,155.1831397,162.5462546,168.9134842,155.1781714,154.3551613,161.1837018,158.748746,164.4968527,162.2225456,161.810158,164.3192602,158.5037434,159.4624081,161.7446106,159.4338103,161.0399239,160.1019556,160.2019309,153.0990839,168.8066284,163.6704906,156.7207687,156.5414075,162.5616604,167.6298923,165.0690213,160.8842672,153.0638056,156.1409983,157.0637126,154.2846913,161.9892021,162.9504739,154.757255,160.0617358,158.9428354,157.9019214,159.6585322,162.9612374,159.8935082,169.9608833,161.1808557,155.4209895,154.7139858,160.2561216,157.8220749,152.3889602,170.3612107,164.6600412,155.621106,159.8149349,158.137273,167.0322654,161.2175424,166.448307,161.2777263,158.4350097,154.7706078,159.517622,158.1864561,156.8944981,159.762217,154.3871646,154.144211,165.7761352,161.2271328,163.0573217,160.7157302,164.7308377,164.5173719,156.7193229,162.7824413,165.5245375,165.3026536,163.8159608,159.8104627,158.8377261,163.9240914,168.285067,162.4655675,157.335599,161.3047179,167.1227997,167.1975653,156.7888442,159.8572748,158.5787176,163.22541,162.027874,155.8757964,160.3617147,162.2638615,158.9213854,166.6739103,164.3299732,159.3794885,160.6953329,158.1217805,156.8863466,159.417654,152.7123349,159.1294047,166.0753995,166.0793945,163.3798399,161.6854548,161.80204,162.8271298,163.5700611,158.5279616,166.6226773,160.5303006,163.9391448,163.3118826,161.5584634,160.2883173,160.4836304,160.0370075,158.425687,154.7560774,157.3152177,159.8490637],\"y0\":\" \",\"yaxis\":\"y\",\"type\":\"violin\"}],                        {\"template\":{\"data\":{\"histogram2dcontour\":[{\"type\":\"histogram2dcontour\",\"colorbar\":{\"outlinewidth\":0,\"ticks\":\"\"},\"colorscale\":[[0.0,\"#0d0887\"],[0.1111111111111111,\"#46039f\"],[0.2222222222222222,\"#7201a8\"],[0.3333333333333333,\"#9c179e\"],[0.4444444444444444,\"#bd3786\"],[0.5555555555555556,\"#d8576b\"],[0.6666666666666666,\"#ed7953\"],[0.7777777777777778,\"#fb9f3a\"],[0.8888888888888888,\"#fdca26\"],[1.0,\"#f0f921\"]]}],\"choropleth\":[{\"type\":\"choropleth\",\"colorbar\":{\"outlinewidth\":0,\"ticks\":\"\"}}],\"histogram2d\":[{\"type\":\"histogram2d\",\"colorbar\":{\"outlinewidth\":0,\"ticks\":\"\"},\"colorscale\":[[0.0,\"#0d0887\"],[0.1111111111111111,\"#46039f\"],[0.2222222222222222,\"#7201a8\"],[0.3333333333333333,\"#9c179e\"],[0.4444444444444444,\"#bd3786\"],[0.5555555555555556,\"#d8576b\"],[0.6666666666666666,\"#ed7953\"],[0.7777777777777778,\"#fb9f3a\"],[0.8888888888888888,\"#fdca26\"],[1.0,\"#f0f921\"]]}],\"heatmap\":[{\"type\":\"heatmap\",\"colorbar\":{\"outlinewidth\":0,\"ticks\":\"\"},\"colorscale\":[[0.0,\"#0d0887\"],[0.1111111111111111,\"#46039f\"],[0.2222222222222222,\"#7201a8\"],[0.3333333333333333,\"#9c179e\"],[0.4444444444444444,\"#bd3786\"],[0.5555555555555556,\"#d8576b\"],[0.6666666666666666,\"#ed7953\"],[0.7777777777777778,\"#fb9f3a\"],[0.8888888888888888,\"#fdca26\"],[1.0,\"#f0f921\"]]}],\"heatmapgl\":[{\"type\":\"heatmapgl\",\"colorbar\":{\"outlinewidth\":0,\"ticks\":\"\"},\"colorscale\":[[0.0,\"#0d0887\"],[0.1111111111111111,\"#46039f\"],[0.2222222222222222,\"#7201a8\"],[0.3333333333333333,\"#9c179e\"],[0.4444444444444444,\"#bd3786\"],[0.5555555555555556,\"#d8576b\"],[0.6666666666666666,\"#ed7953\"],[0.7777777777777778,\"#fb9f3a\"],[0.8888888888888888,\"#fdca26\"],[1.0,\"#f0f921\"]]}],\"contourcarpet\":[{\"type\":\"contourcarpet\",\"colorbar\":{\"outlinewidth\":0,\"ticks\":\"\"}}],\"contour\":[{\"type\":\"contour\",\"colorbar\":{\"outlinewidth\":0,\"ticks\":\"\"},\"colorscale\":[[0.0,\"#0d0887\"],[0.1111111111111111,\"#46039f\"],[0.2222222222222222,\"#7201a8\"],[0.3333333333333333,\"#9c179e\"],[0.4444444444444444,\"#bd3786\"],[0.5555555555555556,\"#d8576b\"],[0.6666666666666666,\"#ed7953\"],[0.7777777777777778,\"#fb9f3a\"],[0.8888888888888888,\"#fdca26\"],[1.0,\"#f0f921\"]]}],\"surface\":[{\"type\":\"surface\",\"colorbar\":{\"outlinewidth\":0,\"ticks\":\"\"},\"colorscale\":[[0.0,\"#0d0887\"],[0.1111111111111111,\"#46039f\"],[0.2222222222222222,\"#7201a8\"],[0.3333333333333333,\"#9c179e\"],[0.4444444444444444,\"#bd3786\"],[0.5555555555555556,\"#d8576b\"],[0.6666666666666666,\"#ed7953\"],[0.7777777777777778,\"#fb9f3a\"],[0.8888888888888888,\"#fdca26\"],[1.0,\"#f0f921\"]]}],\"mesh3d\":[{\"type\":\"mesh3d\",\"colorbar\":{\"outlinewidth\":0,\"ticks\":\"\"}}],\"scatter\":[{\"fillpattern\":{\"fillmode\":\"overlay\",\"size\":10,\"solidity\":0.2},\"type\":\"scatter\"}],\"parcoords\":[{\"type\":\"parcoords\",\"line\":{\"colorbar\":{\"outlinewidth\":0,\"ticks\":\"\"}}}],\"scatterpolargl\":[{\"type\":\"scatterpolargl\",\"marker\":{\"colorbar\":{\"outlinewidth\":0,\"ticks\":\"\"}}}],\"bar\":[{\"error_x\":{\"color\":\"#2a3f5f\"},\"error_y\":{\"color\":\"#2a3f5f\"},\"marker\":{\"line\":{\"color\":\"#E5ECF6\",\"width\":0.5},\"pattern\":{\"fillmode\":\"overlay\",\"size\":10,\"solidity\":0.2}},\"type\":\"bar\"}],\"scattergeo\":[{\"type\":\"scattergeo\",\"marker\":{\"colorbar\":{\"outlinewidth\":0,\"ticks\":\"\"}}}],\"scatterpolar\":[{\"type\":\"scatterpolar\",\"marker\":{\"colorbar\":{\"outlinewidth\":0,\"ticks\":\"\"}}}],\"histogram\":[{\"marker\":{\"pattern\":{\"fillmode\":\"overlay\",\"size\":10,\"solidity\":0.2}},\"type\":\"histogram\"}],\"scattergl\":[{\"type\":\"scattergl\",\"marker\":{\"colorbar\":{\"outlinewidth\":0,\"ticks\":\"\"}}}],\"scatter3d\":[{\"type\":\"scatter3d\",\"line\":{\"colorbar\":{\"outlinewidth\":0,\"ticks\":\"\"}},\"marker\":{\"colorbar\":{\"outlinewidth\":0,\"ticks\":\"\"}}}],\"scattermapbox\":[{\"type\":\"scattermapbox\",\"marker\":{\"colorbar\":{\"outlinewidth\":0,\"ticks\":\"\"}}}],\"scatterternary\":[{\"type\":\"scatterternary\",\"marker\":{\"colorbar\":{\"outlinewidth\":0,\"ticks\":\"\"}}}],\"scattercarpet\":[{\"type\":\"scattercarpet\",\"marker\":{\"colorbar\":{\"outlinewidth\":0,\"ticks\":\"\"}}}],\"carpet\":[{\"aaxis\":{\"endlinecolor\":\"#2a3f5f\",\"gridcolor\":\"white\",\"linecolor\":\"white\",\"minorgridcolor\":\"white\",\"startlinecolor\":\"#2a3f5f\"},\"baxis\":{\"endlinecolor\":\"#2a3f5f\",\"gridcolor\":\"white\",\"linecolor\":\"white\",\"minorgridcolor\":\"white\",\"startlinecolor\":\"#2a3f5f\"},\"type\":\"carpet\"}],\"table\":[{\"cells\":{\"fill\":{\"color\":\"#EBF0F8\"},\"line\":{\"color\":\"white\"}},\"header\":{\"fill\":{\"color\":\"#C8D4E3\"},\"line\":{\"color\":\"white\"}},\"type\":\"table\"}],\"barpolar\":[{\"marker\":{\"line\":{\"color\":\"#E5ECF6\",\"width\":0.5},\"pattern\":{\"fillmode\":\"overlay\",\"size\":10,\"solidity\":0.2}},\"type\":\"barpolar\"}],\"pie\":[{\"automargin\":true,\"type\":\"pie\"}]},\"layout\":{\"autotypenumbers\":\"strict\",\"colorway\":[\"#636efa\",\"#EF553B\",\"#00cc96\",\"#ab63fa\",\"#FFA15A\",\"#19d3f3\",\"#FF6692\",\"#B6E880\",\"#FF97FF\",\"#FECB52\"],\"font\":{\"color\":\"#2a3f5f\"},\"hovermode\":\"closest\",\"hoverlabel\":{\"align\":\"left\"},\"paper_bgcolor\":\"white\",\"plot_bgcolor\":\"#E5ECF6\",\"polar\":{\"bgcolor\":\"#E5ECF6\",\"angularaxis\":{\"gridcolor\":\"white\",\"linecolor\":\"white\",\"ticks\":\"\"},\"radialaxis\":{\"gridcolor\":\"white\",\"linecolor\":\"white\",\"ticks\":\"\"}},\"ternary\":{\"bgcolor\":\"#E5ECF6\",\"aaxis\":{\"gridcolor\":\"white\",\"linecolor\":\"white\",\"ticks\":\"\"},\"baxis\":{\"gridcolor\":\"white\",\"linecolor\":\"white\",\"ticks\":\"\"},\"caxis\":{\"gridcolor\":\"white\",\"linecolor\":\"white\",\"ticks\":\"\"}},\"coloraxis\":{\"colorbar\":{\"outlinewidth\":0,\"ticks\":\"\"}},\"colorscale\":{\"sequential\":[[0.0,\"#0d0887\"],[0.1111111111111111,\"#46039f\"],[0.2222222222222222,\"#7201a8\"],[0.3333333333333333,\"#9c179e\"],[0.4444444444444444,\"#bd3786\"],[0.5555555555555556,\"#d8576b\"],[0.6666666666666666,\"#ed7953\"],[0.7777777777777778,\"#fb9f3a\"],[0.8888888888888888,\"#fdca26\"],[1.0,\"#f0f921\"]],\"sequentialminus\":[[0.0,\"#0d0887\"],[0.1111111111111111,\"#46039f\"],[0.2222222222222222,\"#7201a8\"],[0.3333333333333333,\"#9c179e\"],[0.4444444444444444,\"#bd3786\"],[0.5555555555555556,\"#d8576b\"],[0.6666666666666666,\"#ed7953\"],[0.7777777777777778,\"#fb9f3a\"],[0.8888888888888888,\"#fdca26\"],[1.0,\"#f0f921\"]],\"diverging\":[[0,\"#8e0152\"],[0.1,\"#c51b7d\"],[0.2,\"#de77ae\"],[0.3,\"#f1b6da\"],[0.4,\"#fde0ef\"],[0.5,\"#f7f7f7\"],[0.6,\"#e6f5d0\"],[0.7,\"#b8e186\"],[0.8,\"#7fbc41\"],[0.9,\"#4d9221\"],[1,\"#276419\"]]},\"xaxis\":{\"gridcolor\":\"white\",\"linecolor\":\"white\",\"ticks\":\"\",\"title\":{\"standoff\":15},\"zerolinecolor\":\"white\",\"automargin\":true,\"zerolinewidth\":2},\"yaxis\":{\"gridcolor\":\"white\",\"linecolor\":\"white\",\"ticks\":\"\",\"title\":{\"standoff\":15},\"zerolinecolor\":\"white\",\"automargin\":true,\"zerolinewidth\":2},\"scene\":{\"xaxis\":{\"backgroundcolor\":\"#E5ECF6\",\"gridcolor\":\"white\",\"linecolor\":\"white\",\"showbackground\":true,\"ticks\":\"\",\"zerolinecolor\":\"white\",\"gridwidth\":2},\"yaxis\":{\"backgroundcolor\":\"#E5ECF6\",\"gridcolor\":\"white\",\"linecolor\":\"white\",\"showbackground\":true,\"ticks\":\"\",\"zerolinecolor\":\"white\",\"gridwidth\":2},\"zaxis\":{\"backgroundcolor\":\"#E5ECF6\",\"gridcolor\":\"white\",\"linecolor\":\"white\",\"showbackground\":true,\"ticks\":\"\",\"zerolinecolor\":\"white\",\"gridwidth\":2}},\"shapedefaults\":{\"line\":{\"color\":\"#2a3f5f\"}},\"annotationdefaults\":{\"arrowcolor\":\"#2a3f5f\",\"arrowhead\":0,\"arrowwidth\":1},\"geo\":{\"bgcolor\":\"white\",\"landcolor\":\"#E5ECF6\",\"subunitcolor\":\"white\",\"showland\":true,\"showlakes\":true,\"lakecolor\":\"white\"},\"title\":{\"x\":0.05},\"mapbox\":{\"style\":\"light\"}}},\"xaxis\":{\"anchor\":\"y\",\"domain\":[0.0,1.0]},\"yaxis\":{\"anchor\":\"x\",\"domain\":[0.0,1.0],\"title\":{\"text\":\"Height\"}},\"legend\":{\"tracegroupgap\":0},\"title\":{\"text\":\"Violin Plot of Heights\"},\"violinmode\":\"group\"},                        {\"responsive\": true}                    ).then(function(){\n",
       "                            \n",
       "var gd = document.getElementById('2b51d31f-3bce-4486-9096-499113f987ae');\n",
       "var x = new MutationObserver(function (mutations, observer) {{\n",
       "        var display = window.getComputedStyle(gd).display;\n",
       "        if (!display || display === 'none') {{\n",
       "            console.log([gd, 'removed!']);\n",
       "            Plotly.purge(gd);\n",
       "            observer.disconnect();\n",
       "        }}\n",
       "}});\n",
       "\n",
       "// Listen for the removal of the full notebook cells\n",
       "var notebookContainer = gd.closest('#notebook-container');\n",
       "if (notebookContainer) {{\n",
       "    x.observe(notebookContainer, {childList: true});\n",
       "}}\n",
       "\n",
       "// Listen for the clearing of the current output cell\n",
       "var outputEl = gd.closest('.output');\n",
       "if (outputEl) {{\n",
       "    x.observe(outputEl, {childList: true});\n",
       "}}\n",
       "\n",
       "                        })                };                });            </script>        </div>"
      ]
     },
     "metadata": {},
     "output_type": "display_data"
    }
   ],
   "source": [
    "#violin chart\n",
    "#whole data\n",
    "px.violin(adults, y=\"Height\", box=True, title=\"Violin Plot of Heights\")"
   ]
  },
  {
   "cell_type": "code",
   "execution_count": 13,
   "id": "e5a1c185-bf82-4173-996a-20fdf9718980",
   "metadata": {},
   "outputs": [
    {
     "data": {
      "application/vnd.plotly.v1+json": {
       "config": {
        "plotlyServerURL": "https://plot.ly"
       },
       "data": [
        {
         "alignmentgroup": "True",
         "box": {
          "visible": true
         },
         "hovertemplate": "Sex=Boys<br>Height=%{y}<extra></extra>",
         "legendgroup": "Boys",
         "marker": {
          "color": "#636efa"
         },
         "name": "Boys",
         "offsetgroup": "Boys",
         "orientation": "v",
         "scalegroup": "True",
         "showlegend": true,
         "type": "violin",
         "x0": " ",
         "xaxis": "x",
         "y": [
          168.4952011,
          174.0708368,
          175.0402113,
          177.0945415,
          178.8426285,
          168.4641737,
          178.8352709,
          174.7549826,
          173.6666502,
          178.7742139,
          178.5244202,
          174.0024021,
          174.3971299,
          172.7639303,
          165.0814781,
          177.0283641,
          178.6913126,
          179.0933196,
          170.5235404,
          168.4402856,
          179.7190928,
          167.047405,
          168.1020022,
          182.4739613,
          173.1562439,
          175.7294701,
          166.3107865,
          174.1662959,
          171.8936289,
          167.3366923,
          176.2878151,
          165.3497028,
          172.1273456,
          178.7495629,
          169.0103541,
          171.8384508,
          172.8758725,
          175.660861,
          174.8348959,
          171.8528689,
          167.724913,
          171.2318603,
          178.3230318,
          174.0413739,
          168.233546,
          180.7589162,
          173.5583982,
          172.748561,
          181.1866355,
          181.8926588,
          170.7670714,
          180.1526393,
          174.6498499,
          168.5966271,
          167.3196536,
          174.5695408,
          170.6696869,
          168.1772539,
          170.6043697,
          182.7907032,
          168.8434837,
          173.9764485,
          180.5693897,
          178.6048688,
          178.3164001,
          170.4814842,
          168.3550469,
          175.9786311,
          180.2812073,
          170.3046673,
          179.2597832,
          173.8437525,
          178.6999159,
          164.3575117,
          170.6992167,
          168.1699422,
          172.1502463,
          172.229052,
          169.5905441,
          176.5873222,
          182.1015752,
          166.4952701,
          166.2576675,
          175.6229328,
          173.7936893,
          179.0393832,
          175.9835635,
          174.4246967,
          176.9742253,
          172.0628269,
          174.8389689,
          175.4969273,
          170.4552667,
          170.0907706,
          174.9625093,
          171.6648048,
          162.7805915,
          181.1711171,
          178.9571414,
          167.9243988,
          165.4756122,
          176.3925096,
          180.7233147,
          178.4613975,
          176.4252473,
          165.1618753,
          165.6750686,
          169.2035,
          167.8666326,
          175.0153974,
          174.3767502,
          165.2644168,
          165.5443523,
          173.0061028,
          170.2864395,
          169.5719143,
          175.5891559,
          170.6720031,
          183.3021555,
          176.3518212,
          164.2967622,
          166.6975031,
          169.7457063,
          169.5697914,
          164.3637755,
          183.7823942,
          177.7186704,
          169.9128092,
          170.2606015,
          171.5504656,
          177.1925778,
          174.6881165,
          180.4752288,
          175.0450534,
          171.6956401,
          167.3251134,
          170.6244315,
          170.1901695,
          163.097954,
          173.8061773,
          166.7506016,
          165.2326888,
          180.6864059,
          174.3708516,
          179.48215,
          173.2724105,
          177.8235057,
          176.6489555,
          166.0231738,
          173.7116523,
          176.4339349,
          177.4938788,
          174.4168439,
          170.3699634,
          170.6654708,
          176.1772132,
          180.7387125,
          175.8975925,
          166.4285078,
          173.4965252,
          181.0154868,
          180.9774125,
          163.0694439,
          171.2173809,
          169.6258335,
          175.5218658,
          176.1060863,
          168.0746406,
          172.0735944,
          174.5144365,
          169.4058542,
          180.4567319,
          178.7319158,
          171.6420138,
          173.5286917,
          168.431278,
          166.9789255,
          171.611156,
          160.1305426,
          170.1359032,
          176.0558521,
          175.113118,
          176.0332708,
          176.8533816,
          176.3558226,
          174.3725659,
          171.2982381,
          168.7360393,
          180.9759732,
          174.0772556,
          178.2080213,
          176.9373331,
          174.3233096,
          170.9421714,
          168.2940483,
          173.5337221,
          168.8948369,
          164.4164471,
          167.6155929,
          170.6857544
         ],
         "y0": " ",
         "yaxis": "y"
        },
        {
         "alignmentgroup": "True",
         "box": {
          "visible": true
         },
         "hovertemplate": "Sex=Girls<br>Height=%{y}<extra></extra>",
         "legendgroup": "Girls",
         "marker": {
          "color": "#EF553B"
         },
         "name": "Girls",
         "offsetgroup": "Girls",
         "orientation": "v",
         "scalegroup": "True",
         "showlegend": true,
         "type": "violin",
         "x0": " ",
         "xaxis": "x",
         "y": [
          156.1131365,
          162.228577,
          162.3471758,
          167.5515216,
          165.5339424,
          158.0968993,
          165.7236873,
          161.2204189,
          159.8502379,
          164.6657115,
          166.9267081,
          161.3748814,
          163.4605059,
          158.2908386,
          152.3776067,
          165.6637541,
          166.9286256,
          163.4017271,
          158.1200655,
          158.4004184,
          166.1100662,
          155.1525549,
          155.5752266,
          167.4703934,
          162.0619929,
          162.4109716,
          154.8975092,
          164.5763997,
          161.3260572,
          155.0750944,
          163.0984081,
          154.749508,
          160.4111854,
          164.7299393,
          159.6509569,
          162.124187,
          159.4177472,
          163.464143,
          160.6180502,
          157.9637321,
          156.5389135,
          158.7799374,
          167.3085696,
          160.357674,
          158.6523799,
          166.8030687,
          160.1349333,
          160.5529092,
          167.9634761,
          169.4706062,
          159.8239953,
          166.8884613,
          161.2094022,
          156.3007255,
          155.2489338,
          160.8845002,
          156.3895702,
          158.049563,
          157.5803008,
          168.6627596,
          157.1513304,
          164.2814691,
          166.4751191,
          164.4886274,
          166.518656,
          160.0451908,
          161.7281894,
          163.2390056,
          166.177267,
          158.8551002,
          165.8130758,
          161.3955504,
          165.9886854,
          150.9139679,
          158.7521597,
          158.7193539,
          159.5686675,
          160.5749918,
          155.1831397,
          162.5462546,
          168.9134842,
          155.1781714,
          154.3551613,
          161.1837018,
          158.748746,
          164.4968527,
          162.2225456,
          161.810158,
          164.3192602,
          158.5037434,
          159.4624081,
          161.7446106,
          159.4338103,
          161.0399239,
          160.1019556,
          160.2019309,
          153.0990839,
          168.8066284,
          163.6704906,
          156.7207687,
          156.5414075,
          162.5616604,
          167.6298923,
          165.0690213,
          160.8842672,
          153.0638056,
          156.1409983,
          157.0637126,
          154.2846913,
          161.9892021,
          162.9504739,
          154.757255,
          160.0617358,
          158.9428354,
          157.9019214,
          159.6585322,
          162.9612374,
          159.8935082,
          169.9608833,
          161.1808557,
          155.4209895,
          154.7139858,
          160.2561216,
          157.8220749,
          152.3889602,
          170.3612107,
          164.6600412,
          155.621106,
          159.8149349,
          158.137273,
          167.0322654,
          161.2175424,
          166.448307,
          161.2777263,
          158.4350097,
          154.7706078,
          159.517622,
          158.1864561,
          156.8944981,
          159.762217,
          154.3871646,
          154.144211,
          165.7761352,
          161.2271328,
          163.0573217,
          160.7157302,
          164.7308377,
          164.5173719,
          156.7193229,
          162.7824413,
          165.5245375,
          165.3026536,
          163.8159608,
          159.8104627,
          158.8377261,
          163.9240914,
          168.285067,
          162.4655675,
          157.335599,
          161.3047179,
          167.1227997,
          167.1975653,
          156.7888442,
          159.8572748,
          158.5787176,
          163.22541,
          162.027874,
          155.8757964,
          160.3617147,
          162.2638615,
          158.9213854,
          166.6739103,
          164.3299732,
          159.3794885,
          160.6953329,
          158.1217805,
          156.8863466,
          159.417654,
          152.7123349,
          159.1294047,
          166.0753995,
          166.0793945,
          163.3798399,
          161.6854548,
          161.80204,
          162.8271298,
          163.5700611,
          158.5279616,
          166.6226773,
          160.5303006,
          163.9391448,
          163.3118826,
          161.5584634,
          160.2883173,
          160.4836304,
          160.0370075,
          158.425687,
          154.7560774,
          157.3152177,
          159.8490637
         ],
         "y0": " ",
         "yaxis": "y"
        }
       ],
       "layout": {
        "legend": {
         "title": {
          "text": "Sex"
         },
         "tracegroupgap": 0
        },
        "template": {
         "data": {
          "bar": [
           {
            "error_x": {
             "color": "#2a3f5f"
            },
            "error_y": {
             "color": "#2a3f5f"
            },
            "marker": {
             "line": {
              "color": "#E5ECF6",
              "width": 0.5
             },
             "pattern": {
              "fillmode": "overlay",
              "size": 10,
              "solidity": 0.2
             }
            },
            "type": "bar"
           }
          ],
          "barpolar": [
           {
            "marker": {
             "line": {
              "color": "#E5ECF6",
              "width": 0.5
             },
             "pattern": {
              "fillmode": "overlay",
              "size": 10,
              "solidity": 0.2
             }
            },
            "type": "barpolar"
           }
          ],
          "carpet": [
           {
            "aaxis": {
             "endlinecolor": "#2a3f5f",
             "gridcolor": "white",
             "linecolor": "white",
             "minorgridcolor": "white",
             "startlinecolor": "#2a3f5f"
            },
            "baxis": {
             "endlinecolor": "#2a3f5f",
             "gridcolor": "white",
             "linecolor": "white",
             "minorgridcolor": "white",
             "startlinecolor": "#2a3f5f"
            },
            "type": "carpet"
           }
          ],
          "choropleth": [
           {
            "colorbar": {
             "outlinewidth": 0,
             "ticks": ""
            },
            "type": "choropleth"
           }
          ],
          "contour": [
           {
            "colorbar": {
             "outlinewidth": 0,
             "ticks": ""
            },
            "colorscale": [
             [
              0,
              "#0d0887"
             ],
             [
              0.1111111111111111,
              "#46039f"
             ],
             [
              0.2222222222222222,
              "#7201a8"
             ],
             [
              0.3333333333333333,
              "#9c179e"
             ],
             [
              0.4444444444444444,
              "#bd3786"
             ],
             [
              0.5555555555555556,
              "#d8576b"
             ],
             [
              0.6666666666666666,
              "#ed7953"
             ],
             [
              0.7777777777777778,
              "#fb9f3a"
             ],
             [
              0.8888888888888888,
              "#fdca26"
             ],
             [
              1,
              "#f0f921"
             ]
            ],
            "type": "contour"
           }
          ],
          "contourcarpet": [
           {
            "colorbar": {
             "outlinewidth": 0,
             "ticks": ""
            },
            "type": "contourcarpet"
           }
          ],
          "heatmap": [
           {
            "colorbar": {
             "outlinewidth": 0,
             "ticks": ""
            },
            "colorscale": [
             [
              0,
              "#0d0887"
             ],
             [
              0.1111111111111111,
              "#46039f"
             ],
             [
              0.2222222222222222,
              "#7201a8"
             ],
             [
              0.3333333333333333,
              "#9c179e"
             ],
             [
              0.4444444444444444,
              "#bd3786"
             ],
             [
              0.5555555555555556,
              "#d8576b"
             ],
             [
              0.6666666666666666,
              "#ed7953"
             ],
             [
              0.7777777777777778,
              "#fb9f3a"
             ],
             [
              0.8888888888888888,
              "#fdca26"
             ],
             [
              1,
              "#f0f921"
             ]
            ],
            "type": "heatmap"
           }
          ],
          "heatmapgl": [
           {
            "colorbar": {
             "outlinewidth": 0,
             "ticks": ""
            },
            "colorscale": [
             [
              0,
              "#0d0887"
             ],
             [
              0.1111111111111111,
              "#46039f"
             ],
             [
              0.2222222222222222,
              "#7201a8"
             ],
             [
              0.3333333333333333,
              "#9c179e"
             ],
             [
              0.4444444444444444,
              "#bd3786"
             ],
             [
              0.5555555555555556,
              "#d8576b"
             ],
             [
              0.6666666666666666,
              "#ed7953"
             ],
             [
              0.7777777777777778,
              "#fb9f3a"
             ],
             [
              0.8888888888888888,
              "#fdca26"
             ],
             [
              1,
              "#f0f921"
             ]
            ],
            "type": "heatmapgl"
           }
          ],
          "histogram": [
           {
            "marker": {
             "pattern": {
              "fillmode": "overlay",
              "size": 10,
              "solidity": 0.2
             }
            },
            "type": "histogram"
           }
          ],
          "histogram2d": [
           {
            "colorbar": {
             "outlinewidth": 0,
             "ticks": ""
            },
            "colorscale": [
             [
              0,
              "#0d0887"
             ],
             [
              0.1111111111111111,
              "#46039f"
             ],
             [
              0.2222222222222222,
              "#7201a8"
             ],
             [
              0.3333333333333333,
              "#9c179e"
             ],
             [
              0.4444444444444444,
              "#bd3786"
             ],
             [
              0.5555555555555556,
              "#d8576b"
             ],
             [
              0.6666666666666666,
              "#ed7953"
             ],
             [
              0.7777777777777778,
              "#fb9f3a"
             ],
             [
              0.8888888888888888,
              "#fdca26"
             ],
             [
              1,
              "#f0f921"
             ]
            ],
            "type": "histogram2d"
           }
          ],
          "histogram2dcontour": [
           {
            "colorbar": {
             "outlinewidth": 0,
             "ticks": ""
            },
            "colorscale": [
             [
              0,
              "#0d0887"
             ],
             [
              0.1111111111111111,
              "#46039f"
             ],
             [
              0.2222222222222222,
              "#7201a8"
             ],
             [
              0.3333333333333333,
              "#9c179e"
             ],
             [
              0.4444444444444444,
              "#bd3786"
             ],
             [
              0.5555555555555556,
              "#d8576b"
             ],
             [
              0.6666666666666666,
              "#ed7953"
             ],
             [
              0.7777777777777778,
              "#fb9f3a"
             ],
             [
              0.8888888888888888,
              "#fdca26"
             ],
             [
              1,
              "#f0f921"
             ]
            ],
            "type": "histogram2dcontour"
           }
          ],
          "mesh3d": [
           {
            "colorbar": {
             "outlinewidth": 0,
             "ticks": ""
            },
            "type": "mesh3d"
           }
          ],
          "parcoords": [
           {
            "line": {
             "colorbar": {
              "outlinewidth": 0,
              "ticks": ""
             }
            },
            "type": "parcoords"
           }
          ],
          "pie": [
           {
            "automargin": true,
            "type": "pie"
           }
          ],
          "scatter": [
           {
            "fillpattern": {
             "fillmode": "overlay",
             "size": 10,
             "solidity": 0.2
            },
            "type": "scatter"
           }
          ],
          "scatter3d": [
           {
            "line": {
             "colorbar": {
              "outlinewidth": 0,
              "ticks": ""
             }
            },
            "marker": {
             "colorbar": {
              "outlinewidth": 0,
              "ticks": ""
             }
            },
            "type": "scatter3d"
           }
          ],
          "scattercarpet": [
           {
            "marker": {
             "colorbar": {
              "outlinewidth": 0,
              "ticks": ""
             }
            },
            "type": "scattercarpet"
           }
          ],
          "scattergeo": [
           {
            "marker": {
             "colorbar": {
              "outlinewidth": 0,
              "ticks": ""
             }
            },
            "type": "scattergeo"
           }
          ],
          "scattergl": [
           {
            "marker": {
             "colorbar": {
              "outlinewidth": 0,
              "ticks": ""
             }
            },
            "type": "scattergl"
           }
          ],
          "scattermapbox": [
           {
            "marker": {
             "colorbar": {
              "outlinewidth": 0,
              "ticks": ""
             }
            },
            "type": "scattermapbox"
           }
          ],
          "scatterpolar": [
           {
            "marker": {
             "colorbar": {
              "outlinewidth": 0,
              "ticks": ""
             }
            },
            "type": "scatterpolar"
           }
          ],
          "scatterpolargl": [
           {
            "marker": {
             "colorbar": {
              "outlinewidth": 0,
              "ticks": ""
             }
            },
            "type": "scatterpolargl"
           }
          ],
          "scatterternary": [
           {
            "marker": {
             "colorbar": {
              "outlinewidth": 0,
              "ticks": ""
             }
            },
            "type": "scatterternary"
           }
          ],
          "surface": [
           {
            "colorbar": {
             "outlinewidth": 0,
             "ticks": ""
            },
            "colorscale": [
             [
              0,
              "#0d0887"
             ],
             [
              0.1111111111111111,
              "#46039f"
             ],
             [
              0.2222222222222222,
              "#7201a8"
             ],
             [
              0.3333333333333333,
              "#9c179e"
             ],
             [
              0.4444444444444444,
              "#bd3786"
             ],
             [
              0.5555555555555556,
              "#d8576b"
             ],
             [
              0.6666666666666666,
              "#ed7953"
             ],
             [
              0.7777777777777778,
              "#fb9f3a"
             ],
             [
              0.8888888888888888,
              "#fdca26"
             ],
             [
              1,
              "#f0f921"
             ]
            ],
            "type": "surface"
           }
          ],
          "table": [
           {
            "cells": {
             "fill": {
              "color": "#EBF0F8"
             },
             "line": {
              "color": "white"
             }
            },
            "header": {
             "fill": {
              "color": "#C8D4E3"
             },
             "line": {
              "color": "white"
             }
            },
            "type": "table"
           }
          ]
         },
         "layout": {
          "annotationdefaults": {
           "arrowcolor": "#2a3f5f",
           "arrowhead": 0,
           "arrowwidth": 1
          },
          "autotypenumbers": "strict",
          "coloraxis": {
           "colorbar": {
            "outlinewidth": 0,
            "ticks": ""
           }
          },
          "colorscale": {
           "diverging": [
            [
             0,
             "#8e0152"
            ],
            [
             0.1,
             "#c51b7d"
            ],
            [
             0.2,
             "#de77ae"
            ],
            [
             0.3,
             "#f1b6da"
            ],
            [
             0.4,
             "#fde0ef"
            ],
            [
             0.5,
             "#f7f7f7"
            ],
            [
             0.6,
             "#e6f5d0"
            ],
            [
             0.7,
             "#b8e186"
            ],
            [
             0.8,
             "#7fbc41"
            ],
            [
             0.9,
             "#4d9221"
            ],
            [
             1,
             "#276419"
            ]
           ],
           "sequential": [
            [
             0,
             "#0d0887"
            ],
            [
             0.1111111111111111,
             "#46039f"
            ],
            [
             0.2222222222222222,
             "#7201a8"
            ],
            [
             0.3333333333333333,
             "#9c179e"
            ],
            [
             0.4444444444444444,
             "#bd3786"
            ],
            [
             0.5555555555555556,
             "#d8576b"
            ],
            [
             0.6666666666666666,
             "#ed7953"
            ],
            [
             0.7777777777777778,
             "#fb9f3a"
            ],
            [
             0.8888888888888888,
             "#fdca26"
            ],
            [
             1,
             "#f0f921"
            ]
           ],
           "sequentialminus": [
            [
             0,
             "#0d0887"
            ],
            [
             0.1111111111111111,
             "#46039f"
            ],
            [
             0.2222222222222222,
             "#7201a8"
            ],
            [
             0.3333333333333333,
             "#9c179e"
            ],
            [
             0.4444444444444444,
             "#bd3786"
            ],
            [
             0.5555555555555556,
             "#d8576b"
            ],
            [
             0.6666666666666666,
             "#ed7953"
            ],
            [
             0.7777777777777778,
             "#fb9f3a"
            ],
            [
             0.8888888888888888,
             "#fdca26"
            ],
            [
             1,
             "#f0f921"
            ]
           ]
          },
          "colorway": [
           "#636efa",
           "#EF553B",
           "#00cc96",
           "#ab63fa",
           "#FFA15A",
           "#19d3f3",
           "#FF6692",
           "#B6E880",
           "#FF97FF",
           "#FECB52"
          ],
          "font": {
           "color": "#2a3f5f"
          },
          "geo": {
           "bgcolor": "white",
           "lakecolor": "white",
           "landcolor": "#E5ECF6",
           "showlakes": true,
           "showland": true,
           "subunitcolor": "white"
          },
          "hoverlabel": {
           "align": "left"
          },
          "hovermode": "closest",
          "mapbox": {
           "style": "light"
          },
          "paper_bgcolor": "white",
          "plot_bgcolor": "#E5ECF6",
          "polar": {
           "angularaxis": {
            "gridcolor": "white",
            "linecolor": "white",
            "ticks": ""
           },
           "bgcolor": "#E5ECF6",
           "radialaxis": {
            "gridcolor": "white",
            "linecolor": "white",
            "ticks": ""
           }
          },
          "scene": {
           "xaxis": {
            "backgroundcolor": "#E5ECF6",
            "gridcolor": "white",
            "gridwidth": 2,
            "linecolor": "white",
            "showbackground": true,
            "ticks": "",
            "zerolinecolor": "white"
           },
           "yaxis": {
            "backgroundcolor": "#E5ECF6",
            "gridcolor": "white",
            "gridwidth": 2,
            "linecolor": "white",
            "showbackground": true,
            "ticks": "",
            "zerolinecolor": "white"
           },
           "zaxis": {
            "backgroundcolor": "#E5ECF6",
            "gridcolor": "white",
            "gridwidth": 2,
            "linecolor": "white",
            "showbackground": true,
            "ticks": "",
            "zerolinecolor": "white"
           }
          },
          "shapedefaults": {
           "line": {
            "color": "#2a3f5f"
           }
          },
          "ternary": {
           "aaxis": {
            "gridcolor": "white",
            "linecolor": "white",
            "ticks": ""
           },
           "baxis": {
            "gridcolor": "white",
            "linecolor": "white",
            "ticks": ""
           },
           "bgcolor": "#E5ECF6",
           "caxis": {
            "gridcolor": "white",
            "linecolor": "white",
            "ticks": ""
           }
          },
          "title": {
           "x": 0.05
          },
          "xaxis": {
           "automargin": true,
           "gridcolor": "white",
           "linecolor": "white",
           "ticks": "",
           "title": {
            "standoff": 15
           },
           "zerolinecolor": "white",
           "zerolinewidth": 2
          },
          "yaxis": {
           "automargin": true,
           "gridcolor": "white",
           "linecolor": "white",
           "ticks": "",
           "title": {
            "standoff": 15
           },
           "zerolinecolor": "white",
           "zerolinewidth": 2
          }
         }
        },
        "title": {
         "text": "Violin Plot of Heights by Sex"
        },
        "violinmode": "group",
        "xaxis": {
         "anchor": "y",
         "domain": [
          0,
          1
         ]
        },
        "yaxis": {
         "anchor": "x",
         "domain": [
          0,
          1
         ],
         "title": {
          "text": "Height"
         }
        }
       }
      },
      "image/png": "[encoded data removed]",
      "text/html": [
       "<div>                            <div id=\"f9b8d3e9-ca58-40c2-b6fb-fae24bda3941\" class=\"plotly-graph-div\" style=\"height:525px; width:100%;\"></div>            <script type=\"text/javascript\">                require([\"plotly\"], function(Plotly) {                    window.PLOTLYENV=window.PLOTLYENV || {};                                    if (document.getElementById(\"f9b8d3e9-ca58-40c2-b6fb-fae24bda3941\")) {                    Plotly.newPlot(                        \"f9b8d3e9-ca58-40c2-b6fb-fae24bda3941\",                        [{\"alignmentgroup\":\"True\",\"box\":{\"visible\":true},\"hovertemplate\":\"Sex=Boys\\u003cbr\\u003eHeight=%{y}\\u003cextra\\u003e\\u003c\\u002fextra\\u003e\",\"legendgroup\":\"Boys\",\"marker\":{\"color\":\"#636efa\"},\"name\":\"Boys\",\"offsetgroup\":\"Boys\",\"orientation\":\"v\",\"scalegroup\":\"True\",\"showlegend\":true,\"x0\":\" \",\"xaxis\":\"x\",\"y\":[168.4952011,174.0708368,175.0402113,177.0945415,178.8426285,168.4641737,178.8352709,174.7549826,173.6666502,178.7742139,178.5244202,174.0024021,174.3971299,172.7639303,165.0814781,177.0283641,178.6913126,179.0933196,170.5235404,168.4402856,179.7190928,167.047405,168.1020022,182.4739613,173.1562439,175.7294701,166.3107865,174.1662959,171.8936289,167.3366923,176.2878151,165.3497028,172.1273456,178.7495629,169.0103541,171.8384508,172.8758725,175.660861,174.8348959,171.8528689,167.724913,171.2318603,178.3230318,174.0413739,168.233546,180.7589162,173.5583982,172.748561,181.1866355,181.8926588,170.7670714,180.1526393,174.6498499,168.5966271,167.3196536,174.5695408,170.6696869,168.1772539,170.6043697,182.7907032,168.8434837,173.9764485,180.5693897,178.6048688,178.3164001,170.4814842,168.3550469,175.9786311,180.2812073,170.3046673,179.2597832,173.8437525,178.6999159,164.3575117,170.6992167,168.1699422,172.1502463,172.229052,169.5905441,176.5873222,182.1015752,166.4952701,166.2576675,175.6229328,173.7936893,179.0393832,175.9835635,174.4246967,176.9742253,172.0628269,174.8389689,175.4969273,170.4552667,170.0907706,174.9625093,171.6648048,162.7805915,181.1711171,178.9571414,167.9243988,165.4756122,176.3925096,180.7233147,178.4613975,176.4252473,165.1618753,165.6750686,169.2035,167.8666326,175.0153974,174.3767502,165.2644168,165.5443523,173.0061028,170.2864395,169.5719143,175.5891559,170.6720031,183.3021555,176.3518212,164.2967622,166.6975031,169.7457063,169.5697914,164.3637755,183.7823942,177.7186704,169.9128092,170.2606015,171.5504656,177.1925778,174.6881165,180.4752288,175.0450534,171.6956401,167.3251134,170.6244315,170.1901695,163.097954,173.8061773,166.7506016,165.2326888,180.6864059,174.3708516,179.48215,173.2724105,177.8235057,176.6489555,166.0231738,173.7116523,176.4339349,177.4938788,174.4168439,170.3699634,170.6654708,176.1772132,180.7387125,175.8975925,166.4285078,173.4965252,181.0154868,180.9774125,163.0694439,171.2173809,169.6258335,175.5218658,176.1060863,168.0746406,172.0735944,174.5144365,169.4058542,180.4567319,178.7319158,171.6420138,173.5286917,168.431278,166.9789255,171.611156,160.1305426,170.1359032,176.0558521,175.113118,176.0332708,176.8533816,176.3558226,174.3725659,171.2982381,168.7360393,180.9759732,174.0772556,178.2080213,176.9373331,174.3233096,170.9421714,168.2940483,173.5337221,168.8948369,164.4164471,167.6155929,170.6857544],\"y0\":\" \",\"yaxis\":\"y\",\"type\":\"violin\"},{\"alignmentgroup\":\"True\",\"box\":{\"visible\":true},\"hovertemplate\":\"Sex=Girls\\u003cbr\\u003eHeight=%{y}\\u003cextra\\u003e\\u003c\\u002fextra\\u003e\",\"legendgroup\":\"Girls\",\"marker\":{\"color\":\"#EF553B\"},\"name\":\"Girls\",\"offsetgroup\":\"Girls\",\"orientation\":\"v\",\"scalegroup\":\"True\",\"showlegend\":true,\"x0\":\" \",\"xaxis\":\"x\",\"y\":[156.1131365,162.228577,162.3471758,167.5515216,165.5339424,158.0968993,165.7236873,161.2204189,159.8502379,164.6657115,166.9267081,161.3748814,163.4605059,158.2908386,152.3776067,165.6637541,166.9286256,163.4017271,158.1200655,158.4004184,166.1100662,155.1525549,155.5752266,167.4703934,162.0619929,162.4109716,154.8975092,164.5763997,161.3260572,155.0750944,163.0984081,154.749508,160.4111854,164.7299393,159.6509569,162.124187,159.4177472,163.464143,160.6180502,157.9637321,156.5389135,158.7799374,167.3085696,160.357674,158.6523799,166.8030687,160.1349333,160.5529092,167.9634761,169.4706062,159.8239953,166.8884613,161.2094022,156.3007255,155.2489338,160.8845002,156.3895702,158.049563,157.5803008,168.6627596,157.1513304,164.2814691,166.4751191,164.4886274,166.518656,160.0451908,161.7281894,163.2390056,166.177267,158.8551002,165.8130758,161.3955504,165.9886854,150.9139679,158.7521597,158.7193539,159.5686675,160.5749918,155.1831397,162.5462546,168.9134842,155.1781714,154.3551613,161.1837018,158.748746,164.4968527,162.2225456,161.810158,164.3192602,158.5037434,159.4624081,161.7446106,159.4338103,161.0399239,160.1019556,160.2019309,153.0990839,168.8066284,163.6704906,156.7207687,156.5414075,162.5616604,167.6298923,165.0690213,160.8842672,153.0638056,156.1409983,157.0637126,154.2846913,161.9892021,162.9504739,154.757255,160.0617358,158.9428354,157.9019214,159.6585322,162.9612374,159.8935082,169.9608833,161.1808557,155.4209895,154.7139858,160.2561216,157.8220749,152.3889602,170.3612107,164.6600412,155.621106,159.8149349,158.137273,167.0322654,161.2175424,166.448307,161.2777263,158.4350097,154.7706078,159.517622,158.1864561,156.8944981,159.762217,154.3871646,154.144211,165.7761352,161.2271328,163.0573217,160.7157302,164.7308377,164.5173719,156.7193229,162.7824413,165.5245375,165.3026536,163.8159608,159.8104627,158.8377261,163.9240914,168.285067,162.4655675,157.335599,161.3047179,167.1227997,167.1975653,156.7888442,159.8572748,158.5787176,163.22541,162.027874,155.8757964,160.3617147,162.2638615,158.9213854,166.6739103,164.3299732,159.3794885,160.6953329,158.1217805,156.8863466,159.417654,152.7123349,159.1294047,166.0753995,166.0793945,163.3798399,161.6854548,161.80204,162.8271298,163.5700611,158.5279616,166.6226773,160.5303006,163.9391448,163.3118826,161.5584634,160.2883173,160.4836304,160.0370075,158.425687,154.7560774,157.3152177,159.8490637],\"y0\":\" \",\"yaxis\":\"y\",\"type\":\"violin\"}],                        {\"template\":{\"data\":{\"histogram2dcontour\":[{\"type\":\"histogram2dcontour\",\"colorbar\":{\"outlinewidth\":0,\"ticks\":\"\"},\"colorscale\":[[0.0,\"#0d0887\"],[0.1111111111111111,\"#46039f\"],[0.2222222222222222,\"#7201a8\"],[0.3333333333333333,\"#9c179e\"],[0.4444444444444444,\"#bd3786\"],[0.5555555555555556,\"#d8576b\"],[0.6666666666666666,\"#ed7953\"],[0.7777777777777778,\"#fb9f3a\"],[0.8888888888888888,\"#fdca26\"],[1.0,\"#f0f921\"]]}],\"choropleth\":[{\"type\":\"choropleth\",\"colorbar\":{\"outlinewidth\":0,\"ticks\":\"\"}}],\"histogram2d\":[{\"type\":\"histogram2d\",\"colorbar\":{\"outlinewidth\":0,\"ticks\":\"\"},\"colorscale\":[[0.0,\"#0d0887\"],[0.1111111111111111,\"#46039f\"],[0.2222222222222222,\"#7201a8\"],[0.3333333333333333,\"#9c179e\"],[0.4444444444444444,\"#bd3786\"],[0.5555555555555556,\"#d8576b\"],[0.6666666666666666,\"#ed7953\"],[0.7777777777777778,\"#fb9f3a\"],[0.8888888888888888,\"#fdca26\"],[1.0,\"#f0f921\"]]}],\"heatmap\":[{\"type\":\"heatmap\",\"colorbar\":{\"outlinewidth\":0,\"ticks\":\"\"},\"colorscale\":[[0.0,\"#0d0887\"],[0.1111111111111111,\"#46039f\"],[0.2222222222222222,\"#7201a8\"],[0.3333333333333333,\"#9c179e\"],[0.4444444444444444,\"#bd3786\"],[0.5555555555555556,\"#d8576b\"],[0.6666666666666666,\"#ed7953\"],[0.7777777777777778,\"#fb9f3a\"],[0.8888888888888888,\"#fdca26\"],[1.0,\"#f0f921\"]]}],\"heatmapgl\":[{\"type\":\"heatmapgl\",\"colorbar\":{\"outlinewidth\":0,\"ticks\":\"\"},\"colorscale\":[[0.0,\"#0d0887\"],[0.1111111111111111,\"#46039f\"],[0.2222222222222222,\"#7201a8\"],[0.3333333333333333,\"#9c179e\"],[0.4444444444444444,\"#bd3786\"],[0.5555555555555556,\"#d8576b\"],[0.6666666666666666,\"#ed7953\"],[0.7777777777777778,\"#fb9f3a\"],[0.8888888888888888,\"#fdca26\"],[1.0,\"#f0f921\"]]}],\"contourcarpet\":[{\"type\":\"contourcarpet\",\"colorbar\":{\"outlinewidth\":0,\"ticks\":\"\"}}],\"contour\":[{\"type\":\"contour\",\"colorbar\":{\"outlinewidth\":0,\"ticks\":\"\"},\"colorscale\":[[0.0,\"#0d0887\"],[0.1111111111111111,\"#46039f\"],[0.2222222222222222,\"#7201a8\"],[0.3333333333333333,\"#9c179e\"],[0.4444444444444444,\"#bd3786\"],[0.5555555555555556,\"#d8576b\"],[0.6666666666666666,\"#ed7953\"],[0.7777777777777778,\"#fb9f3a\"],[0.8888888888888888,\"#fdca26\"],[1.0,\"#f0f921\"]]}],\"surface\":[{\"type\":\"surface\",\"colorbar\":{\"outlinewidth\":0,\"ticks\":\"\"},\"colorscale\":[[0.0,\"#0d0887\"],[0.1111111111111111,\"#46039f\"],[0.2222222222222222,\"#7201a8\"],[0.3333333333333333,\"#9c179e\"],[0.4444444444444444,\"#bd3786\"],[0.5555555555555556,\"#d8576b\"],[0.6666666666666666,\"#ed7953\"],[0.7777777777777778,\"#fb9f3a\"],[0.8888888888888888,\"#fdca26\"],[1.0,\"#f0f921\"]]}],\"mesh3d\":[{\"type\":\"mesh3d\",\"colorbar\":{\"outlinewidth\":0,\"ticks\":\"\"}}],\"scatter\":[{\"fillpattern\":{\"fillmode\":\"overlay\",\"size\":10,\"solidity\":0.2},\"type\":\"scatter\"}],\"parcoords\":[{\"type\":\"parcoords\",\"line\":{\"colorbar\":{\"outlinewidth\":0,\"ticks\":\"\"}}}],\"scatterpolargl\":[{\"type\":\"scatterpolargl\",\"marker\":{\"colorbar\":{\"outlinewidth\":0,\"ticks\":\"\"}}}],\"bar\":[{\"error_x\":{\"color\":\"#2a3f5f\"},\"error_y\":{\"color\":\"#2a3f5f\"},\"marker\":{\"line\":{\"color\":\"#E5ECF6\",\"width\":0.5},\"pattern\":{\"fillmode\":\"overlay\",\"size\":10,\"solidity\":0.2}},\"type\":\"bar\"}],\"scattergeo\":[{\"type\":\"scattergeo\",\"marker\":{\"colorbar\":{\"outlinewidth\":0,\"ticks\":\"\"}}}],\"scatterpolar\":[{\"type\":\"scatterpolar\",\"marker\":{\"colorbar\":{\"outlinewidth\":0,\"ticks\":\"\"}}}],\"histogram\":[{\"marker\":{\"pattern\":{\"fillmode\":\"overlay\",\"size\":10,\"solidity\":0.2}},\"type\":\"histogram\"}],\"scattergl\":[{\"type\":\"scattergl\",\"marker\":{\"colorbar\":{\"outlinewidth\":0,\"ticks\":\"\"}}}],\"scatter3d\":[{\"type\":\"scatter3d\",\"line\":{\"colorbar\":{\"outlinewidth\":0,\"ticks\":\"\"}},\"marker\":{\"colorbar\":{\"outlinewidth\":0,\"ticks\":\"\"}}}],\"scattermapbox\":[{\"type\":\"scattermapbox\",\"marker\":{\"colorbar\":{\"outlinewidth\":0,\"ticks\":\"\"}}}],\"scatterternary\":[{\"type\":\"scatterternary\",\"marker\":{\"colorbar\":{\"outlinewidth\":0,\"ticks\":\"\"}}}],\"scattercarpet\":[{\"type\":\"scattercarpet\",\"marker\":{\"colorbar\":{\"outlinewidth\":0,\"ticks\":\"\"}}}],\"carpet\":[{\"aaxis\":{\"endlinecolor\":\"#2a3f5f\",\"gridcolor\":\"white\",\"linecolor\":\"white\",\"minorgridcolor\":\"white\",\"startlinecolor\":\"#2a3f5f\"},\"baxis\":{\"endlinecolor\":\"#2a3f5f\",\"gridcolor\":\"white\",\"linecolor\":\"white\",\"minorgridcolor\":\"white\",\"startlinecolor\":\"#2a3f5f\"},\"type\":\"carpet\"}],\"table\":[{\"cells\":{\"fill\":{\"color\":\"#EBF0F8\"},\"line\":{\"color\":\"white\"}},\"header\":{\"fill\":{\"color\":\"#C8D4E3\"},\"line\":{\"color\":\"white\"}},\"type\":\"table\"}],\"barpolar\":[{\"marker\":{\"line\":{\"color\":\"#E5ECF6\",\"width\":0.5},\"pattern\":{\"fillmode\":\"overlay\",\"size\":10,\"solidity\":0.2}},\"type\":\"barpolar\"}],\"pie\":[{\"automargin\":true,\"type\":\"pie\"}]},\"layout\":{\"autotypenumbers\":\"strict\",\"colorway\":[\"#636efa\",\"#EF553B\",\"#00cc96\",\"#ab63fa\",\"#FFA15A\",\"#19d3f3\",\"#FF6692\",\"#B6E880\",\"#FF97FF\",\"#FECB52\"],\"font\":{\"color\":\"#2a3f5f\"},\"hovermode\":\"closest\",\"hoverlabel\":{\"align\":\"left\"},\"paper_bgcolor\":\"white\",\"plot_bgcolor\":\"#E5ECF6\",\"polar\":{\"bgcolor\":\"#E5ECF6\",\"angularaxis\":{\"gridcolor\":\"white\",\"linecolor\":\"white\",\"ticks\":\"\"},\"radialaxis\":{\"gridcolor\":\"white\",\"linecolor\":\"white\",\"ticks\":\"\"}},\"ternary\":{\"bgcolor\":\"#E5ECF6\",\"aaxis\":{\"gridcolor\":\"white\",\"linecolor\":\"white\",\"ticks\":\"\"},\"baxis\":{\"gridcolor\":\"white\",\"linecolor\":\"white\",\"ticks\":\"\"},\"caxis\":{\"gridcolor\":\"white\",\"linecolor\":\"white\",\"ticks\":\"\"}},\"coloraxis\":{\"colorbar\":{\"outlinewidth\":0,\"ticks\":\"\"}},\"colorscale\":{\"sequential\":[[0.0,\"#0d0887\"],[0.1111111111111111,\"#46039f\"],[0.2222222222222222,\"#7201a8\"],[0.3333333333333333,\"#9c179e\"],[0.4444444444444444,\"#bd3786\"],[0.5555555555555556,\"#d8576b\"],[0.6666666666666666,\"#ed7953\"],[0.7777777777777778,\"#fb9f3a\"],[0.8888888888888888,\"#fdca26\"],[1.0,\"#f0f921\"]],\"sequentialminus\":[[0.0,\"#0d0887\"],[0.1111111111111111,\"#46039f\"],[0.2222222222222222,\"#7201a8\"],[0.3333333333333333,\"#9c179e\"],[0.4444444444444444,\"#bd3786\"],[0.5555555555555556,\"#d8576b\"],[0.6666666666666666,\"#ed7953\"],[0.7777777777777778,\"#fb9f3a\"],[0.8888888888888888,\"#fdca26\"],[1.0,\"#f0f921\"]],\"diverging\":[[0,\"#8e0152\"],[0.1,\"#c51b7d\"],[0.2,\"#de77ae\"],[0.3,\"#f1b6da\"],[0.4,\"#fde0ef\"],[0.5,\"#f7f7f7\"],[0.6,\"#e6f5d0\"],[0.7,\"#b8e186\"],[0.8,\"#7fbc41\"],[0.9,\"#4d9221\"],[1,\"#276419\"]]},\"xaxis\":{\"gridcolor\":\"white\",\"linecolor\":\"white\",\"ticks\":\"\",\"title\":{\"standoff\":15},\"zerolinecolor\":\"white\",\"automargin\":true,\"zerolinewidth\":2},\"yaxis\":{\"gridcolor\":\"white\",\"linecolor\":\"white\",\"ticks\":\"\",\"title\":{\"standoff\":15},\"zerolinecolor\":\"white\",\"automargin\":true,\"zerolinewidth\":2},\"scene\":{\"xaxis\":{\"backgroundcolor\":\"#E5ECF6\",\"gridcolor\":\"white\",\"linecolor\":\"white\",\"showbackground\":true,\"ticks\":\"\",\"zerolinecolor\":\"white\",\"gridwidth\":2},\"yaxis\":{\"backgroundcolor\":\"#E5ECF6\",\"gridcolor\":\"white\",\"linecolor\":\"white\",\"showbackground\":true,\"ticks\":\"\",\"zerolinecolor\":\"white\",\"gridwidth\":2},\"zaxis\":{\"backgroundcolor\":\"#E5ECF6\",\"gridcolor\":\"white\",\"linecolor\":\"white\",\"showbackground\":true,\"ticks\":\"\",\"zerolinecolor\":\"white\",\"gridwidth\":2}},\"shapedefaults\":{\"line\":{\"color\":\"#2a3f5f\"}},\"annotationdefaults\":{\"arrowcolor\":\"#2a3f5f\",\"arrowhead\":0,\"arrowwidth\":1},\"geo\":{\"bgcolor\":\"white\",\"landcolor\":\"#E5ECF6\",\"subunitcolor\":\"white\",\"showland\":true,\"showlakes\":true,\"lakecolor\":\"white\"},\"title\":{\"x\":0.05},\"mapbox\":{\"style\":\"light\"}}},\"xaxis\":{\"anchor\":\"y\",\"domain\":[0.0,1.0]},\"yaxis\":{\"anchor\":\"x\",\"domain\":[0.0,1.0],\"title\":{\"text\":\"Height\"}},\"legend\":{\"title\":{\"text\":\"Sex\"},\"tracegroupgap\":0},\"title\":{\"text\":\"Violin Plot of Heights by Sex\"},\"violinmode\":\"group\"},                        {\"responsive\": true}                    ).then(function(){\n",
       "                            \n",
       "var gd = document.getElementById('f9b8d3e9-ca58-40c2-b6fb-fae24bda3941');\n",
       "var x = new MutationObserver(function (mutations, observer) {{\n",
       "        var display = window.getComputedStyle(gd).display;\n",
       "        if (!display || display === 'none') {{\n",
       "            console.log([gd, 'removed!']);\n",
       "            Plotly.purge(gd);\n",
       "            observer.disconnect();\n",
       "        }}\n",
       "}});\n",
       "\n",
       "// Listen for the removal of the full notebook cells\n",
       "var notebookContainer = gd.closest('#notebook-container');\n",
       "if (notebookContainer) {{\n",
       "    x.observe(notebookContainer, {childList: true});\n",
       "}}\n",
       "\n",
       "// Listen for the clearing of the current output cell\n",
       "var outputEl = gd.closest('.output');\n",
       "if (outputEl) {{\n",
       "    x.observe(outputEl, {childList: true});\n",
       "}}\n",
       "\n",
       "                        })                };                });            </script>        </div>"
      ]
     },
     "metadata": {},
     "output_type": "display_data"
    }
   ],
   "source": [
    "#sex of adult violin chart\n",
    "px.violin(adults, y=\"Height\", color=\"Sex\", box=True, title=\"Violin Plot of Heights by Sex\")"
   ]
  },
  {
   "cell_type": "code",
   "execution_count": 31,
   "id": "6669d44c-6cdb-481e-93f9-00fc092250bd",
   "metadata": {},
   "outputs": [
    {
     "data": {
      "application/vnd.plotly.v1+json": {
       "config": {
        "plotlyServerURL": "https://plot.ly"
       },
       "data": [
        {
         "alignmentgroup": "True",
         "bingroup": "x",
         "hovertemplate": "Height=%{x}<br>count=%{y}<extra></extra>",
         "legendgroup": "",
         "marker": {
          "color": "#636efa",
          "opacity": 0.8,
          "pattern": {
           "shape": ""
          }
         },
         "name": "",
         "nbinsx": 30,
         "offsetgroup": "",
         "orientation": "v",
         "showlegend": false,
         "type": "histogram",
         "x": [
          168.4952011,
          174.0708368,
          175.0402113,
          177.0945415,
          178.8426285,
          168.4641737,
          178.8352709,
          174.7549826,
          173.6666502,
          178.7742139,
          178.5244202,
          174.0024021,
          174.3971299,
          172.7639303,
          165.0814781,
          177.0283641,
          178.6913126,
          179.0933196,
          170.5235404,
          168.4402856,
          179.7190928,
          167.047405,
          168.1020022,
          182.4739613,
          173.1562439,
          175.7294701,
          166.3107865,
          174.1662959,
          171.8936289,
          167.3366923,
          176.2878151,
          165.3497028,
          172.1273456,
          178.7495629,
          169.0103541,
          171.8384508,
          172.8758725,
          175.660861,
          174.8348959,
          171.8528689,
          167.724913,
          171.2318603,
          178.3230318,
          174.0413739,
          168.233546,
          180.7589162,
          173.5583982,
          172.748561,
          181.1866355,
          181.8926588,
          170.7670714,
          180.1526393,
          174.6498499,
          168.5966271,
          167.3196536,
          174.5695408,
          170.6696869,
          168.1772539,
          170.6043697,
          182.7907032,
          168.8434837,
          173.9764485,
          180.5693897,
          178.6048688,
          178.3164001,
          170.4814842,
          168.3550469,
          175.9786311,
          180.2812073,
          170.3046673,
          179.2597832,
          173.8437525,
          178.6999159,
          164.3575117,
          170.6992167,
          168.1699422,
          172.1502463,
          172.229052,
          169.5905441,
          176.5873222,
          182.1015752,
          166.4952701,
          166.2576675,
          175.6229328,
          173.7936893,
          179.0393832,
          175.9835635,
          174.4246967,
          176.9742253,
          172.0628269,
          174.8389689,
          175.4969273,
          170.4552667,
          170.0907706,
          174.9625093,
          171.6648048,
          162.7805915,
          181.1711171,
          178.9571414,
          167.9243988,
          165.4756122,
          176.3925096,
          180.7233147,
          178.4613975,
          176.4252473,
          165.1618753,
          165.6750686,
          169.2035,
          167.8666326,
          175.0153974,
          174.3767502,
          165.2644168,
          165.5443523,
          173.0061028,
          170.2864395,
          169.5719143,
          175.5891559,
          170.6720031,
          183.3021555,
          176.3518212,
          164.2967622,
          166.6975031,
          169.7457063,
          169.5697914,
          164.3637755,
          183.7823942,
          177.7186704,
          169.9128092,
          170.2606015,
          171.5504656,
          177.1925778,
          174.6881165,
          180.4752288,
          175.0450534,
          171.6956401,
          167.3251134,
          170.6244315,
          170.1901695,
          163.097954,
          173.8061773,
          166.7506016,
          165.2326888,
          180.6864059,
          174.3708516,
          179.48215,
          173.2724105,
          177.8235057,
          176.6489555,
          166.0231738,
          173.7116523,
          176.4339349,
          177.4938788,
          174.4168439,
          170.3699634,
          170.6654708,
          176.1772132,
          180.7387125,
          175.8975925,
          166.4285078,
          173.4965252,
          181.0154868,
          180.9774125,
          163.0694439,
          171.2173809,
          169.6258335,
          175.5218658,
          176.1060863,
          168.0746406,
          172.0735944,
          174.5144365,
          169.4058542,
          180.4567319,
          178.7319158,
          171.6420138,
          173.5286917,
          168.431278,
          166.9789255,
          171.611156,
          160.1305426,
          170.1359032,
          176.0558521,
          175.113118,
          176.0332708,
          176.8533816,
          176.3558226,
          174.3725659,
          171.2982381,
          168.7360393,
          180.9759732,
          174.0772556,
          178.2080213,
          176.9373331,
          174.3233096,
          170.9421714,
          168.2940483,
          173.5337221,
          168.8948369,
          164.4164471,
          167.6155929,
          170.6857544,
          156.1131365,
          162.228577,
          162.3471758,
          167.5515216,
          165.5339424,
          158.0968993,
          165.7236873,
          161.2204189,
          159.8502379,
          164.6657115,
          166.9267081,
          161.3748814,
          163.4605059,
          158.2908386,
          152.3776067,
          165.6637541,
          166.9286256,
          163.4017271,
          158.1200655,
          158.4004184,
          166.1100662,
          155.1525549,
          155.5752266,
          167.4703934,
          162.0619929,
          162.4109716,
          154.8975092,
          164.5763997,
          161.3260572,
          155.0750944,
          163.0984081,
          154.749508,
          160.4111854,
          164.7299393,
          159.6509569,
          162.124187,
          159.4177472,
          163.464143,
          160.6180502,
          157.9637321,
          156.5389135,
          158.7799374,
          167.3085696,
          160.357674,
          158.6523799,
          166.8030687,
          160.1349333,
          160.5529092,
          167.9634761,
          169.4706062,
          159.8239953,
          166.8884613,
          161.2094022,
          156.3007255,
          155.2489338,
          160.8845002,
          156.3895702,
          158.049563,
          157.5803008,
          168.6627596,
          157.1513304,
          164.2814691,
          166.4751191,
          164.4886274,
          166.518656,
          160.0451908,
          161.7281894,
          163.2390056,
          166.177267,
          158.8551002,
          165.8130758,
          161.3955504,
          165.9886854,
          150.9139679,
          158.7521597,
          158.7193539,
          159.5686675,
          160.5749918,
          155.1831397,
          162.5462546,
          168.9134842,
          155.1781714,
          154.3551613,
          161.1837018,
          158.748746,
          164.4968527,
          162.2225456,
          161.810158,
          164.3192602,
          158.5037434,
          159.4624081,
          161.7446106,
          159.4338103,
          161.0399239,
          160.1019556,
          160.2019309,
          153.0990839,
          168.8066284,
          163.6704906,
          156.7207687,
          156.5414075,
          162.5616604,
          167.6298923,
          165.0690213,
          160.8842672,
          153.0638056,
          156.1409983,
          157.0637126,
          154.2846913,
          161.9892021,
          162.9504739,
          154.757255,
          160.0617358,
          158.9428354,
          157.9019214,
          159.6585322,
          162.9612374,
          159.8935082,
          169.9608833,
          161.1808557,
          155.4209895,
          154.7139858,
          160.2561216,
          157.8220749,
          152.3889602,
          170.3612107,
          164.6600412,
          155.621106,
          159.8149349,
          158.137273,
          167.0322654,
          161.2175424,
          166.448307,
          161.2777263,
          158.4350097,
          154.7706078,
          159.517622,
          158.1864561,
          156.8944981,
          159.762217,
          154.3871646,
          154.144211,
          165.7761352,
          161.2271328,
          163.0573217,
          160.7157302,
          164.7308377,
          164.5173719,
          156.7193229,
          162.7824413,
          165.5245375,
          165.3026536,
          163.8159608,
          159.8104627,
          158.8377261,
          163.9240914,
          168.285067,
          162.4655675,
          157.335599,
          161.3047179,
          167.1227997,
          167.1975653,
          156.7888442,
          159.8572748,
          158.5787176,
          163.22541,
          162.027874,
          155.8757964,
          160.3617147,
          162.2638615,
          158.9213854,
          166.6739103,
          164.3299732,
          159.3794885,
          160.6953329,
          158.1217805,
          156.8863466,
          159.417654,
          152.7123349,
          159.1294047,
          166.0753995,
          166.0793945,
          163.3798399,
          161.6854548,
          161.80204,
          162.8271298,
          163.5700611,
          158.5279616,
          166.6226773,
          160.5303006,
          163.9391448,
          163.3118826,
          161.5584634,
          160.2883173,
          160.4836304,
          160.0370075,
          158.425687,
          154.7560774,
          157.3152177,
          159.8490637
         ],
         "xaxis": "x",
         "yaxis": "y"
        }
       ],
       "layout": {
        "barmode": "overlay",
        "legend": {
         "tracegroupgap": 0
        },
        "template": {
         "data": {
          "bar": [
           {
            "error_x": {
             "color": "#2a3f5f"
            },
            "error_y": {
             "color": "#2a3f5f"
            },
            "marker": {
             "line": {
              "color": "#E5ECF6",
              "width": 0.5
             },
             "pattern": {
              "fillmode": "overlay",
              "size": 10,
              "solidity": 0.2
             }
            },
            "type": "bar"
           }
          ],
          "barpolar": [
           {
            "marker": {
             "line": {
              "color": "#E5ECF6",
              "width": 0.5
             },
             "pattern": {
              "fillmode": "overlay",
              "size": 10,
              "solidity": 0.2
             }
            },
            "type": "barpolar"
           }
          ],
          "carpet": [
           {
            "aaxis": {
             "endlinecolor": "#2a3f5f",
             "gridcolor": "white",
             "linecolor": "white",
             "minorgridcolor": "white",
             "startlinecolor": "#2a3f5f"
            },
            "baxis": {
             "endlinecolor": "#2a3f5f",
             "gridcolor": "white",
             "linecolor": "white",
             "minorgridcolor": "white",
             "startlinecolor": "#2a3f5f"
            },
            "type": "carpet"
           }
          ],
          "choropleth": [
           {
            "colorbar": {
             "outlinewidth": 0,
             "ticks": ""
            },
            "type": "choropleth"
           }
          ],
          "contour": [
           {
            "colorbar": {
             "outlinewidth": 0,
             "ticks": ""
            },
            "colorscale": [
             [
              0,
              "#0d0887"
             ],
             [
              0.1111111111111111,
              "#46039f"
             ],
             [
              0.2222222222222222,
              "#7201a8"
             ],
             [
              0.3333333333333333,
              "#9c179e"
             ],
             [
              0.4444444444444444,
              "#bd3786"
             ],
             [
              0.5555555555555556,
              "#d8576b"
             ],
             [
              0.6666666666666666,
              "#ed7953"
             ],
             [
              0.7777777777777778,
              "#fb9f3a"
             ],
             [
              0.8888888888888888,
              "#fdca26"
             ],
             [
              1,
              "#f0f921"
             ]
            ],
            "type": "contour"
           }
          ],
          "contourcarpet": [
           {
            "colorbar": {
             "outlinewidth": 0,
             "ticks": ""
            },
            "type": "contourcarpet"
           }
          ],
          "heatmap": [
           {
            "colorbar": {
             "outlinewidth": 0,
             "ticks": ""
            },
            "colorscale": [
             [
              0,
              "#0d0887"
             ],
             [
              0.1111111111111111,
              "#46039f"
             ],
             [
              0.2222222222222222,
              "#7201a8"
             ],
             [
              0.3333333333333333,
              "#9c179e"
             ],
             [
              0.4444444444444444,
              "#bd3786"
             ],
             [
              0.5555555555555556,
              "#d8576b"
             ],
             [
              0.6666666666666666,
              "#ed7953"
             ],
             [
              0.7777777777777778,
              "#fb9f3a"
             ],
             [
              0.8888888888888888,
              "#fdca26"
             ],
             [
              1,
              "#f0f921"
             ]
            ],
            "type": "heatmap"
           }
          ],
          "heatmapgl": [
           {
            "colorbar": {
             "outlinewidth": 0,
             "ticks": ""
            },
            "colorscale": [
             [
              0,
              "#0d0887"
             ],
             [
              0.1111111111111111,
              "#46039f"
             ],
             [
              0.2222222222222222,
              "#7201a8"
             ],
             [
              0.3333333333333333,
              "#9c179e"
             ],
             [
              0.4444444444444444,
              "#bd3786"
             ],
             [
              0.5555555555555556,
              "#d8576b"
             ],
             [
              0.6666666666666666,
              "#ed7953"
             ],
             [
              0.7777777777777778,
              "#fb9f3a"
             ],
             [
              0.8888888888888888,
              "#fdca26"
             ],
             [
              1,
              "#f0f921"
             ]
            ],
            "type": "heatmapgl"
           }
          ],
          "histogram": [
           {
            "marker": {
             "pattern": {
              "fillmode": "overlay",
              "size": 10,
              "solidity": 0.2
             }
            },
            "type": "histogram"
           }
          ],
          "histogram2d": [
           {
            "colorbar": {
             "outlinewidth": 0,
             "ticks": ""
            },
            "colorscale": [
             [
              0,
              "#0d0887"
             ],
             [
              0.1111111111111111,
              "#46039f"
             ],
             [
              0.2222222222222222,
              "#7201a8"
             ],
             [
              0.3333333333333333,
              "#9c179e"
             ],
             [
              0.4444444444444444,
              "#bd3786"
             ],
             [
              0.5555555555555556,
              "#d8576b"
             ],
             [
              0.6666666666666666,
              "#ed7953"
             ],
             [
              0.7777777777777778,
              "#fb9f3a"
             ],
             [
              0.8888888888888888,
              "#fdca26"
             ],
             [
              1,
              "#f0f921"
             ]
            ],
            "type": "histogram2d"
           }
          ],
          "histogram2dcontour": [
           {
            "colorbar": {
             "outlinewidth": 0,
             "ticks": ""
            },
            "colorscale": [
             [
              0,
              "#0d0887"
             ],
             [
              0.1111111111111111,
              "#46039f"
             ],
             [
              0.2222222222222222,
              "#7201a8"
             ],
             [
              0.3333333333333333,
              "#9c179e"
             ],
             [
              0.4444444444444444,
              "#bd3786"
             ],
             [
              0.5555555555555556,
              "#d8576b"
             ],
             [
              0.6666666666666666,
              "#ed7953"
             ],
             [
              0.7777777777777778,
              "#fb9f3a"
             ],
             [
              0.8888888888888888,
              "#fdca26"
             ],
             [
              1,
              "#f0f921"
             ]
            ],
            "type": "histogram2dcontour"
           }
          ],
          "mesh3d": [
           {
            "colorbar": {
             "outlinewidth": 0,
             "ticks": ""
            },
            "type": "mesh3d"
           }
          ],
          "parcoords": [
           {
            "line": {
             "colorbar": {
              "outlinewidth": 0,
              "ticks": ""
             }
            },
            "type": "parcoords"
           }
          ],
          "pie": [
           {
            "automargin": true,
            "type": "pie"
           }
          ],
          "scatter": [
           {
            "fillpattern": {
             "fillmode": "overlay",
             "size": 10,
             "solidity": 0.2
            },
            "type": "scatter"
           }
          ],
          "scatter3d": [
           {
            "line": {
             "colorbar": {
              "outlinewidth": 0,
              "ticks": ""
             }
            },
            "marker": {
             "colorbar": {
              "outlinewidth": 0,
              "ticks": ""
             }
            },
            "type": "scatter3d"
           }
          ],
          "scattercarpet": [
           {
            "marker": {
             "colorbar": {
              "outlinewidth": 0,
              "ticks": ""
             }
            },
            "type": "scattercarpet"
           }
          ],
          "scattergeo": [
           {
            "marker": {
             "colorbar": {
              "outlinewidth": 0,
              "ticks": ""
             }
            },
            "type": "scattergeo"
           }
          ],
          "scattergl": [
           {
            "marker": {
             "colorbar": {
              "outlinewidth": 0,
              "ticks": ""
             }
            },
            "type": "scattergl"
           }
          ],
          "scattermapbox": [
           {
            "marker": {
             "colorbar": {
              "outlinewidth": 0,
              "ticks": ""
             }
            },
            "type": "scattermapbox"
           }
          ],
          "scatterpolar": [
           {
            "marker": {
             "colorbar": {
              "outlinewidth": 0,
              "ticks": ""
             }
            },
            "type": "scatterpolar"
           }
          ],
          "scatterpolargl": [
           {
            "marker": {
             "colorbar": {
              "outlinewidth": 0,
              "ticks": ""
             }
            },
            "type": "scatterpolargl"
           }
          ],
          "scatterternary": [
           {
            "marker": {
             "colorbar": {
              "outlinewidth": 0,
              "ticks": ""
             }
            },
            "type": "scatterternary"
           }
          ],
          "surface": [
           {
            "colorbar": {
             "outlinewidth": 0,
             "ticks": ""
            },
            "colorscale": [
             [
              0,
              "#0d0887"
             ],
             [
              0.1111111111111111,
              "#46039f"
             ],
             [
              0.2222222222222222,
              "#7201a8"
             ],
             [
              0.3333333333333333,
              "#9c179e"
             ],
             [
              0.4444444444444444,
              "#bd3786"
             ],
             [
              0.5555555555555556,
              "#d8576b"
             ],
             [
              0.6666666666666666,
              "#ed7953"
             ],
             [
              0.7777777777777778,
              "#fb9f3a"
             ],
             [
              0.8888888888888888,
              "#fdca26"
             ],
             [
              1,
              "#f0f921"
             ]
            ],
            "type": "surface"
           }
          ],
          "table": [
           {
            "cells": {
             "fill": {
              "color": "#EBF0F8"
             },
             "line": {
              "color": "white"
             }
            },
            "header": {
             "fill": {
              "color": "#C8D4E3"
             },
             "line": {
              "color": "white"
             }
            },
            "type": "table"
           }
          ]
         },
         "layout": {
          "annotationdefaults": {
           "arrowcolor": "#2a3f5f",
           "arrowhead": 0,
           "arrowwidth": 1
          },
          "autotypenumbers": "strict",
          "coloraxis": {
           "colorbar": {
            "outlinewidth": 0,
            "ticks": ""
           }
          },
          "colorscale": {
           "diverging": [
            [
             0,
             "#8e0152"
            ],
            [
             0.1,
             "#c51b7d"
            ],
            [
             0.2,
             "#de77ae"
            ],
            [
             0.3,
             "#f1b6da"
            ],
            [
             0.4,
             "#fde0ef"
            ],
            [
             0.5,
             "#f7f7f7"
            ],
            [
             0.6,
             "#e6f5d0"
            ],
            [
             0.7,
             "#b8e186"
            ],
            [
             0.8,
             "#7fbc41"
            ],
            [
             0.9,
             "#4d9221"
            ],
            [
             1,
             "#276419"
            ]
           ],
           "sequential": [
            [
             0,
             "#0d0887"
            ],
            [
             0.1111111111111111,
             "#46039f"
            ],
            [
             0.2222222222222222,
             "#7201a8"
            ],
            [
             0.3333333333333333,
             "#9c179e"
            ],
            [
             0.4444444444444444,
             "#bd3786"
            ],
            [
             0.5555555555555556,
             "#d8576b"
            ],
            [
             0.6666666666666666,
             "#ed7953"
            ],
            [
             0.7777777777777778,
             "#fb9f3a"
            ],
            [
             0.8888888888888888,
             "#fdca26"
            ],
            [
             1,
             "#f0f921"
            ]
           ],
           "sequentialminus": [
            [
             0,
             "#0d0887"
            ],
            [
             0.1111111111111111,
             "#46039f"
            ],
            [
             0.2222222222222222,
             "#7201a8"
            ],
            [
             0.3333333333333333,
             "#9c179e"
            ],
            [
             0.4444444444444444,
             "#bd3786"
            ],
            [
             0.5555555555555556,
             "#d8576b"
            ],
            [
             0.6666666666666666,
             "#ed7953"
            ],
            [
             0.7777777777777778,
             "#fb9f3a"
            ],
            [
             0.8888888888888888,
             "#fdca26"
            ],
            [
             1,
             "#f0f921"
            ]
           ]
          },
          "colorway": [
           "#636efa",
           "#EF553B",
           "#00cc96",
           "#ab63fa",
           "#FFA15A",
           "#19d3f3",
           "#FF6692",
           "#B6E880",
           "#FF97FF",
           "#FECB52"
          ],
          "font": {
           "color": "#2a3f5f"
          },
          "geo": {
           "bgcolor": "white",
           "lakecolor": "white",
           "landcolor": "#E5ECF6",
           "showlakes": true,
           "showland": true,
           "subunitcolor": "white"
          },
          "hoverlabel": {
           "align": "left"
          },
          "hovermode": "closest",
          "mapbox": {
           "style": "light"
          },
          "paper_bgcolor": "white",
          "plot_bgcolor": "#E5ECF6",
          "polar": {
           "angularaxis": {
            "gridcolor": "white",
            "linecolor": "white",
            "ticks": ""
           },
           "bgcolor": "#E5ECF6",
           "radialaxis": {
            "gridcolor": "white",
            "linecolor": "white",
            "ticks": ""
           }
          },
          "scene": {
           "xaxis": {
            "backgroundcolor": "#E5ECF6",
            "gridcolor": "white",
            "gridwidth": 2,
            "linecolor": "white",
            "showbackground": true,
            "ticks": "",
            "zerolinecolor": "white"
           },
           "yaxis": {
            "backgroundcolor": "#E5ECF6",
            "gridcolor": "white",
            "gridwidth": 2,
            "linecolor": "white",
            "showbackground": true,
            "ticks": "",
            "zerolinecolor": "white"
           },
           "zaxis": {
            "backgroundcolor": "#E5ECF6",
            "gridcolor": "white",
            "gridwidth": 2,
            "linecolor": "white",
            "showbackground": true,
            "ticks": "",
            "zerolinecolor": "white"
           }
          },
          "shapedefaults": {
           "line": {
            "color": "#2a3f5f"
           }
          },
          "ternary": {
           "aaxis": {
            "gridcolor": "white",
            "linecolor": "white",
            "ticks": ""
           },
           "baxis": {
            "gridcolor": "white",
            "linecolor": "white",
            "ticks": ""
           },
           "bgcolor": "#E5ECF6",
           "caxis": {
            "gridcolor": "white",
            "linecolor": "white",
            "ticks": ""
           }
          },
          "title": {
           "x": 0.05
          },
          "xaxis": {
           "automargin": true,
           "gridcolor": "white",
           "linecolor": "white",
           "ticks": "",
           "title": {
            "standoff": 15
           },
           "zerolinecolor": "white",
           "zerolinewidth": 2
          },
          "yaxis": {
           "automargin": true,
           "gridcolor": "white",
           "linecolor": "white",
           "ticks": "",
           "title": {
            "standoff": 15
           },
           "zerolinecolor": "white",
           "zerolinewidth": 2
          }
         }
        },
        "title": {
         "text": "Histogram of Heights"
        },
        "xaxis": {
         "anchor": "y",
         "domain": [
          0,
          1
         ],
         "title": {
          "text": "Height"
         }
        },
        "yaxis": {
         "anchor": "x",
         "domain": [
          0,
          1
         ],
         "title": {
          "text": "count"
         }
        }
       }
      },
      "image/png": "[encoded data removed]",
      "text/html": [
       "<div>                            <div id=\"31d981c0-a7f8-4659-a8fe-6acbec1f3225\" class=\"plotly-graph-div\" style=\"height:525px; width:100%;\"></div>            <script type=\"text/javascript\">                require([\"plotly\"], function(Plotly) {                    window.PLOTLYENV=window.PLOTLYENV || {};                                    if (document.getElementById(\"31d981c0-a7f8-4659-a8fe-6acbec1f3225\")) {                    Plotly.newPlot(                        \"31d981c0-a7f8-4659-a8fe-6acbec1f3225\",                        [{\"alignmentgroup\":\"True\",\"bingroup\":\"x\",\"hovertemplate\":\"Height=%{x}\\u003cbr\\u003ecount=%{y}\\u003cextra\\u003e\\u003c\\u002fextra\\u003e\",\"legendgroup\":\"\",\"marker\":{\"color\":\"#636efa\",\"opacity\":0.8,\"pattern\":{\"shape\":\"\"}},\"name\":\"\",\"nbinsx\":30,\"offsetgroup\":\"\",\"orientation\":\"v\",\"showlegend\":false,\"x\":[168.4952011,174.0708368,175.0402113,177.0945415,178.8426285,168.4641737,178.8352709,174.7549826,173.6666502,178.7742139,178.5244202,174.0024021,174.3971299,172.7639303,165.0814781,177.0283641,178.6913126,179.0933196,170.5235404,168.4402856,179.7190928,167.047405,168.1020022,182.4739613,173.1562439,175.7294701,166.3107865,174.1662959,171.8936289,167.3366923,176.2878151,165.3497028,172.1273456,178.7495629,169.0103541,171.8384508,172.8758725,175.660861,174.8348959,171.8528689,167.724913,171.2318603,178.3230318,174.0413739,168.233546,180.7589162,173.5583982,172.748561,181.1866355,181.8926588,170.7670714,180.1526393,174.6498499,168.5966271,167.3196536,174.5695408,170.6696869,168.1772539,170.6043697,182.7907032,168.8434837,173.9764485,180.5693897,178.6048688,178.3164001,170.4814842,168.3550469,175.9786311,180.2812073,170.3046673,179.2597832,173.8437525,178.6999159,164.3575117,170.6992167,168.1699422,172.1502463,172.229052,169.5905441,176.5873222,182.1015752,166.4952701,166.2576675,175.6229328,173.7936893,179.0393832,175.9835635,174.4246967,176.9742253,172.0628269,174.8389689,175.4969273,170.4552667,170.0907706,174.9625093,171.6648048,162.7805915,181.1711171,178.9571414,167.9243988,165.4756122,176.3925096,180.7233147,178.4613975,176.4252473,165.1618753,165.6750686,169.2035,167.8666326,175.0153974,174.3767502,165.2644168,165.5443523,173.0061028,170.2864395,169.5719143,175.5891559,170.6720031,183.3021555,176.3518212,164.2967622,166.6975031,169.7457063,169.5697914,164.3637755,183.7823942,177.7186704,169.9128092,170.2606015,171.5504656,177.1925778,174.6881165,180.4752288,175.0450534,171.6956401,167.3251134,170.6244315,170.1901695,163.097954,173.8061773,166.7506016,165.2326888,180.6864059,174.3708516,179.48215,173.2724105,177.8235057,176.6489555,166.0231738,173.7116523,176.4339349,177.4938788,174.4168439,170.3699634,170.6654708,176.1772132,180.7387125,175.8975925,166.4285078,173.4965252,181.0154868,180.9774125,163.0694439,171.2173809,169.6258335,175.5218658,176.1060863,168.0746406,172.0735944,174.5144365,169.4058542,180.4567319,178.7319158,171.6420138,173.5286917,168.431278,166.9789255,171.611156,160.1305426,170.1359032,176.0558521,175.113118,176.0332708,176.8533816,176.3558226,174.3725659,171.2982381,168.7360393,180.9759732,174.0772556,178.2080213,176.9373331,174.3233096,170.9421714,168.2940483,173.5337221,168.8948369,164.4164471,167.6155929,170.6857544,156.1131365,162.228577,162.3471758,167.5515216,165.5339424,158.0968993,165.7236873,161.2204189,159.8502379,164.6657115,166.9267081,161.3748814,163.4605059,158.2908386,152.3776067,165.6637541,166.9286256,163.4017271,158.1200655,158.4004184,166.1100662,155.1525549,155.5752266,167.4703934,162.0619929,162.4109716,154.8975092,164.5763997,161.3260572,155.0750944,163.0984081,154.749508,160.4111854,164.7299393,159.6509569,162.124187,159.4177472,163.464143,160.6180502,157.9637321,156.5389135,158.7799374,167.3085696,160.357674,158.6523799,166.8030687,160.1349333,160.5529092,167.9634761,169.4706062,159.8239953,166.8884613,161.2094022,156.3007255,155.2489338,160.8845002,156.3895702,158.049563,157.5803008,168.6627596,157.1513304,164.2814691,166.4751191,164.4886274,166.518656,160.0451908,161.7281894,163.2390056,166.177267,158.8551002,165.8130758,161.3955504,165.9886854,150.9139679,158.7521597,158.7193539,159.5686675,160.5749918,155.1831397,162.5462546,168.9134842,155.1781714,154.3551613,161.1837018,158.748746,164.4968527,162.2225456,161.810158,164.3192602,158.5037434,159.4624081,161.7446106,159.4338103,161.0399239,160.1019556,160.2019309,153.0990839,168.8066284,163.6704906,156.7207687,156.5414075,162.5616604,167.6298923,165.0690213,160.8842672,153.0638056,156.1409983,157.0637126,154.2846913,161.9892021,162.9504739,154.757255,160.0617358,158.9428354,157.9019214,159.6585322,162.9612374,159.8935082,169.9608833,161.1808557,155.4209895,154.7139858,160.2561216,157.8220749,152.3889602,170.3612107,164.6600412,155.621106,159.8149349,158.137273,167.0322654,161.2175424,166.448307,161.2777263,158.4350097,154.7706078,159.517622,158.1864561,156.8944981,159.762217,154.3871646,154.144211,165.7761352,161.2271328,163.0573217,160.7157302,164.7308377,164.5173719,156.7193229,162.7824413,165.5245375,165.3026536,163.8159608,159.8104627,158.8377261,163.9240914,168.285067,162.4655675,157.335599,161.3047179,167.1227997,167.1975653,156.7888442,159.8572748,158.5787176,163.22541,162.027874,155.8757964,160.3617147,162.2638615,158.9213854,166.6739103,164.3299732,159.3794885,160.6953329,158.1217805,156.8863466,159.417654,152.7123349,159.1294047,166.0753995,166.0793945,163.3798399,161.6854548,161.80204,162.8271298,163.5700611,158.5279616,166.6226773,160.5303006,163.9391448,163.3118826,161.5584634,160.2883173,160.4836304,160.0370075,158.425687,154.7560774,157.3152177,159.8490637],\"xaxis\":\"x\",\"yaxis\":\"y\",\"type\":\"histogram\"}],                        {\"template\":{\"data\":{\"histogram2dcontour\":[{\"type\":\"histogram2dcontour\",\"colorbar\":{\"outlinewidth\":0,\"ticks\":\"\"},\"colorscale\":[[0.0,\"#0d0887\"],[0.1111111111111111,\"#46039f\"],[0.2222222222222222,\"#7201a8\"],[0.3333333333333333,\"#9c179e\"],[0.4444444444444444,\"#bd3786\"],[0.5555555555555556,\"#d8576b\"],[0.6666666666666666,\"#ed7953\"],[0.7777777777777778,\"#fb9f3a\"],[0.8888888888888888,\"#fdca26\"],[1.0,\"#f0f921\"]]}],\"choropleth\":[{\"type\":\"choropleth\",\"colorbar\":{\"outlinewidth\":0,\"ticks\":\"\"}}],\"histogram2d\":[{\"type\":\"histogram2d\",\"colorbar\":{\"outlinewidth\":0,\"ticks\":\"\"},\"colorscale\":[[0.0,\"#0d0887\"],[0.1111111111111111,\"#46039f\"],[0.2222222222222222,\"#7201a8\"],[0.3333333333333333,\"#9c179e\"],[0.4444444444444444,\"#bd3786\"],[0.5555555555555556,\"#d8576b\"],[0.6666666666666666,\"#ed7953\"],[0.7777777777777778,\"#fb9f3a\"],[0.8888888888888888,\"#fdca26\"],[1.0,\"#f0f921\"]]}],\"heatmap\":[{\"type\":\"heatmap\",\"colorbar\":{\"outlinewidth\":0,\"ticks\":\"\"},\"colorscale\":[[0.0,\"#0d0887\"],[0.1111111111111111,\"#46039f\"],[0.2222222222222222,\"#7201a8\"],[0.3333333333333333,\"#9c179e\"],[0.4444444444444444,\"#bd3786\"],[0.5555555555555556,\"#d8576b\"],[0.6666666666666666,\"#ed7953\"],[0.7777777777777778,\"#fb9f3a\"],[0.8888888888888888,\"#fdca26\"],[1.0,\"#f0f921\"]]}],\"heatmapgl\":[{\"type\":\"heatmapgl\",\"colorbar\":{\"outlinewidth\":0,\"ticks\":\"\"},\"colorscale\":[[0.0,\"#0d0887\"],[0.1111111111111111,\"#46039f\"],[0.2222222222222222,\"#7201a8\"],[0.3333333333333333,\"#9c179e\"],[0.4444444444444444,\"#bd3786\"],[0.5555555555555556,\"#d8576b\"],[0.6666666666666666,\"#ed7953\"],[0.7777777777777778,\"#fb9f3a\"],[0.8888888888888888,\"#fdca26\"],[1.0,\"#f0f921\"]]}],\"contourcarpet\":[{\"type\":\"contourcarpet\",\"colorbar\":{\"outlinewidth\":0,\"ticks\":\"\"}}],\"contour\":[{\"type\":\"contour\",\"colorbar\":{\"outlinewidth\":0,\"ticks\":\"\"},\"colorscale\":[[0.0,\"#0d0887\"],[0.1111111111111111,\"#46039f\"],[0.2222222222222222,\"#7201a8\"],[0.3333333333333333,\"#9c179e\"],[0.4444444444444444,\"#bd3786\"],[0.5555555555555556,\"#d8576b\"],[0.6666666666666666,\"#ed7953\"],[0.7777777777777778,\"#fb9f3a\"],[0.8888888888888888,\"#fdca26\"],[1.0,\"#f0f921\"]]}],\"surface\":[{\"type\":\"surface\",\"colorbar\":{\"outlinewidth\":0,\"ticks\":\"\"},\"colorscale\":[[0.0,\"#0d0887\"],[0.1111111111111111,\"#46039f\"],[0.2222222222222222,\"#7201a8\"],[0.3333333333333333,\"#9c179e\"],[0.4444444444444444,\"#bd3786\"],[0.5555555555555556,\"#d8576b\"],[0.6666666666666666,\"#ed7953\"],[0.7777777777777778,\"#fb9f3a\"],[0.8888888888888888,\"#fdca26\"],[1.0,\"#f0f921\"]]}],\"mesh3d\":[{\"type\":\"mesh3d\",\"colorbar\":{\"outlinewidth\":0,\"ticks\":\"\"}}],\"scatter\":[{\"fillpattern\":{\"fillmode\":\"overlay\",\"size\":10,\"solidity\":0.2},\"type\":\"scatter\"}],\"parcoords\":[{\"type\":\"parcoords\",\"line\":{\"colorbar\":{\"outlinewidth\":0,\"ticks\":\"\"}}}],\"scatterpolargl\":[{\"type\":\"scatterpolargl\",\"marker\":{\"colorbar\":{\"outlinewidth\":0,\"ticks\":\"\"}}}],\"bar\":[{\"error_x\":{\"color\":\"#2a3f5f\"},\"error_y\":{\"color\":\"#2a3f5f\"},\"marker\":{\"line\":{\"color\":\"#E5ECF6\",\"width\":0.5},\"pattern\":{\"fillmode\":\"overlay\",\"size\":10,\"solidity\":0.2}},\"type\":\"bar\"}],\"scattergeo\":[{\"type\":\"scattergeo\",\"marker\":{\"colorbar\":{\"outlinewidth\":0,\"ticks\":\"\"}}}],\"scatterpolar\":[{\"type\":\"scatterpolar\",\"marker\":{\"colorbar\":{\"outlinewidth\":0,\"ticks\":\"\"}}}],\"histogram\":[{\"marker\":{\"pattern\":{\"fillmode\":\"overlay\",\"size\":10,\"solidity\":0.2}},\"type\":\"histogram\"}],\"scattergl\":[{\"type\":\"scattergl\",\"marker\":{\"colorbar\":{\"outlinewidth\":0,\"ticks\":\"\"}}}],\"scatter3d\":[{\"type\":\"scatter3d\",\"line\":{\"colorbar\":{\"outlinewidth\":0,\"ticks\":\"\"}},\"marker\":{\"colorbar\":{\"outlinewidth\":0,\"ticks\":\"\"}}}],\"scattermapbox\":[{\"type\":\"scattermapbox\",\"marker\":{\"colorbar\":{\"outlinewidth\":0,\"ticks\":\"\"}}}],\"scatterternary\":[{\"type\":\"scatterternary\",\"marker\":{\"colorbar\":{\"outlinewidth\":0,\"ticks\":\"\"}}}],\"scattercarpet\":[{\"type\":\"scattercarpet\",\"marker\":{\"colorbar\":{\"outlinewidth\":0,\"ticks\":\"\"}}}],\"carpet\":[{\"aaxis\":{\"endlinecolor\":\"#2a3f5f\",\"gridcolor\":\"white\",\"linecolor\":\"white\",\"minorgridcolor\":\"white\",\"startlinecolor\":\"#2a3f5f\"},\"baxis\":{\"endlinecolor\":\"#2a3f5f\",\"gridcolor\":\"white\",\"linecolor\":\"white\",\"minorgridcolor\":\"white\",\"startlinecolor\":\"#2a3f5f\"},\"type\":\"carpet\"}],\"table\":[{\"cells\":{\"fill\":{\"color\":\"#EBF0F8\"},\"line\":{\"color\":\"white\"}},\"header\":{\"fill\":{\"color\":\"#C8D4E3\"},\"line\":{\"color\":\"white\"}},\"type\":\"table\"}],\"barpolar\":[{\"marker\":{\"line\":{\"color\":\"#E5ECF6\",\"width\":0.5},\"pattern\":{\"fillmode\":\"overlay\",\"size\":10,\"solidity\":0.2}},\"type\":\"barpolar\"}],\"pie\":[{\"automargin\":true,\"type\":\"pie\"}]},\"layout\":{\"autotypenumbers\":\"strict\",\"colorway\":[\"#636efa\",\"#EF553B\",\"#00cc96\",\"#ab63fa\",\"#FFA15A\",\"#19d3f3\",\"#FF6692\",\"#B6E880\",\"#FF97FF\",\"#FECB52\"],\"font\":{\"color\":\"#2a3f5f\"},\"hovermode\":\"closest\",\"hoverlabel\":{\"align\":\"left\"},\"paper_bgcolor\":\"white\",\"plot_bgcolor\":\"#E5ECF6\",\"polar\":{\"bgcolor\":\"#E5ECF6\",\"angularaxis\":{\"gridcolor\":\"white\",\"linecolor\":\"white\",\"ticks\":\"\"},\"radialaxis\":{\"gridcolor\":\"white\",\"linecolor\":\"white\",\"ticks\":\"\"}},\"ternary\":{\"bgcolor\":\"#E5ECF6\",\"aaxis\":{\"gridcolor\":\"white\",\"linecolor\":\"white\",\"ticks\":\"\"},\"baxis\":{\"gridcolor\":\"white\",\"linecolor\":\"white\",\"ticks\":\"\"},\"caxis\":{\"gridcolor\":\"white\",\"linecolor\":\"white\",\"ticks\":\"\"}},\"coloraxis\":{\"colorbar\":{\"outlinewidth\":0,\"ticks\":\"\"}},\"colorscale\":{\"sequential\":[[0.0,\"#0d0887\"],[0.1111111111111111,\"#46039f\"],[0.2222222222222222,\"#7201a8\"],[0.3333333333333333,\"#9c179e\"],[0.4444444444444444,\"#bd3786\"],[0.5555555555555556,\"#d8576b\"],[0.6666666666666666,\"#ed7953\"],[0.7777777777777778,\"#fb9f3a\"],[0.8888888888888888,\"#fdca26\"],[1.0,\"#f0f921\"]],\"sequentialminus\":[[0.0,\"#0d0887\"],[0.1111111111111111,\"#46039f\"],[0.2222222222222222,\"#7201a8\"],[0.3333333333333333,\"#9c179e\"],[0.4444444444444444,\"#bd3786\"],[0.5555555555555556,\"#d8576b\"],[0.6666666666666666,\"#ed7953\"],[0.7777777777777778,\"#fb9f3a\"],[0.8888888888888888,\"#fdca26\"],[1.0,\"#f0f921\"]],\"diverging\":[[0,\"#8e0152\"],[0.1,\"#c51b7d\"],[0.2,\"#de77ae\"],[0.3,\"#f1b6da\"],[0.4,\"#fde0ef\"],[0.5,\"#f7f7f7\"],[0.6,\"#e6f5d0\"],[0.7,\"#b8e186\"],[0.8,\"#7fbc41\"],[0.9,\"#4d9221\"],[1,\"#276419\"]]},\"xaxis\":{\"gridcolor\":\"white\",\"linecolor\":\"white\",\"ticks\":\"\",\"title\":{\"standoff\":15},\"zerolinecolor\":\"white\",\"automargin\":true,\"zerolinewidth\":2},\"yaxis\":{\"gridcolor\":\"white\",\"linecolor\":\"white\",\"ticks\":\"\",\"title\":{\"standoff\":15},\"zerolinecolor\":\"white\",\"automargin\":true,\"zerolinewidth\":2},\"scene\":{\"xaxis\":{\"backgroundcolor\":\"#E5ECF6\",\"gridcolor\":\"white\",\"linecolor\":\"white\",\"showbackground\":true,\"ticks\":\"\",\"zerolinecolor\":\"white\",\"gridwidth\":2},\"yaxis\":{\"backgroundcolor\":\"#E5ECF6\",\"gridcolor\":\"white\",\"linecolor\":\"white\",\"showbackground\":true,\"ticks\":\"\",\"zerolinecolor\":\"white\",\"gridwidth\":2},\"zaxis\":{\"backgroundcolor\":\"#E5ECF6\",\"gridcolor\":\"white\",\"linecolor\":\"white\",\"showbackground\":true,\"ticks\":\"\",\"zerolinecolor\":\"white\",\"gridwidth\":2}},\"shapedefaults\":{\"line\":{\"color\":\"#2a3f5f\"}},\"annotationdefaults\":{\"arrowcolor\":\"#2a3f5f\",\"arrowhead\":0,\"arrowwidth\":1},\"geo\":{\"bgcolor\":\"white\",\"landcolor\":\"#E5ECF6\",\"subunitcolor\":\"white\",\"showland\":true,\"showlakes\":true,\"lakecolor\":\"white\"},\"title\":{\"x\":0.05},\"mapbox\":{\"style\":\"light\"}}},\"xaxis\":{\"anchor\":\"y\",\"domain\":[0.0,1.0],\"title\":{\"text\":\"Height\"}},\"yaxis\":{\"anchor\":\"x\",\"domain\":[0.0,1.0],\"title\":{\"text\":\"count\"}},\"legend\":{\"tracegroupgap\":0},\"title\":{\"text\":\"Histogram of Heights\"},\"barmode\":\"overlay\"},                        {\"responsive\": true}                    ).then(function(){\n",
       "                            \n",
       "var gd = document.getElementById('31d981c0-a7f8-4659-a8fe-6acbec1f3225');\n",
       "var x = new MutationObserver(function (mutations, observer) {{\n",
       "        var display = window.getComputedStyle(gd).display;\n",
       "        if (!display || display === 'none') {{\n",
       "            console.log([gd, 'removed!']);\n",
       "            Plotly.purge(gd);\n",
       "            observer.disconnect();\n",
       "        }}\n",
       "}});\n",
       "\n",
       "// Listen for the removal of the full notebook cells\n",
       "var notebookContainer = gd.closest('#notebook-container');\n",
       "if (notebookContainer) {{\n",
       "    x.observe(notebookContainer, {childList: true});\n",
       "}}\n",
       "\n",
       "// Listen for the clearing of the current output cell\n",
       "var outputEl = gd.closest('.output');\n",
       "if (outputEl) {{\n",
       "    x.observe(outputEl, {childList: true});\n",
       "}}\n",
       "\n",
       "                        })                };                });            </script>        </div>"
      ]
     },
     "metadata": {},
     "output_type": "display_data"
    }
   ],
   "source": [
    "#histogram chart\n",
    "#whole data\n",
    "px.histogram(adults, x=\"Height\", nbins=30,opacity = 0.8, barmode=\"overlay\", title=\"Histogram of Heights\")"
   ]
  },
  {
   "cell_type": "code",
   "execution_count": 29,
   "id": "2e918628-c077-46f3-957f-e84cb76b781d",
   "metadata": {},
   "outputs": [
    {
     "data": {
      "application/vnd.plotly.v1+json": {
       "config": {
        "plotlyServerURL": "https://plot.ly"
       },
       "data": [
        {
         "alignmentgroup": "True",
         "bingroup": "x",
         "hovertemplate": "Sex=Boys<br>Height=%{x}<br>count=%{y}<extra></extra>",
         "legendgroup": "Boys",
         "marker": {
          "color": "#636efa",
          "opacity": 0.5,
          "pattern": {
           "shape": ""
          }
         },
         "name": "Boys",
         "nbinsx": 30,
         "offsetgroup": "Boys",
         "orientation": "v",
         "showlegend": true,
         "type": "histogram",
         "x": [
          168.4952011,
          174.0708368,
          175.0402113,
          177.0945415,
          178.8426285,
          168.4641737,
          178.8352709,
          174.7549826,
          173.6666502,
          178.7742139,
          178.5244202,
          174.0024021,
          174.3971299,
          172.7639303,
          165.0814781,
          177.0283641,
          178.6913126,
          179.0933196,
          170.5235404,
          168.4402856,
          179.7190928,
          167.047405,
          168.1020022,
          182.4739613,
          173.1562439,
          175.7294701,
          166.3107865,
          174.1662959,
          171.8936289,
          167.3366923,
          176.2878151,
          165.3497028,
          172.1273456,
          178.7495629,
          169.0103541,
          171.8384508,
          172.8758725,
          175.660861,
          174.8348959,
          171.8528689,
          167.724913,
          171.2318603,
          178.3230318,
          174.0413739,
          168.233546,
          180.7589162,
          173.5583982,
          172.748561,
          181.1866355,
          181.8926588,
          170.7670714,
          180.1526393,
          174.6498499,
          168.5966271,
          167.3196536,
          174.5695408,
          170.6696869,
          168.1772539,
          170.6043697,
          182.7907032,
          168.8434837,
          173.9764485,
          180.5693897,
          178.6048688,
          178.3164001,
          170.4814842,
          168.3550469,
          175.9786311,
          180.2812073,
          170.3046673,
          179.2597832,
          173.8437525,
          178.6999159,
          164.3575117,
          170.6992167,
          168.1699422,
          172.1502463,
          172.229052,
          169.5905441,
          176.5873222,
          182.1015752,
          166.4952701,
          166.2576675,
          175.6229328,
          173.7936893,
          179.0393832,
          175.9835635,
          174.4246967,
          176.9742253,
          172.0628269,
          174.8389689,
          175.4969273,
          170.4552667,
          170.0907706,
          174.9625093,
          171.6648048,
          162.7805915,
          181.1711171,
          178.9571414,
          167.9243988,
          165.4756122,
          176.3925096,
          180.7233147,
          178.4613975,
          176.4252473,
          165.1618753,
          165.6750686,
          169.2035,
          167.8666326,
          175.0153974,
          174.3767502,
          165.2644168,
          165.5443523,
          173.0061028,
          170.2864395,
          169.5719143,
          175.5891559,
          170.6720031,
          183.3021555,
          176.3518212,
          164.2967622,
          166.6975031,
          169.7457063,
          169.5697914,
          164.3637755,
          183.7823942,
          177.7186704,
          169.9128092,
          170.2606015,
          171.5504656,
          177.1925778,
          174.6881165,
          180.4752288,
          175.0450534,
          171.6956401,
          167.3251134,
          170.6244315,
          170.1901695,
          163.097954,
          173.8061773,
          166.7506016,
          165.2326888,
          180.6864059,
          174.3708516,
          179.48215,
          173.2724105,
          177.8235057,
          176.6489555,
          166.0231738,
          173.7116523,
          176.4339349,
          177.4938788,
          174.4168439,
          170.3699634,
          170.6654708,
          176.1772132,
          180.7387125,
          175.8975925,
          166.4285078,
          173.4965252,
          181.0154868,
          180.9774125,
          163.0694439,
          171.2173809,
          169.6258335,
          175.5218658,
          176.1060863,
          168.0746406,
          172.0735944,
          174.5144365,
          169.4058542,
          180.4567319,
          178.7319158,
          171.6420138,
          173.5286917,
          168.431278,
          166.9789255,
          171.611156,
          160.1305426,
          170.1359032,
          176.0558521,
          175.113118,
          176.0332708,
          176.8533816,
          176.3558226,
          174.3725659,
          171.2982381,
          168.7360393,
          180.9759732,
          174.0772556,
          178.2080213,
          176.9373331,
          174.3233096,
          170.9421714,
          168.2940483,
          173.5337221,
          168.8948369,
          164.4164471,
          167.6155929,
          170.6857544
         ],
         "xaxis": "x",
         "yaxis": "y"
        },
        {
         "alignmentgroup": "True",
         "bingroup": "x",
         "hovertemplate": "Sex=Girls<br>Height=%{x}<br>count=%{y}<extra></extra>",
         "legendgroup": "Girls",
         "marker": {
          "color": "#EF553B",
          "opacity": 0.5,
          "pattern": {
           "shape": ""
          }
         },
         "name": "Girls",
         "nbinsx": 30,
         "offsetgroup": "Girls",
         "orientation": "v",
         "showlegend": true,
         "type": "histogram",
         "x": [
          156.1131365,
          162.228577,
          162.3471758,
          167.5515216,
          165.5339424,
          158.0968993,
          165.7236873,
          161.2204189,
          159.8502379,
          164.6657115,
          166.9267081,
          161.3748814,
          163.4605059,
          158.2908386,
          152.3776067,
          165.6637541,
          166.9286256,
          163.4017271,
          158.1200655,
          158.4004184,
          166.1100662,
          155.1525549,
          155.5752266,
          167.4703934,
          162.0619929,
          162.4109716,
          154.8975092,
          164.5763997,
          161.3260572,
          155.0750944,
          163.0984081,
          154.749508,
          160.4111854,
          164.7299393,
          159.6509569,
          162.124187,
          159.4177472,
          163.464143,
          160.6180502,
          157.9637321,
          156.5389135,
          158.7799374,
          167.3085696,
          160.357674,
          158.6523799,
          166.8030687,
          160.1349333,
          160.5529092,
          167.9634761,
          169.4706062,
          159.8239953,
          166.8884613,
          161.2094022,
          156.3007255,
          155.2489338,
          160.8845002,
          156.3895702,
          158.049563,
          157.5803008,
          168.6627596,
          157.1513304,
          164.2814691,
          166.4751191,
          164.4886274,
          166.518656,
          160.0451908,
          161.7281894,
          163.2390056,
          166.177267,
          158.8551002,
          165.8130758,
          161.3955504,
          165.9886854,
          150.9139679,
          158.7521597,
          158.7193539,
          159.5686675,
          160.5749918,
          155.1831397,
          162.5462546,
          168.9134842,
          155.1781714,
          154.3551613,
          161.1837018,
          158.748746,
          164.4968527,
          162.2225456,
          161.810158,
          164.3192602,
          158.5037434,
          159.4624081,
          161.7446106,
          159.4338103,
          161.0399239,
          160.1019556,
          160.2019309,
          153.0990839,
          168.8066284,
          163.6704906,
          156.7207687,
          156.5414075,
          162.5616604,
          167.6298923,
          165.0690213,
          160.8842672,
          153.0638056,
          156.1409983,
          157.0637126,
          154.2846913,
          161.9892021,
          162.9504739,
          154.757255,
          160.0617358,
          158.9428354,
          157.9019214,
          159.6585322,
          162.9612374,
          159.8935082,
          169.9608833,
          161.1808557,
          155.4209895,
          154.7139858,
          160.2561216,
          157.8220749,
          152.3889602,
          170.3612107,
          164.6600412,
          155.621106,
          159.8149349,
          158.137273,
          167.0322654,
          161.2175424,
          166.448307,
          161.2777263,
          158.4350097,
          154.7706078,
          159.517622,
          158.1864561,
          156.8944981,
          159.762217,
          154.3871646,
          154.144211,
          165.7761352,
          161.2271328,
          163.0573217,
          160.7157302,
          164.7308377,
          164.5173719,
          156.7193229,
          162.7824413,
          165.5245375,
          165.3026536,
          163.8159608,
          159.8104627,
          158.8377261,
          163.9240914,
          168.285067,
          162.4655675,
          157.335599,
          161.3047179,
          167.1227997,
          167.1975653,
          156.7888442,
          159.8572748,
          158.5787176,
          163.22541,
          162.027874,
          155.8757964,
          160.3617147,
          162.2638615,
          158.9213854,
          166.6739103,
          164.3299732,
          159.3794885,
          160.6953329,
          158.1217805,
          156.8863466,
          159.417654,
          152.7123349,
          159.1294047,
          166.0753995,
          166.0793945,
          163.3798399,
          161.6854548,
          161.80204,
          162.8271298,
          163.5700611,
          158.5279616,
          166.6226773,
          160.5303006,
          163.9391448,
          163.3118826,
          161.5584634,
          160.2883173,
          160.4836304,
          160.0370075,
          158.425687,
          154.7560774,
          157.3152177,
          159.8490637
         ],
         "xaxis": "x",
         "yaxis": "y"
        }
       ],
       "layout": {
        "barmode": "overlay",
        "legend": {
         "title": {
          "text": "Sex"
         },
         "tracegroupgap": 0
        },
        "template": {
         "data": {
          "bar": [
           {
            "error_x": {
             "color": "#2a3f5f"
            },
            "error_y": {
             "color": "#2a3f5f"
            },
            "marker": {
             "line": {
              "color": "#E5ECF6",
              "width": 0.5
             },
             "pattern": {
              "fillmode": "overlay",
              "size": 10,
              "solidity": 0.2
             }
            },
            "type": "bar"
           }
          ],
          "barpolar": [
           {
            "marker": {
             "line": {
              "color": "#E5ECF6",
              "width": 0.5
             },
             "pattern": {
              "fillmode": "overlay",
              "size": 10,
              "solidity": 0.2
             }
            },
            "type": "barpolar"
           }
          ],
          "carpet": [
           {
            "aaxis": {
             "endlinecolor": "#2a3f5f",
             "gridcolor": "white",
             "linecolor": "white",
             "minorgridcolor": "white",
             "startlinecolor": "#2a3f5f"
            },
            "baxis": {
             "endlinecolor": "#2a3f5f",
             "gridcolor": "white",
             "linecolor": "white",
             "minorgridcolor": "white",
             "startlinecolor": "#2a3f5f"
            },
            "type": "carpet"
           }
          ],
          "choropleth": [
           {
            "colorbar": {
             "outlinewidth": 0,
             "ticks": ""
            },
            "type": "choropleth"
           }
          ],
          "contour": [
           {
            "colorbar": {
             "outlinewidth": 0,
             "ticks": ""
            },
            "colorscale": [
             [
              0,
              "#0d0887"
             ],
             [
              0.1111111111111111,
              "#46039f"
             ],
             [
              0.2222222222222222,
              "#7201a8"
             ],
             [
              0.3333333333333333,
              "#9c179e"
             ],
             [
              0.4444444444444444,
              "#bd3786"
             ],
             [
              0.5555555555555556,
              "#d8576b"
             ],
             [
              0.6666666666666666,
              "#ed7953"
             ],
             [
              0.7777777777777778,
              "#fb9f3a"
             ],
             [
              0.8888888888888888,
              "#fdca26"
             ],
             [
              1,
              "#f0f921"
             ]
            ],
            "type": "contour"
           }
          ],
          "contourcarpet": [
           {
            "colorbar": {
             "outlinewidth": 0,
             "ticks": ""
            },
            "type": "contourcarpet"
           }
          ],
          "heatmap": [
           {
            "colorbar": {
             "outlinewidth": 0,
             "ticks": ""
            },
            "colorscale": [
             [
              0,
              "#0d0887"
             ],
             [
              0.1111111111111111,
              "#46039f"
             ],
             [
              0.2222222222222222,
              "#7201a8"
             ],
             [
              0.3333333333333333,
              "#9c179e"
             ],
             [
              0.4444444444444444,
              "#bd3786"
             ],
             [
              0.5555555555555556,
              "#d8576b"
             ],
             [
              0.6666666666666666,
              "#ed7953"
             ],
             [
              0.7777777777777778,
              "#fb9f3a"
             ],
             [
              0.8888888888888888,
              "#fdca26"
             ],
             [
              1,
              "#f0f921"
             ]
            ],
            "type": "heatmap"
           }
          ],
          "heatmapgl": [
           {
            "colorbar": {
             "outlinewidth": 0,
             "ticks": ""
            },
            "colorscale": [
             [
              0,
              "#0d0887"
             ],
             [
              0.1111111111111111,
              "#46039f"
             ],
             [
              0.2222222222222222,
              "#7201a8"
             ],
             [
              0.3333333333333333,
              "#9c179e"
             ],
             [
              0.4444444444444444,
              "#bd3786"
             ],
             [
              0.5555555555555556,
              "#d8576b"
             ],
             [
              0.6666666666666666,
              "#ed7953"
             ],
             [
              0.7777777777777778,
              "#fb9f3a"
             ],
             [
              0.8888888888888888,
              "#fdca26"
             ],
             [
              1,
              "#f0f921"
             ]
            ],
            "type": "heatmapgl"
           }
          ],
          "histogram": [
           {
            "marker": {
             "pattern": {
              "fillmode": "overlay",
              "size": 10,
              "solidity": 0.2
             }
            },
            "type": "histogram"
           }
          ],
          "histogram2d": [
           {
            "colorbar": {
             "outlinewidth": 0,
             "ticks": ""
            },
            "colorscale": [
             [
              0,
              "#0d0887"
             ],
             [
              0.1111111111111111,
              "#46039f"
             ],
             [
              0.2222222222222222,
              "#7201a8"
             ],
             [
              0.3333333333333333,
              "#9c179e"
             ],
             [
              0.4444444444444444,
              "#bd3786"
             ],
             [
              0.5555555555555556,
              "#d8576b"
             ],
             [
              0.6666666666666666,
              "#ed7953"
             ],
             [
              0.7777777777777778,
              "#fb9f3a"
             ],
             [
              0.8888888888888888,
              "#fdca26"
             ],
             [
              1,
              "#f0f921"
             ]
            ],
            "type": "histogram2d"
           }
          ],
          "histogram2dcontour": [
           {
            "colorbar": {
             "outlinewidth": 0,
             "ticks": ""
            },
            "colorscale": [
             [
              0,
              "#0d0887"
             ],
             [
              0.1111111111111111,
              "#46039f"
             ],
             [
              0.2222222222222222,
              "#7201a8"
             ],
             [
              0.3333333333333333,
              "#9c179e"
             ],
             [
              0.4444444444444444,
              "#bd3786"
             ],
             [
              0.5555555555555556,
              "#d8576b"
             ],
             [
              0.6666666666666666,
              "#ed7953"
             ],
             [
              0.7777777777777778,
              "#fb9f3a"
             ],
             [
              0.8888888888888888,
              "#fdca26"
             ],
             [
              1,
              "#f0f921"
             ]
            ],
            "type": "histogram2dcontour"
           }
          ],
          "mesh3d": [
           {
            "colorbar": {
             "outlinewidth": 0,
             "ticks": ""
            },
            "type": "mesh3d"
           }
          ],
          "parcoords": [
           {
            "line": {
             "colorbar": {
              "outlinewidth": 0,
              "ticks": ""
             }
            },
            "type": "parcoords"
           }
          ],
          "pie": [
           {
            "automargin": true,
            "type": "pie"
           }
          ],
          "scatter": [
           {
            "fillpattern": {
             "fillmode": "overlay",
             "size": 10,
             "solidity": 0.2
            },
            "type": "scatter"
           }
          ],
          "scatter3d": [
           {
            "line": {
             "colorbar": {
              "outlinewidth": 0,
              "ticks": ""
             }
            },
            "marker": {
             "colorbar": {
              "outlinewidth": 0,
              "ticks": ""
             }
            },
            "type": "scatter3d"
           }
          ],
          "scattercarpet": [
           {
            "marker": {
             "colorbar": {
              "outlinewidth": 0,
              "ticks": ""
             }
            },
            "type": "scattercarpet"
           }
          ],
          "scattergeo": [
           {
            "marker": {
             "colorbar": {
              "outlinewidth": 0,
              "ticks": ""
             }
            },
            "type": "scattergeo"
           }
          ],
          "scattergl": [
           {
            "marker": {
             "colorbar": {
              "outlinewidth": 0,
              "ticks": ""
             }
            },
            "type": "scattergl"
           }
          ],
          "scattermapbox": [
           {
            "marker": {
             "colorbar": {
              "outlinewidth": 0,
              "ticks": ""
             }
            },
            "type": "scattermapbox"
           }
          ],
          "scatterpolar": [
           {
            "marker": {
             "colorbar": {
              "outlinewidth": 0,
              "ticks": ""
             }
            },
            "type": "scatterpolar"
           }
          ],
          "scatterpolargl": [
           {
            "marker": {
             "colorbar": {
              "outlinewidth": 0,
              "ticks": ""
             }
            },
            "type": "scatterpolargl"
           }
          ],
          "scatterternary": [
           {
            "marker": {
             "colorbar": {
              "outlinewidth": 0,
              "ticks": ""
             }
            },
            "type": "scatterternary"
           }
          ],
          "surface": [
           {
            "colorbar": {
             "outlinewidth": 0,
             "ticks": ""
            },
            "colorscale": [
             [
              0,
              "#0d0887"
             ],
             [
              0.1111111111111111,
              "#46039f"
             ],
             [
              0.2222222222222222,
              "#7201a8"
             ],
             [
              0.3333333333333333,
              "#9c179e"
             ],
             [
              0.4444444444444444,
              "#bd3786"
             ],
             [
              0.5555555555555556,
              "#d8576b"
             ],
             [
              0.6666666666666666,
              "#ed7953"
             ],
             [
              0.7777777777777778,
              "#fb9f3a"
             ],
             [
              0.8888888888888888,
              "#fdca26"
             ],
             [
              1,
              "#f0f921"
             ]
            ],
            "type": "surface"
           }
          ],
          "table": [
           {
            "cells": {
             "fill": {
              "color": "#EBF0F8"
             },
             "line": {
              "color": "white"
             }
            },
            "header": {
             "fill": {
              "color": "#C8D4E3"
             },
             "line": {
              "color": "white"
             }
            },
            "type": "table"
           }
          ]
         },
         "layout": {
          "annotationdefaults": {
           "arrowcolor": "#2a3f5f",
           "arrowhead": 0,
           "arrowwidth": 1
          },
          "autotypenumbers": "strict",
          "coloraxis": {
           "colorbar": {
            "outlinewidth": 0,
            "ticks": ""
           }
          },
          "colorscale": {
           "diverging": [
            [
             0,
             "#8e0152"
            ],
            [
             0.1,
             "#c51b7d"
            ],
            [
             0.2,
             "#de77ae"
            ],
            [
             0.3,
             "#f1b6da"
            ],
            [
             0.4,
             "#fde0ef"
            ],
            [
             0.5,
             "#f7f7f7"
            ],
            [
             0.6,
             "#e6f5d0"
            ],
            [
             0.7,
             "#b8e186"
            ],
            [
             0.8,
             "#7fbc41"
            ],
            [
             0.9,
             "#4d9221"
            ],
            [
             1,
             "#276419"
            ]
           ],
           "sequential": [
            [
             0,
             "#0d0887"
            ],
            [
             0.1111111111111111,
             "#46039f"
            ],
            [
             0.2222222222222222,
             "#7201a8"
            ],
            [
             0.3333333333333333,
             "#9c179e"
            ],
            [
             0.4444444444444444,
             "#bd3786"
            ],
            [
             0.5555555555555556,
             "#d8576b"
            ],
            [
             0.6666666666666666,
             "#ed7953"
            ],
            [
             0.7777777777777778,
             "#fb9f3a"
            ],
            [
             0.8888888888888888,
             "#fdca26"
            ],
            [
             1,
             "#f0f921"
            ]
           ],
           "sequentialminus": [
            [
             0,
             "#0d0887"
            ],
            [
             0.1111111111111111,
             "#46039f"
            ],
            [
             0.2222222222222222,
             "#7201a8"
            ],
            [
             0.3333333333333333,
             "#9c179e"
            ],
            [
             0.4444444444444444,
             "#bd3786"
            ],
            [
             0.5555555555555556,
             "#d8576b"
            ],
            [
             0.6666666666666666,
             "#ed7953"
            ],
            [
             0.7777777777777778,
             "#fb9f3a"
            ],
            [
             0.8888888888888888,
             "#fdca26"
            ],
            [
             1,
             "#f0f921"
            ]
           ]
          },
          "colorway": [
           "#636efa",
           "#EF553B",
           "#00cc96",
           "#ab63fa",
           "#FFA15A",
           "#19d3f3",
           "#FF6692",
           "#B6E880",
           "#FF97FF",
           "#FECB52"
          ],
          "font": {
           "color": "#2a3f5f"
          },
          "geo": {
           "bgcolor": "white",
           "lakecolor": "white",
           "landcolor": "#E5ECF6",
           "showlakes": true,
           "showland": true,
           "subunitcolor": "white"
          },
          "hoverlabel": {
           "align": "left"
          },
          "hovermode": "closest",
          "mapbox": {
           "style": "light"
          },
          "paper_bgcolor": "white",
          "plot_bgcolor": "#E5ECF6",
          "polar": {
           "angularaxis": {
            "gridcolor": "white",
            "linecolor": "white",
            "ticks": ""
           },
           "bgcolor": "#E5ECF6",
           "radialaxis": {
            "gridcolor": "white",
            "linecolor": "white",
            "ticks": ""
           }
          },
          "scene": {
           "xaxis": {
            "backgroundcolor": "#E5ECF6",
            "gridcolor": "white",
            "gridwidth": 2,
            "linecolor": "white",
            "showbackground": true,
            "ticks": "",
            "zerolinecolor": "white"
           },
           "yaxis": {
            "backgroundcolor": "#E5ECF6",
            "gridcolor": "white",
            "gridwidth": 2,
            "linecolor": "white",
            "showbackground": true,
            "ticks": "",
            "zerolinecolor": "white"
           },
           "zaxis": {
            "backgroundcolor": "#E5ECF6",
            "gridcolor": "white",
            "gridwidth": 2,
            "linecolor": "white",
            "showbackground": true,
            "ticks": "",
            "zerolinecolor": "white"
           }
          },
          "shapedefaults": {
           "line": {
            "color": "#2a3f5f"
           }
          },
          "ternary": {
           "aaxis": {
            "gridcolor": "white",
            "linecolor": "white",
            "ticks": ""
           },
           "baxis": {
            "gridcolor": "white",
            "linecolor": "white",
            "ticks": ""
           },
           "bgcolor": "#E5ECF6",
           "caxis": {
            "gridcolor": "white",
            "linecolor": "white",
            "ticks": ""
           }
          },
          "title": {
           "x": 0.05
          },
          "xaxis": {
           "automargin": true,
           "gridcolor": "white",
           "linecolor": "white",
           "ticks": "",
           "title": {
            "standoff": 15
           },
           "zerolinecolor": "white",
           "zerolinewidth": 2
          },
          "yaxis": {
           "automargin": true,
           "gridcolor": "white",
           "linecolor": "white",
           "ticks": "",
           "title": {
            "standoff": 15
           },
           "zerolinecolor": "white",
           "zerolinewidth": 2
          }
         }
        },
        "title": {
         "text": "Histogram of Heights by Sex"
        },
        "xaxis": {
         "anchor": "y",
         "domain": [
          0,
          1
         ],
         "title": {
          "text": "Height"
         }
        },
        "yaxis": {
         "anchor": "x",
         "domain": [
          0,
          1
         ],
         "title": {
          "text": "count"
         }
        }
       }
      },
      "image/png": "[encoded data removed]",
      "text/html": [
       "<div>                            <div id=\"4e88a009-aa25-444b-b11e-b0c541a07d5c\" class=\"plotly-graph-div\" style=\"height:525px; width:100%;\"></div>            <script type=\"text/javascript\">                require([\"plotly\"], function(Plotly) {                    window.PLOTLYENV=window.PLOTLYENV || {};                                    if (document.getElementById(\"4e88a009-aa25-444b-b11e-b0c541a07d5c\")) {                    Plotly.newPlot(                        \"4e88a009-aa25-444b-b11e-b0c541a07d5c\",                        [{\"alignmentgroup\":\"True\",\"bingroup\":\"x\",\"hovertemplate\":\"Sex=Boys\\u003cbr\\u003eHeight=%{x}\\u003cbr\\u003ecount=%{y}\\u003cextra\\u003e\\u003c\\u002fextra\\u003e\",\"legendgroup\":\"Boys\",\"marker\":{\"color\":\"#636efa\",\"opacity\":0.5,\"pattern\":{\"shape\":\"\"}},\"name\":\"Boys\",\"nbinsx\":30,\"offsetgroup\":\"Boys\",\"orientation\":\"v\",\"showlegend\":true,\"x\":[168.4952011,174.0708368,175.0402113,177.0945415,178.8426285,168.4641737,178.8352709,174.7549826,173.6666502,178.7742139,178.5244202,174.0024021,174.3971299,172.7639303,165.0814781,177.0283641,178.6913126,179.0933196,170.5235404,168.4402856,179.7190928,167.047405,168.1020022,182.4739613,173.1562439,175.7294701,166.3107865,174.1662959,171.8936289,167.3366923,176.2878151,165.3497028,172.1273456,178.7495629,169.0103541,171.8384508,172.8758725,175.660861,174.8348959,171.8528689,167.724913,171.2318603,178.3230318,174.0413739,168.233546,180.7589162,173.5583982,172.748561,181.1866355,181.8926588,170.7670714,180.1526393,174.6498499,168.5966271,167.3196536,174.5695408,170.6696869,168.1772539,170.6043697,182.7907032,168.8434837,173.9764485,180.5693897,178.6048688,178.3164001,170.4814842,168.3550469,175.9786311,180.2812073,170.3046673,179.2597832,173.8437525,178.6999159,164.3575117,170.6992167,168.1699422,172.1502463,172.229052,169.5905441,176.5873222,182.1015752,166.4952701,166.2576675,175.6229328,173.7936893,179.0393832,175.9835635,174.4246967,176.9742253,172.0628269,174.8389689,175.4969273,170.4552667,170.0907706,174.9625093,171.6648048,162.7805915,181.1711171,178.9571414,167.9243988,165.4756122,176.3925096,180.7233147,178.4613975,176.4252473,165.1618753,165.6750686,169.2035,167.8666326,175.0153974,174.3767502,165.2644168,165.5443523,173.0061028,170.2864395,169.5719143,175.5891559,170.6720031,183.3021555,176.3518212,164.2967622,166.6975031,169.7457063,169.5697914,164.3637755,183.7823942,177.7186704,169.9128092,170.2606015,171.5504656,177.1925778,174.6881165,180.4752288,175.0450534,171.6956401,167.3251134,170.6244315,170.1901695,163.097954,173.8061773,166.7506016,165.2326888,180.6864059,174.3708516,179.48215,173.2724105,177.8235057,176.6489555,166.0231738,173.7116523,176.4339349,177.4938788,174.4168439,170.3699634,170.6654708,176.1772132,180.7387125,175.8975925,166.4285078,173.4965252,181.0154868,180.9774125,163.0694439,171.2173809,169.6258335,175.5218658,176.1060863,168.0746406,172.0735944,174.5144365,169.4058542,180.4567319,178.7319158,171.6420138,173.5286917,168.431278,166.9789255,171.611156,160.1305426,170.1359032,176.0558521,175.113118,176.0332708,176.8533816,176.3558226,174.3725659,171.2982381,168.7360393,180.9759732,174.0772556,178.2080213,176.9373331,174.3233096,170.9421714,168.2940483,173.5337221,168.8948369,164.4164471,167.6155929,170.6857544],\"xaxis\":\"x\",\"yaxis\":\"y\",\"type\":\"histogram\"},{\"alignmentgroup\":\"True\",\"bingroup\":\"x\",\"hovertemplate\":\"Sex=Girls\\u003cbr\\u003eHeight=%{x}\\u003cbr\\u003ecount=%{y}\\u003cextra\\u003e\\u003c\\u002fextra\\u003e\",\"legendgroup\":\"Girls\",\"marker\":{\"color\":\"#EF553B\",\"opacity\":0.5,\"pattern\":{\"shape\":\"\"}},\"name\":\"Girls\",\"nbinsx\":30,\"offsetgroup\":\"Girls\",\"orientation\":\"v\",\"showlegend\":true,\"x\":[156.1131365,162.228577,162.3471758,167.5515216,165.5339424,158.0968993,165.7236873,161.2204189,159.8502379,164.6657115,166.9267081,161.3748814,163.4605059,158.2908386,152.3776067,165.6637541,166.9286256,163.4017271,158.1200655,158.4004184,166.1100662,155.1525549,155.5752266,167.4703934,162.0619929,162.4109716,154.8975092,164.5763997,161.3260572,155.0750944,163.0984081,154.749508,160.4111854,164.7299393,159.6509569,162.124187,159.4177472,163.464143,160.6180502,157.9637321,156.5389135,158.7799374,167.3085696,160.357674,158.6523799,166.8030687,160.1349333,160.5529092,167.9634761,169.4706062,159.8239953,166.8884613,161.2094022,156.3007255,155.2489338,160.8845002,156.3895702,158.049563,157.5803008,168.6627596,157.1513304,164.2814691,166.4751191,164.4886274,166.518656,160.0451908,161.7281894,163.2390056,166.177267,158.8551002,165.8130758,161.3955504,165.9886854,150.9139679,158.7521597,158.7193539,159.5686675,160.5749918,155.1831397,162.5462546,168.9134842,155.1781714,154.3551613,161.1837018,158.748746,164.4968527,162.2225456,161.810158,164.3192602,158.5037434,159.4624081,161.7446106,159.4338103,161.0399239,160.1019556,160.2019309,153.0990839,168.8066284,163.6704906,156.7207687,156.5414075,162.5616604,167.6298923,165.0690213,160.8842672,153.0638056,156.1409983,157.0637126,154.2846913,161.9892021,162.9504739,154.757255,160.0617358,158.9428354,157.9019214,159.6585322,162.9612374,159.8935082,169.9608833,161.1808557,155.4209895,154.7139858,160.2561216,157.8220749,152.3889602,170.3612107,164.6600412,155.621106,159.8149349,158.137273,167.0322654,161.2175424,166.448307,161.2777263,158.4350097,154.7706078,159.517622,158.1864561,156.8944981,159.762217,154.3871646,154.144211,165.7761352,161.2271328,163.0573217,160.7157302,164.7308377,164.5173719,156.7193229,162.7824413,165.5245375,165.3026536,163.8159608,159.8104627,158.8377261,163.9240914,168.285067,162.4655675,157.335599,161.3047179,167.1227997,167.1975653,156.7888442,159.8572748,158.5787176,163.22541,162.027874,155.8757964,160.3617147,162.2638615,158.9213854,166.6739103,164.3299732,159.3794885,160.6953329,158.1217805,156.8863466,159.417654,152.7123349,159.1294047,166.0753995,166.0793945,163.3798399,161.6854548,161.80204,162.8271298,163.5700611,158.5279616,166.6226773,160.5303006,163.9391448,163.3118826,161.5584634,160.2883173,160.4836304,160.0370075,158.425687,154.7560774,157.3152177,159.8490637],\"xaxis\":\"x\",\"yaxis\":\"y\",\"type\":\"histogram\"}],                        {\"template\":{\"data\":{\"histogram2dcontour\":[{\"type\":\"histogram2dcontour\",\"colorbar\":{\"outlinewidth\":0,\"ticks\":\"\"},\"colorscale\":[[0.0,\"#0d0887\"],[0.1111111111111111,\"#46039f\"],[0.2222222222222222,\"#7201a8\"],[0.3333333333333333,\"#9c179e\"],[0.4444444444444444,\"#bd3786\"],[0.5555555555555556,\"#d8576b\"],[0.6666666666666666,\"#ed7953\"],[0.7777777777777778,\"#fb9f3a\"],[0.8888888888888888,\"#fdca26\"],[1.0,\"#f0f921\"]]}],\"choropleth\":[{\"type\":\"choropleth\",\"colorbar\":{\"outlinewidth\":0,\"ticks\":\"\"}}],\"histogram2d\":[{\"type\":\"histogram2d\",\"colorbar\":{\"outlinewidth\":0,\"ticks\":\"\"},\"colorscale\":[[0.0,\"#0d0887\"],[0.1111111111111111,\"#46039f\"],[0.2222222222222222,\"#7201a8\"],[0.3333333333333333,\"#9c179e\"],[0.4444444444444444,\"#bd3786\"],[0.5555555555555556,\"#d8576b\"],[0.6666666666666666,\"#ed7953\"],[0.7777777777777778,\"#fb9f3a\"],[0.8888888888888888,\"#fdca26\"],[1.0,\"#f0f921\"]]}],\"heatmap\":[{\"type\":\"heatmap\",\"colorbar\":{\"outlinewidth\":0,\"ticks\":\"\"},\"colorscale\":[[0.0,\"#0d0887\"],[0.1111111111111111,\"#46039f\"],[0.2222222222222222,\"#7201a8\"],[0.3333333333333333,\"#9c179e\"],[0.4444444444444444,\"#bd3786\"],[0.5555555555555556,\"#d8576b\"],[0.6666666666666666,\"#ed7953\"],[0.7777777777777778,\"#fb9f3a\"],[0.8888888888888888,\"#fdca26\"],[1.0,\"#f0f921\"]]}],\"heatmapgl\":[{\"type\":\"heatmapgl\",\"colorbar\":{\"outlinewidth\":0,\"ticks\":\"\"},\"colorscale\":[[0.0,\"#0d0887\"],[0.1111111111111111,\"#46039f\"],[0.2222222222222222,\"#7201a8\"],[0.3333333333333333,\"#9c179e\"],[0.4444444444444444,\"#bd3786\"],[0.5555555555555556,\"#d8576b\"],[0.6666666666666666,\"#ed7953\"],[0.7777777777777778,\"#fb9f3a\"],[0.8888888888888888,\"#fdca26\"],[1.0,\"#f0f921\"]]}],\"contourcarpet\":[{\"type\":\"contourcarpet\",\"colorbar\":{\"outlinewidth\":0,\"ticks\":\"\"}}],\"contour\":[{\"type\":\"contour\",\"colorbar\":{\"outlinewidth\":0,\"ticks\":\"\"},\"colorscale\":[[0.0,\"#0d0887\"],[0.1111111111111111,\"#46039f\"],[0.2222222222222222,\"#7201a8\"],[0.3333333333333333,\"#9c179e\"],[0.4444444444444444,\"#bd3786\"],[0.5555555555555556,\"#d8576b\"],[0.6666666666666666,\"#ed7953\"],[0.7777777777777778,\"#fb9f3a\"],[0.8888888888888888,\"#fdca26\"],[1.0,\"#f0f921\"]]}],\"surface\":[{\"type\":\"surface\",\"colorbar\":{\"outlinewidth\":0,\"ticks\":\"\"},\"colorscale\":[[0.0,\"#0d0887\"],[0.1111111111111111,\"#46039f\"],[0.2222222222222222,\"#7201a8\"],[0.3333333333333333,\"#9c179e\"],[0.4444444444444444,\"#bd3786\"],[0.5555555555555556,\"#d8576b\"],[0.6666666666666666,\"#ed7953\"],[0.7777777777777778,\"#fb9f3a\"],[0.8888888888888888,\"#fdca26\"],[1.0,\"#f0f921\"]]}],\"mesh3d\":[{\"type\":\"mesh3d\",\"colorbar\":{\"outlinewidth\":0,\"ticks\":\"\"}}],\"scatter\":[{\"fillpattern\":{\"fillmode\":\"overlay\",\"size\":10,\"solidity\":0.2},\"type\":\"scatter\"}],\"parcoords\":[{\"type\":\"parcoords\",\"line\":{\"colorbar\":{\"outlinewidth\":0,\"ticks\":\"\"}}}],\"scatterpolargl\":[{\"type\":\"scatterpolargl\",\"marker\":{\"colorbar\":{\"outlinewidth\":0,\"ticks\":\"\"}}}],\"bar\":[{\"error_x\":{\"color\":\"#2a3f5f\"},\"error_y\":{\"color\":\"#2a3f5f\"},\"marker\":{\"line\":{\"color\":\"#E5ECF6\",\"width\":0.5},\"pattern\":{\"fillmode\":\"overlay\",\"size\":10,\"solidity\":0.2}},\"type\":\"bar\"}],\"scattergeo\":[{\"type\":\"scattergeo\",\"marker\":{\"colorbar\":{\"outlinewidth\":0,\"ticks\":\"\"}}}],\"scatterpolar\":[{\"type\":\"scatterpolar\",\"marker\":{\"colorbar\":{\"outlinewidth\":0,\"ticks\":\"\"}}}],\"histogram\":[{\"marker\":{\"pattern\":{\"fillmode\":\"overlay\",\"size\":10,\"solidity\":0.2}},\"type\":\"histogram\"}],\"scattergl\":[{\"type\":\"scattergl\",\"marker\":{\"colorbar\":{\"outlinewidth\":0,\"ticks\":\"\"}}}],\"scatter3d\":[{\"type\":\"scatter3d\",\"line\":{\"colorbar\":{\"outlinewidth\":0,\"ticks\":\"\"}},\"marker\":{\"colorbar\":{\"outlinewidth\":0,\"ticks\":\"\"}}}],\"scattermapbox\":[{\"type\":\"scattermapbox\",\"marker\":{\"colorbar\":{\"outlinewidth\":0,\"ticks\":\"\"}}}],\"scatterternary\":[{\"type\":\"scatterternary\",\"marker\":{\"colorbar\":{\"outlinewidth\":0,\"ticks\":\"\"}}}],\"scattercarpet\":[{\"type\":\"scattercarpet\",\"marker\":{\"colorbar\":{\"outlinewidth\":0,\"ticks\":\"\"}}}],\"carpet\":[{\"aaxis\":{\"endlinecolor\":\"#2a3f5f\",\"gridcolor\":\"white\",\"linecolor\":\"white\",\"minorgridcolor\":\"white\",\"startlinecolor\":\"#2a3f5f\"},\"baxis\":{\"endlinecolor\":\"#2a3f5f\",\"gridcolor\":\"white\",\"linecolor\":\"white\",\"minorgridcolor\":\"white\",\"startlinecolor\":\"#2a3f5f\"},\"type\":\"carpet\"}],\"table\":[{\"cells\":{\"fill\":{\"color\":\"#EBF0F8\"},\"line\":{\"color\":\"white\"}},\"header\":{\"fill\":{\"color\":\"#C8D4E3\"},\"line\":{\"color\":\"white\"}},\"type\":\"table\"}],\"barpolar\":[{\"marker\":{\"line\":{\"color\":\"#E5ECF6\",\"width\":0.5},\"pattern\":{\"fillmode\":\"overlay\",\"size\":10,\"solidity\":0.2}},\"type\":\"barpolar\"}],\"pie\":[{\"automargin\":true,\"type\":\"pie\"}]},\"layout\":{\"autotypenumbers\":\"strict\",\"colorway\":[\"#636efa\",\"#EF553B\",\"#00cc96\",\"#ab63fa\",\"#FFA15A\",\"#19d3f3\",\"#FF6692\",\"#B6E880\",\"#FF97FF\",\"#FECB52\"],\"font\":{\"color\":\"#2a3f5f\"},\"hovermode\":\"closest\",\"hoverlabel\":{\"align\":\"left\"},\"paper_bgcolor\":\"white\",\"plot_bgcolor\":\"#E5ECF6\",\"polar\":{\"bgcolor\":\"#E5ECF6\",\"angularaxis\":{\"gridcolor\":\"white\",\"linecolor\":\"white\",\"ticks\":\"\"},\"radialaxis\":{\"gridcolor\":\"white\",\"linecolor\":\"white\",\"ticks\":\"\"}},\"ternary\":{\"bgcolor\":\"#E5ECF6\",\"aaxis\":{\"gridcolor\":\"white\",\"linecolor\":\"white\",\"ticks\":\"\"},\"baxis\":{\"gridcolor\":\"white\",\"linecolor\":\"white\",\"ticks\":\"\"},\"caxis\":{\"gridcolor\":\"white\",\"linecolor\":\"white\",\"ticks\":\"\"}},\"coloraxis\":{\"colorbar\":{\"outlinewidth\":0,\"ticks\":\"\"}},\"colorscale\":{\"sequential\":[[0.0,\"#0d0887\"],[0.1111111111111111,\"#46039f\"],[0.2222222222222222,\"#7201a8\"],[0.3333333333333333,\"#9c179e\"],[0.4444444444444444,\"#bd3786\"],[0.5555555555555556,\"#d8576b\"],[0.6666666666666666,\"#ed7953\"],[0.7777777777777778,\"#fb9f3a\"],[0.8888888888888888,\"#fdca26\"],[1.0,\"#f0f921\"]],\"sequentialminus\":[[0.0,\"#0d0887\"],[0.1111111111111111,\"#46039f\"],[0.2222222222222222,\"#7201a8\"],[0.3333333333333333,\"#9c179e\"],[0.4444444444444444,\"#bd3786\"],[0.5555555555555556,\"#d8576b\"],[0.6666666666666666,\"#ed7953\"],[0.7777777777777778,\"#fb9f3a\"],[0.8888888888888888,\"#fdca26\"],[1.0,\"#f0f921\"]],\"diverging\":[[0,\"#8e0152\"],[0.1,\"#c51b7d\"],[0.2,\"#de77ae\"],[0.3,\"#f1b6da\"],[0.4,\"#fde0ef\"],[0.5,\"#f7f7f7\"],[0.6,\"#e6f5d0\"],[0.7,\"#b8e186\"],[0.8,\"#7fbc41\"],[0.9,\"#4d9221\"],[1,\"#276419\"]]},\"xaxis\":{\"gridcolor\":\"white\",\"linecolor\":\"white\",\"ticks\":\"\",\"title\":{\"standoff\":15},\"zerolinecolor\":\"white\",\"automargin\":true,\"zerolinewidth\":2},\"yaxis\":{\"gridcolor\":\"white\",\"linecolor\":\"white\",\"ticks\":\"\",\"title\":{\"standoff\":15},\"zerolinecolor\":\"white\",\"automargin\":true,\"zerolinewidth\":2},\"scene\":{\"xaxis\":{\"backgroundcolor\":\"#E5ECF6\",\"gridcolor\":\"white\",\"linecolor\":\"white\",\"showbackground\":true,\"ticks\":\"\",\"zerolinecolor\":\"white\",\"gridwidth\":2},\"yaxis\":{\"backgroundcolor\":\"#E5ECF6\",\"gridcolor\":\"white\",\"linecolor\":\"white\",\"showbackground\":true,\"ticks\":\"\",\"zerolinecolor\":\"white\",\"gridwidth\":2},\"zaxis\":{\"backgroundcolor\":\"#E5ECF6\",\"gridcolor\":\"white\",\"linecolor\":\"white\",\"showbackground\":true,\"ticks\":\"\",\"zerolinecolor\":\"white\",\"gridwidth\":2}},\"shapedefaults\":{\"line\":{\"color\":\"#2a3f5f\"}},\"annotationdefaults\":{\"arrowcolor\":\"#2a3f5f\",\"arrowhead\":0,\"arrowwidth\":1},\"geo\":{\"bgcolor\":\"white\",\"landcolor\":\"#E5ECF6\",\"subunitcolor\":\"white\",\"showland\":true,\"showlakes\":true,\"lakecolor\":\"white\"},\"title\":{\"x\":0.05},\"mapbox\":{\"style\":\"light\"}}},\"xaxis\":{\"anchor\":\"y\",\"domain\":[0.0,1.0],\"title\":{\"text\":\"Height\"}},\"yaxis\":{\"anchor\":\"x\",\"domain\":[0.0,1.0],\"title\":{\"text\":\"count\"}},\"legend\":{\"title\":{\"text\":\"Sex\"},\"tracegroupgap\":0},\"title\":{\"text\":\"Histogram of Heights by Sex\"},\"barmode\":\"overlay\"},                        {\"responsive\": true}                    ).then(function(){\n",
       "                            \n",
       "var gd = document.getElementById('4e88a009-aa25-444b-b11e-b0c541a07d5c');\n",
       "var x = new MutationObserver(function (mutations, observer) {{\n",
       "        var display = window.getComputedStyle(gd).display;\n",
       "        if (!display || display === 'none') {{\n",
       "            console.log([gd, 'removed!']);\n",
       "            Plotly.purge(gd);\n",
       "            observer.disconnect();\n",
       "        }}\n",
       "}});\n",
       "\n",
       "// Listen for the removal of the full notebook cells\n",
       "var notebookContainer = gd.closest('#notebook-container');\n",
       "if (notebookContainer) {{\n",
       "    x.observe(notebookContainer, {childList: true});\n",
       "}}\n",
       "\n",
       "// Listen for the clearing of the current output cell\n",
       "var outputEl = gd.closest('.output');\n",
       "if (outputEl) {{\n",
       "    x.observe(outputEl, {childList: true});\n",
       "}}\n",
       "\n",
       "                        })                };                });            </script>        </div>"
      ]
     },
     "metadata": {},
     "output_type": "display_data"
    }
   ],
   "source": [
    "#sex of adult histogram chart\n",
    "px.histogram(adults, x=\"Height\", color=\"Sex\", barmode= \"overlay\", nbins=30, title=\"Histogram of Heights by Sex\")"
   ]
  },
  {
   "cell_type": "code",
   "execution_count": null,
   "id": "e50608a0-50f2-4c99-8867-981a559c5dde",
   "metadata": {},
   "outputs": [],
   "source": []
  }
 ],
 "metadata": {
  "kernelspec": {
   "display_name": "Python 3 (ipykernel)",
   "language": "python",
   "name": "python3"
  },
  "language_info": {
   "codemirror_mode": {
    "name": "ipython",
    "version": 3
   },
   "file_extension": ".py",
   "mimetype": "text/x-python",
   "name": "python",
   "nbconvert_exporter": "python",
   "pygments_lexer": "ipython3",
   "version": "3.13.1"
  }
 },
 "nbformat": 4,
 "nbformat_minor": 5
}
