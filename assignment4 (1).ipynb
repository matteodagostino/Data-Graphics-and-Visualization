{
 "cells": [
  {
   "cell_type": "code",
   "execution_count": 1,
   "id": "3e66c32a-d48c-4f05-add4-a8c8b40fcc8f",
   "metadata": {},
   "outputs": [],
   "source": [
    "#import libraries to be used\n",
    "import yfinance as yf\n",
    "import pandas as pd\n",
    "import matplotlib.pyplot as plt"
   ]
  },
  {
   "cell_type": "code",
   "execution_count": 2,
   "id": "2cbcc241-8979-416f-bfab-e7b32750b1f9",
   "metadata": {},
   "outputs": [],
   "source": [
    "#define presidents and their starting dates\n",
    "presidents = {\n",
    "    \"Bill Clinton\": \"01-20-1993\",\n",
    "    \"George Bush\": \"01-20-2001\",\n",
    "    \"Barrack Obama\": \"01-20-2009\",\n",
    "    \"Donald Trump\": \"01-20-2017\",\n",
    "    \"Joe Biden\": \"01-20-2021\"\n",
    "}"
   ]
  },
  {
   "cell_type": "code",
   "execution_count": 3,
   "id": "4dc65a2d-9cae-4203-b9a3-0c54b2fbd3e9",
   "metadata": {},
   "outputs": [
    {
     "name": "stderr",
     "output_type": "stream",
     "text": [
      "[*********************100%***********************]  1 of 1 completed\n",
      "\n",
      "1 Failed download:\n",
      "['^GSPC']: YFRateLimitError('Too Many Requests. Rate limited. Try after a while.')\n"
     ]
    },
    {
     "ename": "IndexError",
     "evalue": "single positional indexer is out-of-bounds",
     "output_type": "error",
     "traceback": [
      "\u001b[1;31m---------------------------------------------------------------------------\u001b[0m",
      "\u001b[1;31mIndexError\u001b[0m                                Traceback (most recent call last)",
      "Cell \u001b[1;32mIn[3], line 13\u001b[0m\n\u001b[0;32m     11\u001b[0m data[\u001b[38;5;124m\"\u001b[39m\u001b[38;5;124mName\u001b[39m\u001b[38;5;124m\"\u001b[39m] \u001b[38;5;241m=\u001b[39m name\n\u001b[0;32m     12\u001b[0m data[\u001b[38;5;124m\"\u001b[39m\u001b[38;5;124mDay\u001b[39m\u001b[38;5;124m\"\u001b[39m] \u001b[38;5;241m=\u001b[39m (data[\u001b[38;5;124m\"\u001b[39m\u001b[38;5;124mDate\u001b[39m\u001b[38;5;124m\"\u001b[39m] \u001b[38;5;241m-\u001b[39m startDate)\u001b[38;5;241m.\u001b[39mdt\u001b[38;5;241m.\u001b[39mdays\n\u001b[1;32m---> 13\u001b[0m firstDayClose \u001b[38;5;241m=\u001b[39m \u001b[43mdata\u001b[49m\u001b[38;5;241;43m.\u001b[39;49m\u001b[43miloc\u001b[49m\u001b[43m[\u001b[49m\u001b[38;5;241;43m0\u001b[39;49m\u001b[43m]\u001b[49m[\u001b[38;5;124m\"\u001b[39m\u001b[38;5;124mClose\u001b[39m\u001b[38;5;124m\"\u001b[39m]\n\u001b[0;32m     14\u001b[0m data[\u001b[38;5;124m\"\u001b[39m\u001b[38;5;124mPercent Change\u001b[39m\u001b[38;5;124m\"\u001b[39m] \u001b[38;5;241m=\u001b[39m \u001b[38;5;241m100\u001b[39m \u001b[38;5;241m*\u001b[39m (data[\u001b[38;5;124m\"\u001b[39m\u001b[38;5;124mClose\u001b[39m\u001b[38;5;124m\"\u001b[39m] \u001b[38;5;241m-\u001b[39m firstDayClose) \u001b[38;5;241m/\u001b[39m firstDayClose\n\u001b[0;32m     15\u001b[0m \u001b[38;5;66;03m#select revenant columns\u001b[39;00m\n",
      "File \u001b[1;32mC:\\Python313\\Lib\\site-packages\\pandas\\core\\indexing.py:1191\u001b[0m, in \u001b[0;36m_LocationIndexer.__getitem__\u001b[1;34m(self, key)\u001b[0m\n\u001b[0;32m   1189\u001b[0m maybe_callable \u001b[38;5;241m=\u001b[39m com\u001b[38;5;241m.\u001b[39mapply_if_callable(key, \u001b[38;5;28mself\u001b[39m\u001b[38;5;241m.\u001b[39mobj)\n\u001b[0;32m   1190\u001b[0m maybe_callable \u001b[38;5;241m=\u001b[39m \u001b[38;5;28mself\u001b[39m\u001b[38;5;241m.\u001b[39m_check_deprecated_callable_usage(key, maybe_callable)\n\u001b[1;32m-> 1191\u001b[0m \u001b[38;5;28;01mreturn\u001b[39;00m \u001b[38;5;28;43mself\u001b[39;49m\u001b[38;5;241;43m.\u001b[39;49m\u001b[43m_getitem_axis\u001b[49m\u001b[43m(\u001b[49m\u001b[43mmaybe_callable\u001b[49m\u001b[43m,\u001b[49m\u001b[43m \u001b[49m\u001b[43maxis\u001b[49m\u001b[38;5;241;43m=\u001b[39;49m\u001b[43maxis\u001b[49m\u001b[43m)\u001b[49m\n",
      "File \u001b[1;32mC:\\Python313\\Lib\\site-packages\\pandas\\core\\indexing.py:1752\u001b[0m, in \u001b[0;36m_iLocIndexer._getitem_axis\u001b[1;34m(self, key, axis)\u001b[0m\n\u001b[0;32m   1749\u001b[0m     \u001b[38;5;28;01mraise\u001b[39;00m \u001b[38;5;167;01mTypeError\u001b[39;00m(\u001b[38;5;124m\"\u001b[39m\u001b[38;5;124mCannot index by location index with a non-integer key\u001b[39m\u001b[38;5;124m\"\u001b[39m)\n\u001b[0;32m   1751\u001b[0m \u001b[38;5;66;03m# validate the location\u001b[39;00m\n\u001b[1;32m-> 1752\u001b[0m \u001b[38;5;28;43mself\u001b[39;49m\u001b[38;5;241;43m.\u001b[39;49m\u001b[43m_validate_integer\u001b[49m\u001b[43m(\u001b[49m\u001b[43mkey\u001b[49m\u001b[43m,\u001b[49m\u001b[43m \u001b[49m\u001b[43maxis\u001b[49m\u001b[43m)\u001b[49m\n\u001b[0;32m   1754\u001b[0m \u001b[38;5;28;01mreturn\u001b[39;00m \u001b[38;5;28mself\u001b[39m\u001b[38;5;241m.\u001b[39mobj\u001b[38;5;241m.\u001b[39m_ixs(key, axis\u001b[38;5;241m=\u001b[39maxis)\n",
      "File \u001b[1;32mC:\\Python313\\Lib\\site-packages\\pandas\\core\\indexing.py:1685\u001b[0m, in \u001b[0;36m_iLocIndexer._validate_integer\u001b[1;34m(self, key, axis)\u001b[0m\n\u001b[0;32m   1683\u001b[0m len_axis \u001b[38;5;241m=\u001b[39m \u001b[38;5;28mlen\u001b[39m(\u001b[38;5;28mself\u001b[39m\u001b[38;5;241m.\u001b[39mobj\u001b[38;5;241m.\u001b[39m_get_axis(axis))\n\u001b[0;32m   1684\u001b[0m \u001b[38;5;28;01mif\u001b[39;00m key \u001b[38;5;241m>\u001b[39m\u001b[38;5;241m=\u001b[39m len_axis \u001b[38;5;129;01mor\u001b[39;00m key \u001b[38;5;241m<\u001b[39m \u001b[38;5;241m-\u001b[39mlen_axis:\n\u001b[1;32m-> 1685\u001b[0m     \u001b[38;5;28;01mraise\u001b[39;00m \u001b[38;5;167;01mIndexError\u001b[39;00m(\u001b[38;5;124m\"\u001b[39m\u001b[38;5;124msingle positional indexer is out-of-bounds\u001b[39m\u001b[38;5;124m\"\u001b[39m)\n",
      "\u001b[1;31mIndexError\u001b[0m: single positional indexer is out-of-bounds"
     ]
    }
   ],
   "source": [
    "#get the data for each president \n",
    "dfs = []\n",
    "for name, startDate in presidents.items():\n",
    "    startDate = pd.to_datetime(startDate)\n",
    "    endDate = startDate + pd.DateOffset(years=1)\n",
    "    #download data\n",
    "    data = yf.download(\"^GSPC\", start = startDate, end = endDate)\n",
    "    #reset the index\n",
    "    data.reset_index(inplace = True)\n",
    "    #make new columns\n",
    "    data[\"Name\"] = name\n",
    "    data[\"Day\"] = (data[\"Date\"] - startDate).dt.days\n",
    "    firstDayClose = data.iloc[0][\"Close\"]\n",
    "    data[\"Percent Change\"] = 100 * (data[\"Close\"] - firstDayClose) / firstDayClose\n",
    "    #select revenant columns\n",
    "    dfs.append(data[[\"Name\", \"Day\", \"Date\", \"Close\", \"Percent Change\"]])"
   ]
  },
  {
   "cell_type": "code",
   "execution_count": null,
   "id": "245b911b-65df-425c-9eff-857c1be69711",
   "metadata": {},
   "outputs": [],
   "source": [
    "#Combine everything into one DataFrame\n",
    "dfAll = pd.concat(dfs, ignore_index = True)"
   ]
  },
  {
   "cell_type": "code",
   "execution_count": null,
   "id": "3776b0d6-0918-40c4-aab0-25f202267ca1",
   "metadata": {},
   "outputs": [],
   "source": [
    "#plotting biden S&P\n",
    "# Filter Biden's data\n",
    "dfBiden = dfAll[dfAll[\"Name\"] == \"Joe Biden\"]\n",
    "\n",
    "#plot\n",
    "plt.figure(figsize=(10, 5))\n",
    "plt.plot(dfBiden[\"Date\"], dfBiden[\"Close\"], label=\"Joe Biden\", color=\"blue\")\n",
    "plt.xlabel(\"Date\")\n",
    "plt.ylabel(\"S&P 500 Closing Price\")\n",
    "plt.title(\"S&P 500 Performance in the First Year of Joe Biden’s Presidency\")\n",
    "plt.legend()\n",
    "plt.grid()\n",
    "plt.show()\n"
   ]
  },
  {
   "cell_type": "code",
   "execution_count": null,
   "id": "396204f5-58ad-41c3-ae03-015756ff9dc1",
   "metadata": {},
   "outputs": [],
   "source": [
    "#plotting SP for each president\n",
    "plt.figure(figsize=(12, 6))\n",
    "\n",
    "#loop through each president and plot percent change\n",
    "for name in presidents.keys():\n",
    "    dfPresident = dfAll[dfAll[\"Name\"] == name]\n",
    "    plt.plot(dfPresident[\"Day\"], dfPresident[\"Percent Change\"], label=name, linewidth=2)\n",
    "\n",
    "#formatting the plot\n",
    "plt.xlabel(\"Days Since Inauguration\")\n",
    "plt.ylabel(\"S&P 500 Percent Change (%)\")\n",
    "plt.title(\"S&P 500 First Year Performance for the Last 5 Presidents\")\n",
    "plt.axhline(y=0, color='black', linestyle='--', linewidth=1)  # Add horizontal line at 0%\n",
    "plt.legend(title=\"President\")\n",
    "plt.grid(True, linestyle=\"--\", alpha=0.7)\n",
    "\n",
    "#show the plot\n",
    "plt.show()\n",
    "\n"
   ]
  },
  {
   "cell_type": "code",
   "execution_count": null,
   "id": "81c908d0-d692-41b1-bea2-bcbd2d813dc2",
   "metadata": {},
   "outputs": [],
   "source": []
  }
 ],
 "metadata": {
  "kernelspec": {
   "display_name": "Python 3 (ipykernel)",
   "language": "python",
   "name": "python3"
  },
  "language_info": {
   "codemirror_mode": {
    "name": "ipython",
    "version": 3
   },
   "file_extension": ".py",
   "mimetype": "text/x-python",
   "name": "python",
   "nbconvert_exporter": "python",
   "pygments_lexer": "ipython3",
   "version": "3.13.1"
  }
 },
 "nbformat": 4,
 "nbformat_minor": 5
}
