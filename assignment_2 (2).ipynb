{
 "cells": [
  {
   "cell_type": "code",
   "execution_count": 137,
   "id": "6ab8fa12-bb78-4ff9-a431-d6d51101d5ec",
   "metadata": {},
   "outputs": [],
   "source": [
    "import pandas"
   ]
  },
  {
   "cell_type": "code",
   "execution_count": 138,
   "id": "cdf14efd-ca79-46ba-93e8-c5724411f81e",
   "metadata": {},
   "outputs": [
    {
     "name": "stdout",
     "output_type": "stream",
     "text": [
      "       year  datanum     serial   hhwt                                gq  \\\n",
      "0      2000        4       37.0  100.0  Households under 1970 definition   \n",
      "1      2000        4       37.0  100.0  Households under 1970 definition   \n",
      "2      2000        4       37.0  100.0  Households under 1970 definition   \n",
      "3      2000        4      241.0  100.0  Households under 1970 definition   \n",
      "4      2000        4      242.0  100.0  Households under 1970 definition   \n",
      "...     ...      ...        ...    ...                               ...   \n",
      "28167  2000        4  1236624.0  100.0  Households under 1970 definition   \n",
      "28168  2000        4  1236624.0  100.0  Households under 1970 definition   \n",
      "28169  2000        4  1236756.0  100.0  Households under 1970 definition   \n",
      "28170  2000        4  1236756.0  100.0  Households under 1970 definition   \n",
      "28171  2000        4  1236779.0  100.0  Households under 1970 definition   \n",
      "\n",
      "      us2000c_serialno  pernum  perwt us2000c_pnum us2000c_sex us2000c_age  \\\n",
      "0              0365663       1  100.0           01           2          20   \n",
      "1              0365663       2  100.0           02           2          19   \n",
      "2              0365663       3  100.0           03           2          19   \n",
      "3              2894822       1  100.0           01           2          50   \n",
      "4              2896802       1  100.0           01           2          29   \n",
      "...                ...     ...    ...          ...         ...         ...   \n",
      "28167          7055193       1  100.0           01           1          29   \n",
      "28168          7055193       2  100.0           02           2          26   \n",
      "28169          8489120       1  100.0           01           2          58   \n",
      "28170          8489120       2  100.0           02           1          61   \n",
      "28171          8733299       1  100.0           01           1          30   \n",
      "\n",
      "      us2000c_hispan us2000c_race1 us2000c_marstat us2000c_educ us2000c_inctot  \n",
      "0                 01             1               5           11        0010000  \n",
      "1                 01             1               5           11        0005300  \n",
      "2                 01             2               5           11        0004700  \n",
      "3                 01             1               5           14        0032500  \n",
      "4                 01             1               5           13        0030000  \n",
      "...              ...           ...             ...          ...            ...  \n",
      "28167             01             1               1           11        0050100  \n",
      "28168             01             1               1           09        0012000  \n",
      "28169             01             1               1           14        0069800  \n",
      "28170             01             1               1           14        0040800  \n",
      "28171             01             3               3           09        0022110  \n",
      "\n",
      "[28172 rows x 16 columns]\n"
     ]
    }
   ],
   "source": [
    "#reading in datafile \n",
    "DataFile = pandas.read_stata('2000_acs_sample.dta')\n",
    "print(DataFile)"
   ]
  },
  {
   "cell_type": "code",
   "execution_count": 139,
   "id": "d011856b-3bb0-4530-ba54-0c24d213b681",
   "metadata": {},
   "outputs": [
    {
     "name": "stdout",
     "output_type": "stream",
     "text": [
      "Index(['year', 'datanum', 'serial', 'hhwt', 'gq', 'us2000c_serialno', 'pernum',\n",
      "       'perwt', 'us2000c_pnum', 'us2000c_sex', 'us2000c_age', 'us2000c_hispan',\n",
      "       'us2000c_race1', 'us2000c_marstat', 'us2000c_educ', 'us2000c_inctot'],\n",
      "      dtype='object')\n"
     ]
    }
   ],
   "source": [
    "#to see all column names\n",
    "print(DataFile.columns)"
   ]
  },
  {
   "cell_type": "code",
   "execution_count": 140,
   "id": "6c5a54f0-6b2a-4113-b52c-50e5f71553a9",
   "metadata": {},
   "outputs": [
    {
     "name": "stdout",
     "output_type": "stream",
     "text": [
      "year                    1\n",
      "datanum                 1\n",
      "serial              11327\n",
      "hhwt                    1\n",
      "gq                      4\n",
      "us2000c_serialno    11067\n",
      "pernum                 16\n",
      "perwt                   1\n",
      "us2000c_pnum           16\n",
      "us2000c_sex             2\n",
      "us2000c_age            92\n",
      "us2000c_hispan         22\n",
      "us2000c_race1           9\n",
      "us2000c_marstat         5\n",
      "us2000c_educ           17\n",
      "us2000c_inctot       2647\n",
      "dtype: int64\n"
     ]
    }
   ],
   "source": [
    "#to find columns and their values\n",
    "CountUnique = DataFile.nunique()\n",
    "print(CountUnique)"
   ]
  },
  {
   "cell_type": "code",
   "execution_count": 141,
   "id": "ba928426-e400-45fb-aea1-fec5e6c790ea",
   "metadata": {},
   "outputs": [
    {
     "name": "stdout",
     "output_type": "stream",
     "text": [
      "Index(['year', 'datanum', 'hhwt', 'perwt'], dtype='object')\n"
     ]
    }
   ],
   "source": [
    "#find columns where the count is 1 by indexing for the values that are 1\n",
    "ColumnsWithSingleValue = CountUnique[CountUnique == 1].index\n",
    "print(ColumnsWithSingleValue)"
   ]
  },
  {
   "cell_type": "code",
   "execution_count": 142,
   "id": "4e57e4c3-4e8f-43ac-acc5-da789f6de2ca",
   "metadata": {},
   "outputs": [
    {
     "name": "stdout",
     "output_type": "stream",
     "text": [
      "          serial                                gq us2000c_serialno  pernum  \\\n",
      "0           37.0  Households under 1970 definition          0365663       1   \n",
      "1           37.0  Households under 1970 definition          0365663       2   \n",
      "2           37.0  Households under 1970 definition          0365663       3   \n",
      "3          241.0  Households under 1970 definition          2894822       1   \n",
      "4          242.0  Households under 1970 definition          2896802       1   \n",
      "...          ...                               ...              ...     ...   \n",
      "28167  1236624.0  Households under 1970 definition          7055193       1   \n",
      "28168  1236624.0  Households under 1970 definition          7055193       2   \n",
      "28169  1236756.0  Households under 1970 definition          8489120       1   \n",
      "28170  1236756.0  Households under 1970 definition          8489120       2   \n",
      "28171  1236779.0  Households under 1970 definition          8733299       1   \n",
      "\n",
      "      us2000c_pnum us2000c_sex us2000c_age us2000c_hispan us2000c_race1  \\\n",
      "0               01           2          20             01             1   \n",
      "1               02           2          19             01             1   \n",
      "2               03           2          19             01             2   \n",
      "3               01           2          50             01             1   \n",
      "4               01           2          29             01             1   \n",
      "...            ...         ...         ...            ...           ...   \n",
      "28167           01           1          29             01             1   \n",
      "28168           02           2          26             01             1   \n",
      "28169           01           2          58             01             1   \n",
      "28170           02           1          61             01             1   \n",
      "28171           01           1          30             01             3   \n",
      "\n",
      "      us2000c_marstat us2000c_educ us2000c_inctot  \n",
      "0                   5           11        0010000  \n",
      "1                   5           11        0005300  \n",
      "2                   5           11        0004700  \n",
      "3                   5           14        0032500  \n",
      "4                   5           13        0030000  \n",
      "...               ...          ...            ...  \n",
      "28167               1           11        0050100  \n",
      "28168               1           09        0012000  \n",
      "28169               1           14        0069800  \n",
      "28170               1           14        0040800  \n",
      "28171               3           09        0022110  \n",
      "\n",
      "[28172 rows x 12 columns]\n"
     ]
    }
   ],
   "source": [
    "#dropping the values that are 1\n",
    "DataFile = DataFile.drop(columns = ColumnsWithSingleValue)\n",
    "print(DataFile)"
   ]
  },
  {
   "cell_type": "code",
   "execution_count": 143,
   "id": "a73f90b3-ac21-4ee7-b434-3bb69e34e13c",
   "metadata": {},
   "outputs": [
    {
     "name": "stdout",
     "output_type": "stream",
     "text": [
      "       Household                                gq us2000c_serialno  Person  \\\n",
      "0           37.0  Households under 1970 definition          0365663       1   \n",
      "1           37.0  Households under 1970 definition          0365663       2   \n",
      "2           37.0  Households under 1970 definition          0365663       3   \n",
      "3          241.0  Households under 1970 definition          2894822       1   \n",
      "4          242.0  Households under 1970 definition          2896802       1   \n",
      "...          ...                               ...              ...     ...   \n",
      "28167  1236624.0  Households under 1970 definition          7055193       1   \n",
      "28168  1236624.0  Households under 1970 definition          7055193       2   \n",
      "28169  1236756.0  Households under 1970 definition          8489120       1   \n",
      "28170  1236756.0  Households under 1970 definition          8489120       2   \n",
      "28171  1236779.0  Households under 1970 definition          8733299       1   \n",
      "\n",
      "      us2000c_pnum Sex age Hispanic Race marital_status edu   Income  \n",
      "0               01   2  20       01    1              5  11  0010000  \n",
      "1               02   2  19       01    1              5  11  0005300  \n",
      "2               03   2  19       01    2              5  11  0004700  \n",
      "3               01   2  50       01    1              5  14  0032500  \n",
      "4               01   2  29       01    1              5  13  0030000  \n",
      "...            ...  ..  ..      ...  ...            ...  ..      ...  \n",
      "28167           01   1  29       01    1              1  11  0050100  \n",
      "28168           02   2  26       01    1              1  09  0012000  \n",
      "28169           01   2  58       01    1              1  14  0069800  \n",
      "28170           02   1  61       01    1              1  14  0040800  \n",
      "28171           01   1  30       01    3              3  09  0022110  \n",
      "\n",
      "[28172 rows x 12 columns]\n"
     ]
    }
   ],
   "source": [
    "#creating a function to rename the specific values\n",
    "NewMapping = {\n",
    "    'serial': 'Household',\n",
    "    'pernum': 'Person',\n",
    "    'us2000c_sex': 'Sex',\n",
    "    'us2000c_age': 'age',\n",
    "    'us2000c_hispan': 'Hispanic',\n",
    "    'us2000c_race1': 'Race',\n",
    "    'us2000c_marstat': 'marital_status',\n",
    "    'us2000c_educ': 'edu',\n",
    "    'us2000c_inctot': 'Income'\n",
    "}\n",
    "#updates the datafile and properly renames using .rename\n",
    "DataFile = DataFile.rename(columns = NewMapping)\n",
    "print(DataFile)"
   ]
  },
  {
   "cell_type": "code",
   "execution_count": 144,
   "id": "da3957e4-41d2-4b89-81ef-3694332a4dc8",
   "metadata": {},
   "outputs": [
    {
     "name": "stdout",
     "output_type": "stream",
     "text": [
      "Index(['Household', 'gq', 'us2000c_serialno', 'Person', 'us2000c_pnum', 'Sex',\n",
      "       'age', 'Hispanic', 'Race', 'marital_status', 'edu', 'Income'],\n",
      "      dtype='object')\n",
      "   Household                                gq us2000c_serialno  Person  \\\n",
      "0       37.0  Households under 1970 definition          0365663       1   \n",
      "1       37.0  Households under 1970 definition          0365663       2   \n",
      "2       37.0  Households under 1970 definition          0365663       3   \n",
      "3      241.0  Households under 1970 definition          2894822       1   \n",
      "4      242.0  Households under 1970 definition          2896802       1   \n",
      "\n",
      "  us2000c_pnum Sex age Hispanic Race marital_status edu   Income  \n",
      "0           01   2  20       01    1              5  11  0010000  \n",
      "1           02   2  19       01    1              5  11  0005300  \n",
      "2           03   2  19       01    2              5  11  0004700  \n",
      "3           01   2  50       01    1              5  14  0032500  \n",
      "4           01   2  29       01    1              5  13  0030000  \n"
     ]
    }
   ],
   "source": [
    "#Checking if changes were made properly \n",
    "print(DataFile.columns)\n",
    "print(DataFile.head())"
   ]
  },
  {
   "cell_type": "code",
   "execution_count": 145,
   "id": "ca5ddbbe-3e93-498b-848c-7c339516c30e",
   "metadata": {},
   "outputs": [
    {
     "name": "stdout",
     "output_type": "stream",
     "text": [
      "Index(['Household', 'gq', 'Person', 'Sex', 'age', 'Hispanic', 'Race',\n",
      "       'marital_status', 'edu', 'Income'],\n",
      "      dtype='object')\n",
      "   Household                                gq  Person Sex age Hispanic Race  \\\n",
      "0       37.0  Households under 1970 definition       1   2  20       01    1   \n",
      "1       37.0  Households under 1970 definition       2   2  19       01    1   \n",
      "2       37.0  Households under 1970 definition       3   2  19       01    2   \n",
      "3      241.0  Households under 1970 definition       1   2  50       01    1   \n",
      "4      242.0  Households under 1970 definition       1   2  29       01    1   \n",
      "\n",
      "  marital_status edu   Income  \n",
      "0              5  11  0010000  \n",
      "1              5  11  0005300  \n",
      "2              5  11  0004700  \n",
      "3              5  14  0032500  \n",
      "4              5  13  0030000  \n"
     ]
    }
   ],
   "source": [
    "#dropping specific values \n",
    "DroppingColumns = ['us2000c_pnum', 'us2000c_serialno']\n",
    "DataFile = DataFile.drop(DroppingColumns, axis=1)\n",
    "print(DataFile.columns)\n",
    "print(DataFile.head())"
   ]
  },
  {
   "cell_type": "code",
   "execution_count": 146,
   "id": "4be91543-28a7-4f50-a4d9-81739adb0ee7",
   "metadata": {},
   "outputs": [
    {
     "name": "stdout",
     "output_type": "stream",
     "text": [
      "<class 'pandas.core.frame.DataFrame'>\n",
      "RangeIndex: 28172 entries, 0 to 28171\n",
      "Data columns (total 10 columns):\n",
      " #   Column          Non-Null Count  Dtype   \n",
      "---  ------          --------------  -----   \n",
      " 0   Household       28172 non-null  float64 \n",
      " 1   gq              28172 non-null  category\n",
      " 2   Person          28172 non-null  int16   \n",
      " 3   Sex             28172 non-null  object  \n",
      " 4   age             28172 non-null  object  \n",
      " 5   Hispanic        28172 non-null  object  \n",
      " 6   Race            28172 non-null  object  \n",
      " 7   marital_status  28172 non-null  object  \n",
      " 8   edu             28172 non-null  object  \n",
      " 9   Income          28172 non-null  object  \n",
      "dtypes: category(1), float64(1), int16(1), object(7)\n",
      "memory usage: 1.8+ MB\n",
      "None\n"
     ]
    }
   ],
   "source": [
    "#print info \n",
    "print(DataFile.info())"
   ]
  },
  {
   "cell_type": "code",
   "execution_count": 147,
   "id": "f38f367f-54a1-4207-91f0-180572edb3b5",
   "metadata": {},
   "outputs": [
    {
     "name": "stdout",
     "output_type": "stream",
     "text": [
      "<class 'pandas.core.frame.DataFrame'>\n",
      "RangeIndex: 28172 entries, 0 to 28171\n",
      "Data columns (total 10 columns):\n",
      " #   Column          Non-Null Count  Dtype   \n",
      "---  ------          --------------  -----   \n",
      " 0   Household       28172 non-null  float64 \n",
      " 1   gq              28172 non-null  category\n",
      " 2   Person          28172 non-null  int16   \n",
      " 3   Sex             28172 non-null  object  \n",
      " 4   age             28172 non-null  object  \n",
      " 5   Hispanic        28172 non-null  object  \n",
      " 6   Race            28172 non-null  object  \n",
      " 7   marital_status  28172 non-null  object  \n",
      " 8   edu             28172 non-null  object  \n",
      " 9   Income          22015 non-null  float64 \n",
      "dtypes: category(1), float64(2), int16(1), object(6)\n",
      "memory usage: 1.8+ MB\n",
      "None\n"
     ]
    }
   ],
   "source": [
    "#change type of income column to number \n",
    "DataFile['Income'] = pandas.to_numeric(DataFile['Income'], errors = 'coerce')\n",
    "#checking if the income Dtype changed properly \n",
    "print(DataFile.info('Income'))"
   ]
  },
  {
   "cell_type": "code",
   "execution_count": 148,
   "id": "9a325fe7-857b-47f0-b7ad-6010c6ce0344",
   "metadata": {},
   "outputs": [
    {
     "name": "stdout",
     "output_type": "stream",
     "text": [
      "  Sex marital_status\n",
      "0   2              5\n",
      "1   2              5\n",
      "2   2              5\n",
      "3   2              5\n",
      "4   2              5\n"
     ]
    }
   ],
   "source": [
    "#Create Mapping from txt file \n",
    "SexMapping = {\n",
    "    1: 'Male', 2: 'Female'\n",
    "}\n",
    "\n",
    "MaritalStatus = {\n",
    "    1: 'Now married',\n",
    "    2: 'Widowed', \n",
    "    3: 'Divorced', \n",
    "    4: 'Separated',\n",
    "    5: 'Never married (includes under 15 years)' \n",
    "}\n",
    "#Now replace the values in those current columns with these values\n",
    "DataFile['Sex'] = DataFile['Sex'].replace(SexMapping)\n",
    "DataFile['marital_status'] = DataFile['marital_status'].replace(MaritalStatus)\n",
    "#Check if columns were updated correctly \n",
    "print(DataFile[['Sex', 'marital_status']].head())"
   ]
  },
  {
   "cell_type": "code",
   "execution_count": 149,
   "id": "0b19a323-567f-47ff-ba32-57ae99192804",
   "metadata": {},
   "outputs": [
    {
     "name": "stdout",
     "output_type": "stream",
     "text": [
      "0.0\n",
      "0        10000.0\n",
      "1         5300.0\n",
      "2         4700.0\n",
      "3        32500.0\n",
      "4        30000.0\n",
      "          ...   \n",
      "28167    50100.0\n",
      "28168    12000.0\n",
      "28169    69800.0\n",
      "28170    40800.0\n",
      "28171    22110.0\n",
      "Name: Income, Length: 28172, dtype: float64\n"
     ]
    }
   ],
   "source": [
    "#check what the mode value is before replacing the NaN with the value of mode \n",
    "ModeValue = DataFile['Income'].mode()[0]\n",
    "print(ModeValue)\n",
    "#ModeValue is 0.0 so we will replace all NaN with 0.0 by the fill built in method\n",
    "DataFile['Income'] = DataFile['Income'].fillna(ModeValue)\n",
    "print(DataFile['Income'])"
   ]
  },
  {
   "cell_type": "code",
   "execution_count": 151,
   "id": "83506736-5603-4656-b405-398c9897eff2",
   "metadata": {},
   "outputs": [
    {
     "name": "stdout",
     "output_type": "stream",
     "text": [
      "       Household                                gq  Person Sex age Hispanic  \\\n",
      "0           37.0  Households under 1970 definition       1   2  20       01   \n",
      "1           37.0  Households under 1970 definition       2   2  19       01   \n",
      "2           37.0  Households under 1970 definition       3   2  19       01   \n",
      "3          241.0  Households under 1970 definition       1   2  50       01   \n",
      "4          242.0  Households under 1970 definition       1   2  29       01   \n",
      "...          ...                               ...     ...  ..  ..      ...   \n",
      "28167  1236624.0  Households under 1970 definition       1   1  29       01   \n",
      "28168  1236624.0  Households under 1970 definition       2   2  26       01   \n",
      "28169  1236756.0  Households under 1970 definition       1   2  58       01   \n",
      "28170  1236756.0  Households under 1970 definition       2   1  61       01   \n",
      "28171  1236779.0  Households under 1970 definition       1   1  30       01   \n",
      "\n",
      "      Race marital_status edu   Income  \n",
      "0        1              5  11  10000.0  \n",
      "1        1              5  11   5300.0  \n",
      "2        2              5  11   4700.0  \n",
      "3        1              5  14  32500.0  \n",
      "4        1              5  13  30000.0  \n",
      "...    ...            ...  ..      ...  \n",
      "28167    1              1  11  50100.0  \n",
      "28168    1              1  09  12000.0  \n",
      "28169    1              1  14  69800.0  \n",
      "28170    1              1  14  40800.0  \n",
      "28171    3              3  09  22110.0  \n",
      "\n",
      "[28172 rows x 10 columns]\n"
     ]
    }
   ],
   "source": [
    "#orint final datafile\n",
    "print(DataFile)"
   ]
  }
 ],
 "metadata": {
  "kernelspec": {
   "display_name": "Python 3 (ipykernel)",
   "language": "python",
   "name": "python3"
  },
  "language_info": {
   "codemirror_mode": {
    "name": "ipython",
    "version": 3
   },
   "file_extension": ".py",
   "mimetype": "text/x-python",
   "name": "python",
   "nbconvert_exporter": "python",
   "pygments_lexer": "ipython3",
   "version": "3.13.1"
  }
 },
 "nbformat": 4,
 "nbformat_minor": 5
}
