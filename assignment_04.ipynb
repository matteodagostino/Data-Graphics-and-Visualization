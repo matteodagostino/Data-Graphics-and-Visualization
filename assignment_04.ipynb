{
 "cells": [
  {
   "cell_type": "code",
   "execution_count": 1,
   "id": "3e66c32a-d48c-4f05-add4-a8c8b40fcc8f",
   "metadata": {},
   "outputs": [],
   "source": [
    "#import libraries to be used\n",
    "import yfinance as yf\n",
    "import pandas as pd\n",
    "import matplotlib.pyplot as plt"
   ]
  },
  {
   "cell_type": "code",
   "execution_count": 2,
   "id": "2cbcc241-8979-416f-bfab-e7b32750b1f9",
   "metadata": {},
   "outputs": [],
   "source": [
    "#define presidents and their starting dates\n",
    "presidents = {\n",
    "    \"Bill Clinton\": \"01-20-1993\",\n",
    "    \"George Bush\": \"01-20-2001\",\n",
    "    \"Barrack Obama\": \"01-20-2009\",\n",
    "    \"Donald Trump\": \"01-20-2017\",\n",
    "    \"Joe Biden\": \"01-20-2021\"\n",
    "}"
   ]
  },
  {
   "cell_type": "code",
   "execution_count": 3,
   "id": "4dc65a2d-9cae-4203-b9a3-0c54b2fbd3e9",
   "metadata": {},
   "outputs": [
    {
     "name": "stderr",
     "output_type": "stream",
     "text": [
     
     ]
    }
   ],
   "source": [
    "#get the data for each president \n",
    "dfs = []\n",
    "for name, startDate in presidents.items():\n",
    "    startDate = pd.to_datetime(startDate)\n",
    "    endDate = startDate + pd.DateOffset(years=1)\n",
    "    #download data\n",
    "    data = yf.download(\"^GSPC\", start = startDate, end = endDate)\n",
    "    #reset the index\n",
    "    data.reset_index(inplace = True)\n",
    "    #make new columns\n",
    "    data[\"Name\"] = name\n",
    "    data[\"Day\"] = (data[\"Date\"] - startDate).dt.days\n",
    "    firstDayClose = data.iloc[0][\"Close\"]\n",
    "    data[\"Percent Change\"] = 100 * (data[\"Close\"] - firstDayClose) / firstDayClose\n",
    "    #select revenant columns\n",
    "    dfs.append(data[[\"Name\", \"Day\", \"Date\", \"Close\", \"Percent Change\"]])"
   ]
  },
  {
   "cell_type": "code",
   "execution_count": null,
   "id": "245b911b-65df-425c-9eff-857c1be69711",
   "metadata": {},
   "outputs": [],
   "source": [
    "#Combine everything into one DataFrame\n",
    "dfAll = pd.concat(dfs, ignore_index = True)"
   ]
  },
  {
   "cell_type": "code",
   "execution_count": null,
   "id": "3776b0d6-0918-40c4-aab0-25f202267ca1",
   "metadata": {},
   "outputs": [],
   "source": [
    "#plotting biden S&P\n",
    "# Filter Biden's data\n",
    "dfBiden = dfAll[dfAll[\"Name\"] == \"Joe Biden\"]\n",
    "\n",
    "#plot\n",
    "plt.figure(figsize=(10, 5))\n",
    "plt.plot(dfBiden[\"Date\"], dfBiden[\"Close\"], label=\"Joe Biden\", color=\"blue\")\n",
    "plt.xlabel(\"Date\")\n",
    "plt.ylabel(\"S&P 500 Closing Price\")\n",
    "plt.title(\"S&P 500 Performance in the First Year of Joe Biden’s Presidency\")\n",
    "plt.legend()\n",
    "plt.grid()\n",
    "plt.show()\n"
   ]
  },
  {
   "cell_type": "code",
   "execution_count": null,
   "id": "396204f5-58ad-41c3-ae03-015756ff9dc1",
   "metadata": {},
   "outputs": [],
   "source": [
    "#plotting SP for each president\n",
    "plt.figure(figsize=(12, 6))\n",
    "\n",
    "#loop through each president and plot percent change\n",
    "for name in presidents.keys():\n",
    "    dfPresident = dfAll[dfAll[\"Name\"] == name]\n",
    "    plt.plot(dfPresident[\"Day\"], dfPresident[\"Percent Change\"], label=name, linewidth=2)\n",
    "\n",
    "#formatting the plot\n",
    "plt.xlabel(\"Days Since Inauguration\")\n",
    "plt.ylabel(\"S&P 500 Percent Change (%)\")\n",
    "plt.title(\"S&P 500 First Year Performance for the Last 5 Presidents\")\n",
    "plt.axhline(y=0, color='black', linestyle='--', linewidth=1)  # Add horizontal line at 0%\n",
    "plt.legend(title=\"President\")\n",
    "plt.grid(True, linestyle=\"--\", alpha=0.7)\n",
    "\n",
    "#show the plot\n",
    "plt.show()\n",
    "\n"
   ]
  },
  {
   "cell_type": "code",
   "execution_count": null,
   "id": "81c908d0-d692-41b1-bea2-bcbd2d813dc2",
   "metadata": {},
   "outputs": [],
   "source": []
  }
 ],
 "metadata": {
  "kernelspec": {
   "display_name": "Python 3 (ipykernel)",
   "language": "python",
   "name": "python3"
  },
  "language_info": {
   "codemirror_mode": {
    "name": "ipython",
    "version": 3
   },
   "file_extension": ".py",
   "mimetype": "text/x-python",
   "name": "python",
   "nbconvert_exporter": "python",
   "pygments_lexer": "ipython3",
   "version": "3.13.1"
  }
 },
 "nbformat": 4,
 "nbformat_minor": 5
}
